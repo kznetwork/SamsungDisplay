{
 "cells": [
  {
   "cell_type": "markdown",
   "id": "37d32452-550d-41cd-9455-029aa357be55",
   "metadata": {
    "id": "37d32452-550d-41cd-9455-029aa357be55"
   },
   "source": [
    "# 『5과목』 AI와 딥러닝"
   ]
  },
  {
   "cell_type": "markdown",
   "id": "1a0d0306-40f3-4f50-b551-4e8055b8112d",
   "metadata": {
    "id": "1a0d0306-40f3-4f50-b551-4e8055b8112d"
   },
   "source": [
    "## Set Up"
   ]
  },
  {
   "cell_type": "code",
   "execution_count": 8,
   "id": "a65019a9-8c0d-43e5-a387-53988ee68ffe",
   "metadata": {
    "id": "a65019a9-8c0d-43e5-a387-53988ee68ffe"
   },
   "outputs": [],
   "source": [
    "import matplotlib.pyplot as plt\n",
    "import matplotlib\n",
    "matplotlib.rcParams['font.family'] = 'Malgun Gothic' # Windows\n",
    "# matplotlib.rcParams['font.family'] = 'AppleGothic' # Mac\n",
    "matplotlib.rcParams['font.size'] = 15 # 글자 크기\n",
    "matplotlib.rcParams['axes.unicode_minus'] = False # 한글 폰트 사용 시, 마이너스 글자가 깨지는 현상을 해결"
   ]
  },
  {
   "cell_type": "code",
   "execution_count": 2,
   "id": "b5def736-ee2d-43dc-af67-aa32f225e7f6",
   "metadata": {},
   "outputs": [
    {
     "name": "stdout",
     "output_type": "stream",
     "text": [
      "True\n"
     ]
    }
   ],
   "source": [
    "import tensorflow as tf\n",
    "\n",
    "print(tf.executing_eagerly())"
   ]
  },
  {
   "cell_type": "code",
   "execution_count": 3,
   "id": "d6a78df1-83d8-4cfd-aff8-778fac596528",
   "metadata": {},
   "outputs": [],
   "source": [
    "# import tensorflow as tf\n",
    "# tf.config.run_functions_eagerly(True)"
   ]
  },
  {
   "cell_type": "markdown",
   "id": "00c35950-457a-47d5-9dd3-1f6468e2ce4f",
   "metadata": {},
   "source": [
    "```\n",
    "if False :\n",
    "    \n",
    "import tensorflow as tf\n",
    "tf.config.run_functions_eagerly(True)\n",
    "\n",
    "재시작 후 다시 실행"
   ]
  },
  {
   "cell_type": "markdown",
   "id": "68ccdfe8-232c-4c80-b637-c881589990c8",
   "metadata": {
    "id": "68ccdfe8-232c-4c80-b637-c881589990c8"
   },
   "source": [
    "## RNN 실습"
   ]
  },
  {
   "cell_type": "code",
   "execution_count": 4,
   "id": "1624904b-589e-4d78-96ee-bb5a2b15b3c7",
   "metadata": {
    "id": "1624904b-589e-4d78-96ee-bb5a2b15b3c7",
    "outputId": "357943bc-b883-4359-b7e4-d819a1a7e86c",
    "scrolled": true
   },
   "outputs": [
    {
     "name": "stderr",
     "output_type": "stream",
     "text": [
      "c:\\DEV\\envs\\py3_10_tf\\lib\\site-packages\\keras\\src\\layers\\rnn\\rnn.py:199: UserWarning: Do not pass an `input_shape`/`input_dim` argument to a layer. When using Sequential models, prefer using an `Input(shape)` object as the first layer in the model instead.\n",
      "  super().__init__(**kwargs)\n"
     ]
    },
    {
     "name": "stdout",
     "output_type": "stream",
     "text": [
      "Epoch 1, Loss: 1.386613130569458, Accuracy: 0.0\n",
      "Epoch 2, Loss: 1.2563974857330322, Accuracy: 50.0\n",
      "Epoch 3, Loss: 1.1422088146209717, Accuracy: 100.0\n",
      "Epoch 4, Loss: 1.027370572090149, Accuracy: 75.0\n",
      "Epoch 5, Loss: 0.9176095128059387, Accuracy: 50.0\n",
      "Epoch 6, Loss: 0.8184590339660645, Accuracy: 75.0\n",
      "Epoch 7, Loss: 0.7308908700942993, Accuracy: 75.0\n",
      "Epoch 8, Loss: 0.6447954177856445, Accuracy: 75.0\n",
      "Epoch 9, Loss: 0.5494548678398132, Accuracy: 75.0\n",
      "Epoch 10, Loss: 0.45080137252807617, Accuracy: 100.0\n",
      "Epoch 11, Loss: 0.3626140356063843, Accuracy: 100.0\n",
      "Epoch 12, Loss: 0.283269464969635, Accuracy: 100.0\n",
      "Epoch 13, Loss: 0.20934784412384033, Accuracy: 100.0\n",
      "Epoch 14, Loss: 0.15492215752601624, Accuracy: 100.0\n",
      "Epoch 15, Loss: 0.11667323112487793, Accuracy: 100.0\n",
      "Epoch 16, Loss: 0.08430643379688263, Accuracy: 100.0\n",
      "Epoch 17, Loss: 0.05984513834118843, Accuracy: 100.0\n",
      "Epoch 18, Loss: 0.04343891888856888, Accuracy: 100.0\n",
      "Epoch 19, Loss: 0.03230142593383789, Accuracy: 100.0\n",
      "Epoch 20, Loss: 0.024256452918052673, Accuracy: 100.0\n",
      "Epoch 21, Loss: 0.018246591091156006, Accuracy: 100.0\n",
      "Epoch 22, Loss: 0.01381135918200016, Accuracy: 100.0\n",
      "Epoch 23, Loss: 0.010620562359690666, Accuracy: 100.0\n",
      "Epoch 24, Loss: 0.008351372554898262, Accuracy: 100.0\n",
      "Epoch 25, Loss: 0.006727290339767933, Accuracy: 100.0\n",
      "Epoch 26, Loss: 0.005544628947973251, Accuracy: 100.0\n",
      "Epoch 27, Loss: 0.004664385691285133, Accuracy: 100.0\n",
      "Epoch 28, Loss: 0.003994614351540804, Accuracy: 100.0\n",
      "Epoch 29, Loss: 0.003474488854408264, Accuracy: 100.0\n",
      "Epoch 30, Loss: 0.003062955103814602, Accuracy: 100.0\n",
      "Epoch 31, Loss: 0.0027319923974573612, Accuracy: 100.0\n",
      "Epoch 32, Loss: 0.0024618355091661215, Accuracy: 100.0\n",
      "Epoch 33, Loss: 0.002238476648926735, Accuracy: 100.0\n",
      "Epoch 34, Loss: 0.002051632385700941, Accuracy: 100.0\n",
      "Epoch 35, Loss: 0.0018937420099973679, Accuracy: 100.0\n",
      "Epoch 36, Loss: 0.0017591100186109543, Accuracy: 100.0\n",
      "Epoch 37, Loss: 0.0016433149576187134, Accuracy: 100.0\n",
      "Epoch 38, Loss: 0.0015429425984621048, Accuracy: 100.0\n",
      "Epoch 39, Loss: 0.001455439836718142, Accuracy: 100.0\n",
      "Epoch 40, Loss: 0.0013786086346954107, Accuracy: 100.0\n",
      "Epoch 41, Loss: 0.0013107855338603258, Accuracy: 100.0\n",
      "Epoch 42, Loss: 0.0012506336206570268, Accuracy: 100.0\n",
      "Epoch 43, Loss: 0.0011970235500484705, Accuracy: 100.0\n",
      "Epoch 44, Loss: 0.0011489447206258774, Accuracy: 100.0\n",
      "Epoch 45, Loss: 0.0011057734955102205, Accuracy: 100.0\n",
      "Epoch 46, Loss: 0.0010667660972103477, Accuracy: 100.0\n",
      "Epoch 47, Loss: 0.0010315363761037588, Accuracy: 100.0\n",
      "Epoch 48, Loss: 0.0009993703570216894, Accuracy: 100.0\n",
      "Epoch 49, Loss: 0.0009700901573523879, Accuracy: 100.0\n",
      "Epoch 50, Loss: 0.0009432193473912776, Accuracy: 100.0\n",
      "Prediction str:  ello\n"
     ]
    }
   ],
   "source": [
    "import numpy as np\n",
    "import tensorflow as tf\n",
    "\n",
    "# Set random seed for reproducibility\n",
    "tf.random.set_seed(777)\n",
    "\n",
    "# Characters and their corresponding indices\n",
    "idx2char = ['h', 'e', 'l', 'o']\n",
    "char2idx = {c: i for i, c in enumerate(idx2char)}\n",
    "\n",
    "# One-hot encoding for each character\n",
    "x_data = [[char2idx[c] for c in 'hell']]\n",
    "x_one_hot = np.array([[[1, 0, 0, 0],  # h\n",
    "                       [0, 1, 0, 0],  # e\n",
    "                       [0, 0, 1, 0],  # l\n",
    "                       [0, 0, 1, 0]]])  # l\n",
    "\n",
    "y_data = [[char2idx[c] for c in 'ello']]\n",
    "\n",
    "num_classes = 4  # Number of unique characters (h, e, l, o)\n",
    "input_dim = 4  # One-hot size\n",
    "hidden_size = 4  # Output size of the LSTM\n",
    "batch_size = 1  # One sequence at a time\n",
    "sequence_length = 4  # Length of the input sequence\n",
    "learning_rate = 0.1\n",
    "\n",
    "# Define the model\n",
    "class MyModel(tf.keras.Model):\n",
    "    def __init__(self):\n",
    "        super(MyModel, self).__init__()\n",
    "        self.lstm = tf.keras.layers.LSTM(hidden_size, return_sequences=True, stateful=False, input_shape=(sequence_length, input_dim))\n",
    "        self.dense = tf.keras.layers.Dense(num_classes)\n",
    "\n",
    "    def call(self, x):\n",
    "        x = self.lstm(x)\n",
    "        x = self.dense(x)\n",
    "        return x\n",
    "\n",
    "model = MyModel()\n",
    "\n",
    "# Define the loss and optimizer\n",
    "loss_object = tf.keras.losses.SparseCategoricalCrossentropy(from_logits=True)\n",
    "optimizer = tf.keras.optimizers.Adam(learning_rate=learning_rate)\n",
    "\n",
    "# Define the metrics\n",
    "train_loss = tf.keras.metrics.Mean(name='train_loss')\n",
    "train_accuracy = tf.keras.metrics.SparseCategoricalAccuracy(name='train_accuracy')\n",
    "\n",
    "# Training step\n",
    "@tf.function\n",
    "def train_step(inputs, targets):\n",
    "    with tf.GradientTape() as tape:\n",
    "        predictions = model(inputs)\n",
    "        loss = loss_object(targets, predictions)\n",
    "    gradients = tape.gradient(loss, model.trainable_variables)\n",
    "    optimizer.apply_gradients(zip(gradients, model.trainable_variables))\n",
    "\n",
    "    train_loss(loss)\n",
    "    train_accuracy(targets, predictions)\n",
    "\n",
    "# Prepare the data\n",
    "X = tf.constant(x_one_hot, dtype=tf.float32)\n",
    "Y = tf.constant(y_data, dtype=tf.int32)\n",
    "\n",
    "# Training the model\n",
    "EPOCHS = 50\n",
    "\n",
    "for epoch in range(EPOCHS):\n",
    "    train_step(X, Y)\n",
    "\n",
    "    template = 'Epoch {}, Loss: {}, Accuracy: {}'\n",
    "    print(template.format(epoch + 1,\n",
    "                          train_loss.result(),\n",
    "                          train_accuracy.result() * 100))\n",
    "\n",
    "    train_loss.reset_state()\n",
    "    train_accuracy.reset_state()\n",
    "\n",
    "# Prediction\n",
    "predictions = model(X)\n",
    "predicted_ids = tf.argmax(predictions, axis=2).numpy()\n",
    "\n",
    "# Print predictions\n",
    "result_str = [idx2char[c] for c in np.squeeze(predicted_ids)]\n",
    "print(\"Prediction str: \", ''.join(result_str))\n"
   ]
  },
  {
   "cell_type": "markdown",
   "id": "25b53fbe-490e-4d67-89c5-7478b50a1967",
   "metadata": {
    "id": "25b53fbe-490e-4d67-89c5-7478b50a1967"
   },
   "source": [
    "## LSTM"
   ]
  },
  {
   "cell_type": "code",
   "execution_count": 5,
   "id": "3942a79e-2ba1-4215-8ef6-4f0bb85c8f47",
   "metadata": {
    "id": "3942a79e-2ba1-4215-8ef6-4f0bb85c8f47",
    "outputId": "b2f81665-d09f-4abb-c674-2f579e07a2a3",
    "scrolled": true
   },
   "outputs": [
    {
     "name": "stdout",
     "output_type": "stream",
     "text": [
      "WARNING:tensorflow:From C:\\Users\\k8s\\AppData\\Local\\Temp\\ipykernel_8244\\1429276560.py:4: The name tf.disable_v2_behavior is deprecated. Please use tf.compat.v1.disable_v2_behavior instead.\n",
      "\n",
      "WARNING:tensorflow:From c:\\DEV\\envs\\py3_10_tf\\lib\\site-packages\\tensorflow\\python\\compat\\v2_compat.py:98: disable_resource_variables (from tensorflow.python.ops.resource_variables_toggle) is deprecated and will be removed in a future version.\n",
      "Instructions for updating:\n",
      "non-resource variables are not supported in the long term\n",
      "WARNING:tensorflow:From C:\\Users\\k8s\\AppData\\Local\\Temp\\ipykernel_8244\\1429276560.py:44: The name tf.train.AdamOptimizer is deprecated. Please use tf.compat.v1.train.AdamOptimizer instead.\n",
      "\n",
      "0 손실: 2.778284 예측:                          \n",
      "1 손실: 2.5291853 예측:         o   oorr         \n",
      "2 손실: 2.241649 예측:       ooorrrorrrr    orrr\n",
      "3 손실: 2.1139817 예측:        ooo ooorr      oo \n",
      "4 손실: 1.8897884 예측:     a ooo   orr     aoll \n",
      "5 손실: 1.5834327 예측:  a  a boy  aou'r  a aill.\n",
      "6 손실: 1.3457412 예측:  a  a aoy  aou'r  a aill.\n",
      "7 손실: 1.1317477 예측:  a  a aoy. aou''e a airl.\n",
      "8 손실: 0.87913597 예측:  a  a goy. You''e a girl.\n",
      "9 손실: 0.68917495 예측:  a  a goy. You're a girl.\n",
      "10 손실: 0.5396069 예측:  a  a boy. You're a girl.\n",
      "11 손실: 0.40244183 예측:  a  a boy. You're a girl.\n",
      "12 손실: 0.3064622 예측:  a  a boy. You're a girl.\n",
      "13 손실: 0.23879704 예측:  a  a boy. You're a girl.\n",
      "14 손실: 0.18625866 예측:  a  a boy. You're a girl.\n",
      "15 손실: 0.14693813 예측:  am a boy. You're a girl.\n",
      "16 손실: 0.11290574 예측:  am a boy. You're a girl.\n",
      "17 손실: 0.090302594 예측:  am a boy. You're a girl.\n",
      "18 손실: 0.0720612 예측:  am a boy. You're a girl.\n",
      "19 손실: 0.052752405 예측:  am a boy. You're a girl.\n",
      "20 손실: 0.040199984 예측:  am a boy. You're a girl.\n",
      "21 손실: 0.032650203 예측:  am a boy. You're a girl.\n",
      "22 손실: 0.026040526 예측:  am a boy. You're a girl.\n",
      "23 손실: 0.020223208 예측:  am a boy. You're a girl.\n",
      "24 손실: 0.015919937 예측:  am a boy. You're a girl.\n",
      "25 손실: 0.013023195 예측:  am a boy. You're a girl.\n",
      "26 손실: 0.010886804 예측:  am a boy. You're a girl.\n",
      "27 손실: 0.009053514 예측:  am a boy. You're a girl.\n",
      "28 손실: 0.007470701 예측:  am a boy. You're a girl.\n",
      "29 손실: 0.0062205656 예측:  am a boy. You're a girl.\n",
      "30 손실: 0.005286878 예측:  am a boy. You're a girl.\n",
      "31 손실: 0.0045864936 예측:  am a boy. You're a girl.\n",
      "32 손실: 0.0040430785 예측:  am a boy. You're a girl.\n",
      "33 손실: 0.0036055858 예측:  am a boy. You're a girl.\n",
      "34 손실: 0.0032425574 예측:  am a boy. You're a girl.\n",
      "35 손실: 0.0029340833 예측:  am a boy. You're a girl.\n",
      "36 손실: 0.002667253 예측:  am a boy. You're a girl.\n",
      "37 손실: 0.0024336893 예측:  am a boy. You're a girl.\n",
      "38 손실: 0.002228328 예측:  am a boy. You're a girl.\n",
      "39 손실: 0.002048168 예측:  am a boy. You're a girl.\n",
      "40 손실: 0.0018912511 예측:  am a boy. You're a girl.\n",
      "41 손실: 0.0017557675 예측:  am a boy. You're a girl.\n",
      "42 손실: 0.0016394636 예측:  am a boy. You're a girl.\n",
      "43 손실: 0.0015397783 예측:  am a boy. You're a girl.\n",
      "44 손실: 0.0014538362 예측:  am a boy. You're a girl.\n",
      "45 손실: 0.0013788651 예측:  am a boy. You're a girl.\n",
      "46 손실: 0.0013124045 예측:  am a boy. You're a girl.\n",
      "47 손실: 0.0012526253 예측:  am a boy. You're a girl.\n",
      "48 손실: 0.0011980827 예측:  am a boy. You're a girl.\n",
      "49 손실: 0.001147926 예측:  am a boy. You're a girl.\n"
     ]
    }
   ],
   "source": [
    "import tensorflow.compat.v1 as tf\n",
    "import numpy as np\n",
    "\n",
    "tf.disable_v2_behavior()\n",
    "tf.set_random_seed(777)  # 재현 가능성\n",
    "\n",
    "sample = \"I am a boy. You're a girl.\"\n",
    "idx2char = list(set(sample))  # index -> char\n",
    "char2idx = {c: i for i, c in enumerate(idx2char)}  # char -> index\n",
    "\n",
    "# 하이퍼 파라미터\n",
    "dic_size = len(char2idx)  # RNN 입력 크기 (원-핫 크기)\n",
    "hidden_size = len(char2idx)  # RNN 출력 크기\n",
    "num_classes = len(char2idx)  # 최종 출력 크기 (RNN 또는 소프트맥스 등)\n",
    "batch_size = 1  # 하나의 샘플 데이터, 하나의 배치\n",
    "sequence_length = len(sample) - 1  # LSTM 롤링 수 (유닛 수)\n",
    "learning_rate = 0.1\n",
    "\n",
    "sample_idx = [char2idx[c] for c in sample]  # 문자 -> 인덱스\n",
    "x_data = [sample_idx[:-1]]  # X 데이터 샘플 (0 ~ n-1) 예: hell\n",
    "y_data = [sample_idx[1:]]   # Y 라벨 샘플 (1 ~ n) 예: ello\n",
    "\n",
    "X = tf.placeholder(tf.int32, [None, sequence_length])  # X 데이터\n",
    "Y = tf.placeholder(tf.int32, [None, sequence_length])  # Y 라벨\n",
    "\n",
    "x_one_hot = tf.one_hot(X, num_classes)  # 원-핫 인코딩: 1 -> 0 1 0 0 0 0 0 0 0 0\n",
    "\n",
    "# LSTM 레이어\n",
    "lstm = tf.keras.layers.LSTM(hidden_size, return_sequences=True)\n",
    "outputs = lstm(x_one_hot)\n",
    "\n",
    "# FC 레이어\n",
    "X_for_fc = tf.reshape(outputs, [-1, hidden_size])\n",
    "outputs = tf.keras.layers.Dense(num_classes, activation=None)(X_for_fc)\n",
    "outputs = tf.reshape(outputs, [batch_size, sequence_length, num_classes])\n",
    "\n",
    "# y_data를 텐서로 변환\n",
    "y_data_tensor = tf.convert_to_tensor(y_data, dtype=tf.int32)\n",
    "\n",
    "weights = tf.ones([batch_size, sequence_length])\n",
    "sequence_loss = tf.keras.losses.sparse_categorical_crossentropy(\n",
    "    y_data_tensor, outputs, from_logits=True)\n",
    "loss = tf.reduce_mean(sequence_loss)\n",
    "train = tf.train.AdamOptimizer(learning_rate=learning_rate).minimize(loss)\n",
    "\n",
    "prediction = tf.argmax(outputs, axis=2)\n",
    "\n",
    "with tf.Session() as sess:\n",
    "    sess.run(tf.global_variables_initializer())\n",
    "    for i in range(50):\n",
    "        l, _ = sess.run([loss, train], feed_dict={X: x_data, Y: y_data})\n",
    "        result = sess.run(prediction, feed_dict={X: x_data})\n",
    "\n",
    "        # 딕셔너리를 사용해 문자 출력\n",
    "        result_str = [idx2char[c] for c in np.squeeze(result)]\n",
    "\n",
    "        print(i, \"손실:\", l, \"예측:\", ''.join(result_str))"
   ]
  },
  {
   "cell_type": "markdown",
   "id": "306295d6-986d-4449-9aa6-38cadc73b96a",
   "metadata": {
    "id": "306295d6-986d-4449-9aa6-38cadc73b96a"
   },
   "source": [
    "## 텐서플로에서 제공하는 RNN 미사용"
   ]
  },
  {
   "cell_type": "code",
   "execution_count": 6,
   "id": "1e354016-3bf9-487f-9d71-1e26a8f17355",
   "metadata": {
    "id": "1e354016-3bf9-487f-9d71-1e26a8f17355",
    "outputId": "51d8ea12-e848-4c88-fd9c-59cb1ab6f335"
   },
   "outputs": [
    {
     "name": "stdout",
     "output_type": "stream",
     "text": [
      "Y0_val:(4, 5)\n",
      "[[-0.10894947  0.9971884  -0.43115816 -0.9997683   0.8438099 ]\n",
      " [ 0.7500705   1.          0.5545411  -1.         -0.51446307]\n",
      " [ 0.9677533   1.          0.9367884  -1.         -0.9827364 ]\n",
      " [ 0.99995834  0.9999893   0.94358313 -1.         -0.977834  ]]\n",
      "Y1_val:(4, 5)\n",
      "[[ 0.8869786   1.          0.999982   -1.         -0.9994521 ]\n",
      " [-0.49885938  1.          0.99952835 -1.         -0.9014005 ]\n",
      " [ 0.7662765   1.          0.99999684 -1.         -0.999998  ]\n",
      " [-0.1072882   0.99999183  0.9999748  -1.         -0.9999314 ]]\n"
     ]
    }
   ],
   "source": [
    "#import tensorflow as tf\n",
    "import tensorflow.compat.v1 as tf\n",
    "tf.disable_v2_behavior()\n",
    "\n",
    "import numpy as np\n",
    "\n",
    "n_inputs = 3\n",
    "n_neurons = 5\n",
    "\n",
    "X0 = tf.placeholder(tf.float32, [None, n_inputs])\n",
    "X1 = tf.placeholder(tf.float32, [None, n_inputs])\n",
    "\n",
    "Wx = tf.Variable(tf.random_normal(shape=[n_inputs, n_neurons], dtype=tf.float32))\n",
    "Wy = tf.Variable(tf.random_normal(shape=[n_neurons, n_neurons], dtype=tf.float32))\n",
    "b = tf.Variable(tf.zeros([1, n_neurons], dtype=tf.float32))\n",
    "\n",
    "Y0 = tf.tanh(tf.matmul(X0, Wx) + b)\n",
    "Y1 = tf.tanh(tf.matmul(Y0, Wy) + tf.matmul(X1, Wx) + b)\n",
    "\n",
    "# input data (mini-batch)\n",
    "# t = 0\n",
    "X0_batch = np.array([[0, 1, 2],  # sample 0\n",
    "                     [3, 4, 5],  # sample 1\n",
    "                     [6, 7, 8],  # sample 2\n",
    "                     [9, 0, 1]]) # sample 3\n",
    "# t = 1\n",
    "X1_batch = np.array([[9, 8, 7],\n",
    "                     [3, 4, 5],\n",
    "                     [6, 5, 4],\n",
    "                     [3, 2, 1]])\n",
    "\n",
    "with tf.Session() as sess:\n",
    "    tf.global_variables_initializer().run()\n",
    "    Y0_val, Y1_val = sess.run([Y0, Y1], feed_dict={X0: X0_batch, X1: X1_batch})\n",
    "\n",
    "print('Y0_val:{}\\n{}'.format(Y0_val.shape, Y0_val))  # shape: (4, 5) → (샘플 개수, 뉴런 개수)\n",
    "print('Y1_val:{}\\n{}'.format(Y1_val.shape, Y1_val))"
   ]
  },
  {
   "cell_type": "markdown",
   "id": "417b9cfb-0d63-47f0-b02b-06f34295edcc",
   "metadata": {
    "id": "417b9cfb-0d63-47f0-b02b-06f34295edcc"
   },
   "source": [
    "## RNN 좀 더 살펴보기"
   ]
  },
  {
   "cell_type": "code",
   "execution_count": null,
   "id": "1db127fd-fadc-4f07-bda9-12221f8ea156",
   "metadata": {},
   "outputs": [],
   "source": [
    "import matplotlib.pyplot as plt\n",
    "import matplotlib\n",
    "matplotlib.rcParams['font.family'] = 'Malgun Gothic' # Windows\n",
    "# matplotlib.rcParams['font.family'] = 'AppleGothic' # Mac\n",
    "matplotlib.rcParams['font.size'] = 15 # 글자 크기\n",
    "matplotlib.rcParams['axes.unicode_minus'] = False # 한글 폰트 사용 시, 마이너스 글자가 깨지는 현상을 해결"
   ]
  },
  {
   "cell_type": "code",
   "execution_count": 1,
   "id": "72b60de4-0e4c-4c29-9b83-b2b0cea3c4af",
   "metadata": {},
   "outputs": [
    {
     "name": "stdout",
     "output_type": "stream",
     "text": [
      "True\n"
     ]
    }
   ],
   "source": [
    "import tensorflow as tf\n",
    "\n",
    "print(tf.executing_eagerly())"
   ]
  },
  {
   "cell_type": "code",
   "execution_count": 2,
   "id": "ec5d2e2a-9d91-406b-8324-92520409bc13",
   "metadata": {},
   "outputs": [],
   "source": [
    "# import tensorflow as tf\n",
    "# tf.config.run_functions_eagerly(True)"
   ]
  },
  {
   "cell_type": "markdown",
   "id": "22df3fc9-64c2-43e6-a50a-b012de73d573",
   "metadata": {},
   "source": [
    "```\n",
    "if False :\n",
    "    \n",
    "import tensorflow as tf\n",
    "tf.config.run_functions_eagerly(True)\n",
    "\n",
    "재시작 후 다시 실행"
   ]
  },
  {
   "cell_type": "markdown",
   "id": "93dbc202-d9e2-4c8f-8b41-75fcfbbd38e1",
   "metadata": {
    "id": "93dbc202-d9e2-4c8f-8b41-75fcfbbd38e1"
   },
   "source": [
    "### 텐서플로에서 제공하는 RNN 미사용"
   ]
  },
  {
   "cell_type": "code",
   "execution_count": 3,
   "id": "701c15ed-a5b5-4276-9b49-ded31dec3405",
   "metadata": {
    "id": "701c15ed-a5b5-4276-9b49-ded31dec3405",
    "outputId": "0dc7cfda-ae2d-46c3-c67a-4be3f9222b26"
   },
   "outputs": [
    {
     "name": "stdout",
     "output_type": "stream",
     "text": [
      "Y0_val:(4, 5)\n",
      "[[-0.12148565  0.06639175  0.03867331 -0.08433867  0.22041944]\n",
      " [-0.29991987  0.20010701  0.09297263 -0.37455258  0.49250427]\n",
      " [-0.4595767   0.32676166  0.14672454 -0.6061906   0.6934782 ]\n",
      " [ 0.3848348   0.11088704  0.17104925 -0.40978274 -0.251717  ]]\n",
      "Y1_val:(4, 5)\n",
      "[[-0.40898672  0.3368072   0.1369314  -0.68792856  0.6285961 ]\n",
      " [-0.27115613  0.22200303  0.11844832 -0.38723505  0.5286923 ]\n",
      " [-0.19364038  0.23990966  0.1050432  -0.5081889   0.44629976]\n",
      " [-0.0158764   0.04473954  0.00577913 -0.24469215  0.10638045]]\n"
     ]
    }
   ],
   "source": [
    "import tensorflow as tf\n",
    "import numpy as np\n",
    "\n",
    "n_inputs = 3\n",
    "n_neurons = 5\n",
    "\n",
    "# Define the model\n",
    "class SimpleRNNCell(tf.keras.layers.Layer):\n",
    "    def __init__(self, n_neurons):\n",
    "        super(SimpleRNNCell, self).__init__()\n",
    "        self.n_neurons = n_neurons\n",
    "\n",
    "    def build(self, input_shape):\n",
    "        self.Wx = self.add_weight(shape=(n_inputs, self.n_neurons),\n",
    "                                  initializer='random_normal',\n",
    "                                  trainable=True)\n",
    "        self.Wy = self.add_weight(shape=(self.n_neurons, self.n_neurons),\n",
    "                                  initializer='random_normal',\n",
    "                                  trainable=True)\n",
    "        self.b = self.add_weight(shape=(1, self.n_neurons),\n",
    "                                 initializer='zeros',\n",
    "                                 trainable=True)\n",
    "\n",
    "    def call(self, inputs, states):\n",
    "        prev_output = states[0]\n",
    "        output = tf.tanh(tf.matmul(inputs, self.Wx) + tf.matmul(prev_output, self.Wy) + self.b)\n",
    "        return output, [output]\n",
    "\n",
    "# Initialize the RNN cell\n",
    "cell = SimpleRNNCell(n_neurons)\n",
    "\n",
    "# Define the input data (mini-batch)\n",
    "# t = 0\n",
    "X0_batch = np.array([[0, 1, 2],  # sample 0\n",
    "                     [3, 4, 5],  # sample 1\n",
    "                     [6, 7, 8],  # sample 2\n",
    "                     [9, 0, 1]], dtype=np.float32) # sample 3\n",
    "# t = 1\n",
    "X1_batch = np.array([[9, 8, 7],\n",
    "                     [3, 4, 5],\n",
    "                     [6, 5, 4],\n",
    "                     [3, 2, 1]], dtype=np.float32)\n",
    "\n",
    "# Run the RNN cell step by step\n",
    "@tf.function\n",
    "def run_rnn(X0, X1):\n",
    "    Y0, [state] = cell(X0, [tf.zeros((X0.shape[0], n_neurons), dtype=tf.float32)])\n",
    "    Y1, _ = cell(X1, [state])\n",
    "    return Y0, Y1\n",
    "\n",
    "# Execute the function\n",
    "Y0_val, Y1_val = run_rnn(X0_batch, X1_batch)\n",
    "\n",
    "print('Y0_val:{}\\n{}'.format(Y0_val.shape, Y0_val.numpy()))  # shape: (4, 5) → (샘플 개수, 뉴런 개수)\n",
    "print('Y1_val:{}\\n{}'.format(Y1_val.shape, Y1_val.numpy()))\n"
   ]
  },
  {
   "cell_type": "markdown",
   "id": "95e273f8-5093-43b6-9179-53137d6119aa",
   "metadata": {
    "id": "95e273f8-5093-43b6-9179-53137d6119aa"
   },
   "source": [
    "### 텐서플로에서 제공하는 RNN연산"
   ]
  },
  {
   "cell_type": "code",
   "execution_count": 4,
   "id": "aeb1bcd3-5e26-4e56-ad63-f329529e3b0e",
   "metadata": {
    "id": "aeb1bcd3-5e26-4e56-ad63-f329529e3b0e",
    "outputId": "799b85e4-9302-4422-82a9-fb2112a42200"
   },
   "outputs": [
    {
     "name": "stdout",
     "output_type": "stream",
     "text": [
      "Y0_val:(4, 5)\n",
      "[[ 0.09012254  0.04742132 -0.08465774  0.12223437 -0.07667086]\n",
      " [ 0.00321649  0.21669188 -0.19354245  0.60396105  0.05128728]\n",
      " [-0.08373816  0.37386435 -0.29785934  0.85538065  0.17758335]\n",
      " [-0.49357918  0.41567558 -0.18809658  0.7648396   0.64574236]]\n",
      "Y1_val:(4, 5)\n",
      "[[-0.35078722  0.43459466 -0.24161334  0.9216671   0.42462292]\n",
      " [-0.06029224  0.1603758  -0.17971846  0.5855349   0.03869048]\n",
      " [-0.34765717  0.20403321 -0.11649353  0.75574857  0.30881044]\n",
      " [-0.26485422  0.00938421 -0.00767065  0.3903818   0.20959742]]\n"
     ]
    }
   ],
   "source": [
    "import tensorflow as tf\n",
    "import numpy as np\n",
    "\n",
    "n_inputs = 3\n",
    "n_neurons = 5\n",
    "\n",
    "class SimpleRNNCell(tf.keras.layers.Layer):\n",
    "    def __init__(self, n_neurons):\n",
    "        super(SimpleRNNCell, self).__init__()\n",
    "        self.n_neurons = n_neurons\n",
    "\n",
    "    def build(self, input_shape):\n",
    "        self.Wx = self.add_weight(shape=(n_inputs, self.n_neurons),\n",
    "                                  initializer='random_normal',\n",
    "                                  trainable=True)\n",
    "        self.Wy = self.add_weight(shape=(self.n_neurons, self.n_neurons),\n",
    "                                  initializer='random_normal',\n",
    "                                  trainable=True)\n",
    "        self.b = self.add_weight(shape=(1, self.n_neurons),\n",
    "                                 initializer='zeros',\n",
    "                                 trainable=True)\n",
    "\n",
    "    def call(self, inputs, states):\n",
    "        prev_output = states[0]\n",
    "        output = tf.tanh(tf.matmul(inputs, self.Wx) + tf.matmul(prev_output, self.Wy) + self.b)\n",
    "        return output, [output]\n",
    "\n",
    "cell = SimpleRNNCell(n_neurons)\n",
    "\n",
    "X0_batch = np.array([[0, 1, 2], [3, 4, 5], [6, 7, 8], [9, 0, 1]], dtype=np.float32)\n",
    "X1_batch = np.array([[9, 8, 7], [3, 4, 5], [6, 5, 4], [3, 2, 1]], dtype=np.float32)\n",
    "\n",
    "@tf.function\n",
    "def run_rnn(X0, X1):\n",
    "    Y0, [state] = cell(X0, [tf.zeros((X0.shape[0], n_neurons), dtype=tf.float32)])\n",
    "    Y1, _ = cell(X1, [state])\n",
    "    return Y0, Y1\n",
    "\n",
    "Y0_val, Y1_val = run_rnn(X0_batch, X1_batch)\n",
    "\n",
    "print('Y0_val:{}\\n{}'.format(Y0_val.shape, Y0_val.numpy()))\n",
    "print('Y1_val:{}\\n{}'.format(Y1_val.shape, Y1_val.numpy()))"
   ]
  },
  {
   "cell_type": "markdown",
   "id": "a23a6abb-a098-4c69-b93b-24bc5679f63b",
   "metadata": {
    "id": "a23a6abb-a098-4c69-b93b-24bc5679f63b"
   },
   "source": [
    "### BPTT (BackPropagation Through Time)"
   ]
  },
  {
   "cell_type": "markdown",
   "id": "5fc9bc75-aa75-4dc9-ae37-cc70a9587c1c",
   "metadata": {
    "id": "5fc9bc75-aa75-4dc9-ae37-cc70a9587c1c"
   },
   "source": [
    "### RNN for Time Series"
   ]
  },
  {
   "cell_type": "code",
   "execution_count": 5,
   "id": "93d56ad8-8d7c-4495-86fd-230311ff9184",
   "metadata": {
    "id": "93d56ad8-8d7c-4495-86fd-230311ff9184",
    "outputId": "859c6f90-fb6a-4fb9-99d0-4d0af3a4448e"
   },
   "outputs": [
    {
     "name": "stdout",
     "output_type": "stream",
     "text": [
      "train_x.shape : (55000, 784)\n",
      "valid_x.shape : (5000, 28, 28)\n",
      "test_x.shape : (10000, 28, 28)\n",
      "Epoch 1, Train Loss: 0.1720, Train Accuracy: 0.8673, Validation Accuracy: 0.9458\n",
      "Epoch 2, Train Loss: 0.1681, Train Accuracy: 0.9432, Validation Accuracy: 0.9548\n",
      "Epoch 3, Train Loss: 0.1196, Train Accuracy: 0.9542, Validation Accuracy: 0.9574\n",
      "Epoch 4, Train Loss: 0.1716, Train Accuracy: 0.9616, Validation Accuracy: 0.9516\n",
      "Epoch 5, Train Loss: 0.1203, Train Accuracy: 0.9668, Validation Accuracy: 0.9668\n"
     ]
    }
   ],
   "source": [
    "import tensorflow as tf\n",
    "import numpy as np\n",
    "\n",
    "################\n",
    "# Layer Params #\n",
    "################\n",
    "n_steps = 28\n",
    "n_inputs = 28\n",
    "n_neurons = 150\n",
    "n_outputs = 10\n",
    "\n",
    "(train_x, train_y), (test_x, test_y) = tf.keras.datasets.mnist.load_data()\n",
    "train_x = train_x.astype(np.float32).reshape(-1, 28*28) / 255.0  # (784,)\n",
    "test_x = test_x.astype(np.float32).reshape(-1, 28*28) / 255.0\n",
    "train_y = train_y.astype(np.int32)\n",
    "test_y = test_y.astype(np.int32)\n",
    "valid_x, train_x = train_x[:5000], train_x[5000:]\n",
    "valid_y, train_y = train_y[:5000], train_y[5000:]\n",
    "test_x = test_x.reshape([-1, n_steps, n_inputs])\n",
    "valid_x = valid_x.reshape([-1, n_steps, n_inputs])\n",
    "\n",
    "print('train_x.shape :', train_x.shape)\n",
    "print('valid_x.shape :', valid_x.shape)\n",
    "print('test_x.shape :', test_x.shape)\n",
    "\n",
    "# Mini-batch\n",
    "def shuffle_batch(features, labels, batch_size):\n",
    "    rnd_idx = np.random.permutation(len(features))\n",
    "    n_batches = len(features) // batch_size\n",
    "    for batch_idx in np.array_split(rnd_idx, n_batches):\n",
    "        batch_x, batch_y = features[batch_idx], labels[batch_idx]\n",
    "        yield batch_x, batch_y\n",
    "\n",
    "# Define the model using tf.keras\n",
    "class RNNModel(tf.keras.Model):\n",
    "    def __init__(self, n_neurons, n_outputs):\n",
    "        super(RNNModel, self).__init__()\n",
    "        self.rnn = tf.keras.layers.SimpleRNN(n_neurons, return_sequences=False)\n",
    "        self.dense = tf.keras.layers.Dense(n_outputs)\n",
    "\n",
    "    def call(self, inputs):\n",
    "        rnn_output = self.rnn(inputs)\n",
    "        logits = self.dense(rnn_output)\n",
    "        return logits\n",
    "\n",
    "model = RNNModel(n_neurons, n_outputs)\n",
    "\n",
    "# Define loss and optimizer\n",
    "loss_fn = tf.keras.losses.SparseCategoricalCrossentropy(from_logits=True)\n",
    "optimizer = tf.keras.optimizers.Adam(learning_rate=0.001)\n",
    "\n",
    "# Define metrics\n",
    "train_accuracy = tf.keras.metrics.SparseCategoricalAccuracy()\n",
    "valid_accuracy = tf.keras.metrics.SparseCategoricalAccuracy()\n",
    "\n",
    "# Training step\n",
    "@tf.function\n",
    "def train_step(batch_x, batch_y):\n",
    "    with tf.GradientTape() as tape:\n",
    "        logits = model(batch_x, training=True)\n",
    "        loss = loss_fn(batch_y, logits)\n",
    "    gradients = tape.gradient(loss, model.trainable_variables)\n",
    "    optimizer.apply_gradients(zip(gradients, model.trainable_variables))\n",
    "    train_accuracy.update_state(batch_y, logits)\n",
    "    return loss\n",
    "\n",
    "# Validation step\n",
    "@tf.function\n",
    "def valid_step(valid_x, valid_y):\n",
    "    logits = model(valid_x, training=False)\n",
    "    valid_accuracy.update_state(valid_y, logits)\n",
    "\n",
    "# Training loop\n",
    "n_epochs = 5\n",
    "batch_size = 150\n",
    "\n",
    "for epoch in range(n_epochs):\n",
    "    for batch_x, batch_y in shuffle_batch(train_x, train_y, batch_size):\n",
    "        batch_x = batch_x.reshape([-1, n_steps, n_inputs])\n",
    "        train_loss = train_step(batch_x, batch_y)\n",
    "    for valid_x_batch, valid_y_batch in shuffle_batch(valid_x, valid_y, batch_size):\n",
    "        valid_x_batch = valid_x_batch.reshape([-1, n_steps, n_inputs])\n",
    "        valid_step(valid_x_batch, valid_y_batch)\n",
    "    print(f'Epoch {epoch+1}, '\n",
    "          f'Train Loss: {train_loss.numpy():.4f}, '\n",
    "          f'Train Accuracy: {train_accuracy.result().numpy():.4f}, '\n",
    "          f'Validation Accuracy: {valid_accuracy.result().numpy():.4f}')\n",
    "    train_accuracy.reset_state()\n",
    "    valid_accuracy.reset_state()\n"
   ]
  },
  {
   "cell_type": "code",
   "execution_count": 6,
   "id": "8c685813-82f0-46be-a927-360ce24ff818",
   "metadata": {
    "id": "8c685813-82f0-46be-a927-360ce24ff818",
    "outputId": "79ad7d8b-cfac-42d8-db39-1199a0004358"
   },
   "outputs": [
    {
     "name": "stdout",
     "output_type": "stream",
     "text": [
      "step: 000, MSE: 21.9761\n",
      "step: 100, MSE: 0.4538\n",
      "step: 200, MSE: 0.2451\n",
      "step: 300, MSE: 0.0950\n",
      "step: 400, MSE: 0.0715\n",
      "step: 500, MSE: 0.0666\n",
      "\u001b[1m1/1\u001b[0m \u001b[32m━━━━━━━━━━━━━━━━━━━━\u001b[0m\u001b[37m\u001b[0m \u001b[1m0s\u001b[0m 114ms/step\n",
      "y_pred:(1, 20, 1)\n",
      "[[[-3.3249848]\n",
      "  [-2.6135507]\n",
      "  [-1.1412055]\n",
      "  [ 0.6063617]\n",
      "  [ 2.0431118]\n",
      "  [ 3.0815928]\n",
      "  [ 3.5970461]\n",
      "  [ 3.3986146]\n",
      "  [ 2.7948463]\n",
      "  [ 2.0895548]\n",
      "  [ 1.6225578]\n",
      "  [ 1.5106395]\n",
      "  [ 1.8657867]\n",
      "  [ 2.7450225]\n",
      "  [ 3.9386299]\n",
      "  [ 5.133034 ]\n",
      "  [ 6.029716 ]\n",
      "  [ 6.6354256]\n",
      "  [ 6.723065 ]\n",
      "  [ 6.219741 ]]]\n"
     ]
    }
   ],
   "source": [
    "import tensorflow as tf\n",
    "import numpy as np\n",
    "\n",
    "################\n",
    "# Layer Params #\n",
    "################\n",
    "n_steps = 20\n",
    "n_neurons = 100\n",
    "n_inputs = 1\n",
    "n_outputs = 1\n",
    "\n",
    "# 시계열 함수 정의\n",
    "def time_series(t):\n",
    "    return t * np.sin(t) / 3 + 2 * np.sin(t * 5)\n",
    "\n",
    "# 다음 배치 생성 함수\n",
    "def next_batch(batch_size, n_steps):\n",
    "    t_min, t_max = 0, 30\n",
    "    resolution = 0.1\n",
    "    t0 = np.random.rand(batch_size, 1) * (t_max - t_min - n_steps * resolution)\n",
    "    Ts = t0 + np.arange(0., n_steps + 1) * resolution\n",
    "    ys = time_series(Ts)\n",
    "    return ys[:, :-1].reshape(-1, n_steps, 1), ys[:, 1:].reshape(-1, n_steps, 1)\n",
    "\n",
    "# 모델 정의\n",
    "class RNNModel(tf.keras.Model):\n",
    "    def __init__(self, n_neurons, n_outputs):\n",
    "        super(RNNModel, self).__init__()\n",
    "        self.rnn = tf.keras.layers.SimpleRNN(n_neurons, activation='relu', return_sequences=True)\n",
    "        self.dense = tf.keras.layers.Dense(n_outputs)\n",
    "\n",
    "    def call(self, inputs):\n",
    "        rnn_output = self.rnn(inputs)\n",
    "        dense_output = self.dense(rnn_output)\n",
    "        return dense_output\n",
    "\n",
    "model = RNNModel(n_neurons, n_outputs)\n",
    "\n",
    "# 손실 함수 및 옵티마이저 정의\n",
    "loss_fn = tf.keras.losses.MeanSquaredError()\n",
    "optimizer = tf.keras.optimizers.Adam(learning_rate=0.001)\n",
    "\n",
    "# 학습 단계 함수 정의\n",
    "@tf.function\n",
    "def train_step(batch_x, batch_y):\n",
    "    with tf.GradientTape() as tape:\n",
    "        predictions = model(batch_x, training=True)\n",
    "        loss = loss_fn(batch_y, predictions)\n",
    "    gradients = tape.gradient(loss, model.trainable_variables)\n",
    "    optimizer.apply_gradients(zip(gradients, model.trainable_variables))\n",
    "    return loss\n",
    "\n",
    "# 학습 루프\n",
    "n_iterations = 600\n",
    "batch_size = 50\n",
    "\n",
    "for iteration in range(n_iterations):\n",
    "    batch_x, batch_y = next_batch(batch_size, n_steps)\n",
    "    loss = train_step(batch_x, batch_y)\n",
    "    if iteration % 100 == 0:\n",
    "        print('step: {:03d}, MSE: {:.4f}'.format(iteration, loss.numpy()))\n",
    "\n",
    "# 새로운 데이터 예측하기\n",
    "t_instance = np.linspace(12.2, 12.2 + 0.1 * (n_steps + 1), n_steps + 1)\n",
    "X_new = time_series(t_instance[:-1].reshape(-1, n_steps, n_inputs))\n",
    "y_pred = model.predict(X_new)\n",
    "\n",
    "print('y_pred:{}\\n{}'.format(y_pred.shape, y_pred))\n"
   ]
  },
  {
   "cell_type": "code",
   "execution_count": 9,
   "id": "c85c34d1-6d31-403f-8942-b3267785200c",
   "metadata": {
    "id": "c85c34d1-6d31-403f-8942-b3267785200c",
    "outputId": "ccdcf2d9-46de-4d7f-9b66-814421cc955f"
   },
   "outputs": [
    {
     "name": "stderr",
     "output_type": "stream",
     "text": [
      "C:\\Users\\k8s\\AppData\\Local\\Temp\\ipykernel_8916\\3867554964.py:3: UserWarning: color is redundantly defined by the 'color' keyword argument and the fmt string \"w*\" (-> color='w'). The keyword argument will take precedence.\n",
      "  plt.plot(t_instance[1:], time_series(t_instance[1:]), \"w*\", markersize=10, label=\"target\", color='yellow')\n"
     ]
    },
    {
     "data": {
      "image/png": "[encoded data removed]",
      "text/plain": [
       "<Figure size 640x480 with 1 Axes>"
      ]
     },
     "metadata": {},
     "output_type": "display_data"
    }
   ],
   "source": [
    "plt.title(\"Testing the Model\", fontsize=14)\n",
    "plt.plot(t_instance[:-1], time_series(t_instance[:-1]), \"bo\", markersize=10, label=\"instance\")\n",
    "plt.plot(t_instance[1:], time_series(t_instance[1:]), \"w*\", markersize=10, label=\"target\", color='yellow')\n",
    "plt.plot(t_instance[1:], y_pred[0,:,0], \"r.\", markersize=10, label=\"prediction\")\n",
    "plt.legend(loc=\"upper left\")\n",
    "plt.xlabel(\"Time\")\n",
    "\n",
    "plt.show()"
   ]
  },
  {
   "cell_type": "markdown",
   "id": "41bee389-41d1-474b-8ffc-72e939576f60",
   "metadata": {
    "id": "41bee389-41d1-474b-8ffc-72e939576f60"
   },
   "source": [
    "## 가상의 시계열 데이터 만들기"
   ]
  },
  {
   "cell_type": "code",
   "execution_count": 10,
   "id": "806f9175-6ef0-4220-8319-4f7852fb0ad6",
   "metadata": {
    "id": "806f9175-6ef0-4220-8319-4f7852fb0ad6",
    "outputId": "f932771b-0b86-4efe-dd59-750d23d32e06"
   },
   "outputs": [
    {
     "data": {
      "image/png": "[encoded data removed]",
      "text/plain": [
       "<Figure size 1100x400 with 2 Axes>"
      ]
     },
     "metadata": {},
     "output_type": "display_data"
    }
   ],
   "source": [
    "import numpy as np\n",
    "import matplotlib.pyplot as plt\n",
    "\n",
    "# 시간 범위와 해상도 설정\n",
    "t_min, t_max = 0, 30\n",
    "resolution = 0.1\n",
    "\n",
    "# 시계열 함수 정의\n",
    "def time_series(t):\n",
    "    return t * np.sin(t) / 3 + 2 * np.sin(t * 5)\n",
    "\n",
    "# 다음 배치 생성 함수\n",
    "def next_batch(batch_size, n_steps):\n",
    "    t0 = np.random.rand(batch_size, 1) * (t_max - t_min - n_steps * resolution)\n",
    "    Ts = t0 + np.arange(0., n_steps + 1) * resolution\n",
    "    ys = time_series(Ts)\n",
    "    return ys[:, :-1].reshape(-1, n_steps, 1), ys[:, 1:].reshape(-1, n_steps, 1)\n",
    "\n",
    "# 시간 시퀀스 생성\n",
    "t = np.linspace(t_min, t_max, int((t_max - t_min) / resolution))\n",
    "\n",
    "# 학습 샘플 인스턴스\n",
    "n_steps = 20\n",
    "t_instance = np.linspace(12.2, 12.2 + resolution * (n_steps + 1), n_steps + 1)\n",
    "\n",
    "# 시각화\n",
    "plt.figure(figsize=(11, 4))\n",
    "\n",
    "# 전체 시계열 데이터 시각화\n",
    "plt.subplot(121)\n",
    "plt.title(\"Time Series (Generated)\", fontsize=14)\n",
    "plt.plot(t, time_series(t), label=r\"$t . \\sin(t) / 3 + 2 . \\sin(5t)$\")\n",
    "plt.plot(t_instance[:-1], time_series(t_instance[:-1]), \"b-\", linewidth=3, label=\"Training Sample\")\n",
    "plt.legend(loc=\"lower left\", fontsize=14)\n",
    "plt.axis([0, 30, -17, 13])\n",
    "plt.xlabel(\"Time\")\n",
    "plt.ylabel(\"Value\", rotation=0)\n",
    "\n",
    "# 학습 샘플 시각화\n",
    "plt.subplot(122)\n",
    "plt.title(\"Training Sample\", fontsize=14)\n",
    "plt.plot(t_instance[:-1], time_series(t_instance[:-1]), \"bo\", markersize=12, label=\"Sample\")\n",
    "plt.plot(t_instance[1:], time_series(t_instance[1:]),\n",
    "         \"w*\", markeredgewidth=0.5, markeredgecolor=\"b\", markersize=14, label=\"Target\")\n",
    "plt.legend(loc=\"upper left\")\n",
    "plt.xlabel(\"Time\")\n",
    "\n",
    "plt.show()\n"
   ]
  },
  {
   "cell_type": "markdown",
   "id": "a4b11d53-0223-40aa-80ef-2ce3d24205b6",
   "metadata": {
    "id": "a4b11d53-0223-40aa-80ef-2ce3d24205b6"
   },
   "source": [
    "## OutputProjectionWrapper를 사용한 RNN 모델링\n"
   ]
  },
  {
   "cell_type": "code",
   "execution_count": 11,
   "id": "e990a341-c81a-4e95-82fc-bdb97ee78d96",
   "metadata": {
    "id": "e990a341-c81a-4e95-82fc-bdb97ee78d96",
    "outputId": "c20a0374-ac8d-4670-c6ee-c20b53b3c2f7"
   },
   "outputs": [
    {
     "name": "stderr",
     "output_type": "stream",
     "text": [
      "c:\\DEV\\envs\\py3_10_tf\\lib\\site-packages\\keras\\src\\layers\\rnn\\rnn.py:199: UserWarning: Do not pass an `input_shape`/`input_dim` argument to a layer. When using Sequential models, prefer using an `Input(shape)` object as the first layer in the model instead.\n",
      "  super().__init__(**kwargs)\n"
     ]
    },
    {
     "name": "stdout",
     "output_type": "stream",
     "text": [
      "step: 000, MSE: 13.2484\n",
      "step: 100, MSE: 0.5794\n",
      "step: 200, MSE: 0.1204\n",
      "step: 300, MSE: 0.0742\n",
      "step: 400, MSE: 0.0662\n",
      "step: 500, MSE: 0.0544\n",
      "\u001b[1m1/1\u001b[0m \u001b[32m━━━━━━━━━━━━━━━━━━━━\u001b[0m\u001b[37m\u001b[0m \u001b[1m0s\u001b[0m 95ms/step\n",
      "y_pred:(1, 20, 1)\n",
      "[[[-3.4857135 ]\n",
      "  [-2.4741142 ]\n",
      "  [-1.1276451 ]\n",
      "  [ 0.64611644]\n",
      "  [ 2.1435404 ]\n",
      "  [ 3.055186  ]\n",
      "  [ 3.4387968 ]\n",
      "  [ 3.3269138 ]\n",
      "  [ 2.8791952 ]\n",
      "  [ 2.2140698 ]\n",
      "  [ 1.6911279 ]\n",
      "  [ 1.4294382 ]\n",
      "  [ 1.8068477 ]\n",
      "  [ 2.6916142 ]\n",
      "  [ 3.8611376 ]\n",
      "  [ 5.1054893 ]\n",
      "  [ 6.101262  ]\n",
      "  [ 6.6523867 ]\n",
      "  [ 6.6210656 ]\n",
      "  [ 6.073001  ]]]\n"
     ]
    }
   ],
   "source": [
    "import tensorflow as tf\n",
    "import numpy as np\n",
    "\n",
    "# 시계열 함수 정의\n",
    "def time_series(t):\n",
    "    return t * np.sin(t) / 3 + 2 * np.sin(t * 5)\n",
    "\n",
    "# 다음 배치 생성 함수\n",
    "def next_batch(batch_size, n_steps):\n",
    "    t_min, t_max = 0, 30\n",
    "    resolution = 0.1\n",
    "    t0 = np.random.rand(batch_size, 1) * (t_max - t_min - n_steps * resolution)\n",
    "    Ts = t0 + np.arange(0., n_steps + 1) * resolution\n",
    "    ys = time_series(Ts)\n",
    "    return ys[:, :-1].reshape(-1, n_steps, 1), ys[:, 1:].reshape(-1, n_steps, 1)\n",
    "\n",
    "################\n",
    "# Layer Params #\n",
    "################\n",
    "n_steps = 20\n",
    "n_neurons = 100\n",
    "n_inputs = 1\n",
    "n_outputs = 1\n",
    "\n",
    "# 모델 정의\n",
    "model = tf.keras.Sequential([\n",
    "    tf.keras.layers.SimpleRNN(n_neurons, activation='relu', return_sequences=True, input_shape=[n_steps, n_inputs]),\n",
    "    tf.keras.layers.Dense(n_outputs)\n",
    "])\n",
    "\n",
    "# 손실 함수 및 옵티마이저 정의\n",
    "model.compile(loss=\"mean_squared_error\", optimizer=tf.keras.optimizers.Adam(learning_rate=0.001))\n",
    "\n",
    "# 학습 루프\n",
    "n_iterations = 600\n",
    "batch_size = 50\n",
    "\n",
    "for iteration in range(n_iterations):\n",
    "    batch_x, batch_y = next_batch(batch_size, n_steps)\n",
    "    model.train_on_batch(batch_x, batch_y)\n",
    "    if iteration % 100 == 0:\n",
    "        loss = model.evaluate(batch_x, batch_y, verbose=0)\n",
    "        print('step: {:03d}, MSE: {:.4f}'.format(iteration, loss))\n",
    "\n",
    "# 새로운 데이터 예측하기\n",
    "t_instance = np.linspace(12.2, 12.2 + 0.1 * (n_steps + 1), n_steps + 1)\n",
    "X_new = time_series(t_instance[:-1].reshape(-1, n_steps, n_inputs))\n",
    "y_pred = model.predict(X_new)\n",
    "\n",
    "print('y_pred:{}\\n{}'.format(y_pred.shape, y_pred))\n"
   ]
  },
  {
   "cell_type": "code",
   "execution_count": 12,
   "id": "bddf9694-8f77-4f60-9b0d-5c5a7dbf07c1",
   "metadata": {
    "id": "bddf9694-8f77-4f60-9b0d-5c5a7dbf07c1",
    "outputId": "8b1ef401-cb4b-47cb-a449-8d81a5ce818f"
   },
   "outputs": [
    {
     "name": "stderr",
     "output_type": "stream",
     "text": [
      "C:\\Users\\k8s\\AppData\\Local\\Temp\\ipykernel_8916\\3867554964.py:3: UserWarning: color is redundantly defined by the 'color' keyword argument and the fmt string \"w*\" (-> color='w'). The keyword argument will take precedence.\n",
      "  plt.plot(t_instance[1:], time_series(t_instance[1:]), \"w*\", markersize=10, label=\"target\", color='yellow')\n"
     ]
    },
    {
     "data": {
      "image/png": "[encoded data removed]",
      "text/plain": [
       "<Figure size 640x480 with 1 Axes>"
      ]
     },
     "metadata": {},
     "output_type": "display_data"
    }
   ],
   "source": [
    "plt.title(\"Testing the Model\", fontsize=14)\n",
    "plt.plot(t_instance[:-1], time_series(t_instance[:-1]), \"bo\", markersize=10, label=\"instance\")\n",
    "plt.plot(t_instance[1:], time_series(t_instance[1:]), \"w*\", markersize=10, label=\"target\", color='yellow')\n",
    "plt.plot(t_instance[1:], y_pred[0,:,0], \"r.\", markersize=10, label=\"prediction\")\n",
    "plt.legend(loc=\"upper left\")\n",
    "plt.xlabel(\"Time\")\n",
    "\n",
    "plt.show()"
   ]
  },
  {
   "cell_type": "markdown",
   "id": "257cf41a-e4a9-4200-934c-7d614a095c00",
   "metadata": {
    "id": "257cf41a-e4a9-4200-934c-7d614a095c00"
   },
   "source": [
    "## 심층 RNN"
   ]
  },
  {
   "cell_type": "markdown",
   "id": "7691c54d-ec0a-497c-a629-ae1a2305d5dd",
   "metadata": {
    "id": "7691c54d-ec0a-497c-a629-ae1a2305d5dd"
   },
   "source": [
    "### 텐서플로에서의 Deep RNN"
   ]
  },
  {
   "cell_type": "code",
   "execution_count": 13,
   "id": "f8652576-68ee-446c-99b1-b302d141b2fd",
   "metadata": {
    "id": "f8652576-68ee-446c-99b1-b302d141b2fd",
    "outputId": "55613da4-f843-4fca-a732-194b2c8e3ad7"
   },
   "outputs": [
    {
     "name": "stderr",
     "output_type": "stream",
     "text": [
      "c:\\DEV\\envs\\py3_10_tf\\lib\\site-packages\\keras\\src\\layers\\core\\input_layer.py:27: UserWarning: Argument `input_shape` is deprecated. Use `shape` instead.\n",
      "  warnings.warn(\n"
     ]
    },
    {
     "data": {
      "text/html": [
       "<pre style=\"white-space:pre;overflow-x:auto;line-height:normal;font-family:Menlo,'DejaVu Sans Mono',consolas,'Courier New',monospace\"><span style=\"font-weight: bold\">Model: \"sequential_1\"</span>\n",
       "</pre>\n"
      ],
      "text/plain": [
       "\u001b[1mModel: \"sequential_1\"\u001b[0m\n"
      ]
     },
     "metadata": {},
     "output_type": "display_data"
    },
    {
     "data": {
      "text/html": [
       "<pre style=\"white-space:pre;overflow-x:auto;line-height:normal;font-family:Menlo,'DejaVu Sans Mono',consolas,'Courier New',monospace\">┏━━━━━━━━━━━━━━━━━━━━━━━━━━━━━━━━━━━━━━┳━━━━━━━━━━━━━━━━━━━━━━━━━━━━━┳━━━━━━━━━━━━━━━━━┓\n",
       "┃<span style=\"font-weight: bold\"> Layer (type)                         </span>┃<span style=\"font-weight: bold\"> Output Shape                </span>┃<span style=\"font-weight: bold\">         Param # </span>┃\n",
       "┡━━━━━━━━━━━━━━━━━━━━━━━━━━━━━━━━━━━━━━╇━━━━━━━━━━━━━━━━━━━━━━━━━━━━━╇━━━━━━━━━━━━━━━━━┩\n",
       "│ simple_rnn_3 (<span style=\"color: #0087ff; text-decoration-color: #0087ff\">SimpleRNN</span>)             │ (<span style=\"color: #00d7ff; text-decoration-color: #00d7ff\">None</span>, <span style=\"color: #00af00; text-decoration-color: #00af00\">5</span>, <span style=\"color: #00af00; text-decoration-color: #00af00\">100</span>)              │          <span style=\"color: #00af00; text-decoration-color: #00af00\">10,300</span> │\n",
       "├──────────────────────────────────────┼─────────────────────────────┼─────────────────┤\n",
       "│ simple_rnn_4 (<span style=\"color: #0087ff; text-decoration-color: #0087ff\">SimpleRNN</span>)             │ (<span style=\"color: #00d7ff; text-decoration-color: #00d7ff\">None</span>, <span style=\"color: #00af00; text-decoration-color: #00af00\">5</span>, <span style=\"color: #00af00; text-decoration-color: #00af00\">100</span>)              │          <span style=\"color: #00af00; text-decoration-color: #00af00\">20,100</span> │\n",
       "├──────────────────────────────────────┼─────────────────────────────┼─────────────────┤\n",
       "│ simple_rnn_5 (<span style=\"color: #0087ff; text-decoration-color: #0087ff\">SimpleRNN</span>)             │ (<span style=\"color: #00d7ff; text-decoration-color: #00d7ff\">None</span>, <span style=\"color: #00af00; text-decoration-color: #00af00\">5</span>, <span style=\"color: #00af00; text-decoration-color: #00af00\">100</span>)              │          <span style=\"color: #00af00; text-decoration-color: #00af00\">20,100</span> │\n",
       "└──────────────────────────────────────┴─────────────────────────────┴─────────────────┘\n",
       "</pre>\n"
      ],
      "text/plain": [
       "┏━━━━━━━━━━━━━━━━━━━━━━━━━━━━━━━━━━━━━━┳━━━━━━━━━━━━━━━━━━━━━━━━━━━━━┳━━━━━━━━━━━━━━━━━┓\n",
       "┃\u001b[1m \u001b[0m\u001b[1mLayer (type)                        \u001b[0m\u001b[1m \u001b[0m┃\u001b[1m \u001b[0m\u001b[1mOutput Shape               \u001b[0m\u001b[1m \u001b[0m┃\u001b[1m \u001b[0m\u001b[1m        Param #\u001b[0m\u001b[1m \u001b[0m┃\n",
       "┡━━━━━━━━━━━━━━━━━━━━━━━━━━━━━━━━━━━━━━╇━━━━━━━━━━━━━━━━━━━━━━━━━━━━━╇━━━━━━━━━━━━━━━━━┩\n",
       "│ simple_rnn_3 (\u001b[38;5;33mSimpleRNN\u001b[0m)             │ (\u001b[38;5;45mNone\u001b[0m, \u001b[38;5;34m5\u001b[0m, \u001b[38;5;34m100\u001b[0m)              │          \u001b[38;5;34m10,300\u001b[0m │\n",
       "├──────────────────────────────────────┼─────────────────────────────┼─────────────────┤\n",
       "│ simple_rnn_4 (\u001b[38;5;33mSimpleRNN\u001b[0m)             │ (\u001b[38;5;45mNone\u001b[0m, \u001b[38;5;34m5\u001b[0m, \u001b[38;5;34m100\u001b[0m)              │          \u001b[38;5;34m20,100\u001b[0m │\n",
       "├──────────────────────────────────────┼─────────────────────────────┼─────────────────┤\n",
       "│ simple_rnn_5 (\u001b[38;5;33mSimpleRNN\u001b[0m)             │ (\u001b[38;5;45mNone\u001b[0m, \u001b[38;5;34m5\u001b[0m, \u001b[38;5;34m100\u001b[0m)              │          \u001b[38;5;34m20,100\u001b[0m │\n",
       "└──────────────────────────────────────┴─────────────────────────────┴─────────────────┘\n"
      ]
     },
     "metadata": {},
     "output_type": "display_data"
    },
    {
     "data": {
      "text/html": [
       "<pre style=\"white-space:pre;overflow-x:auto;line-height:normal;font-family:Menlo,'DejaVu Sans Mono',consolas,'Courier New',monospace\"><span style=\"font-weight: bold\"> Total params: </span><span style=\"color: #00af00; text-decoration-color: #00af00\">50,500</span> (197.27 KB)\n",
       "</pre>\n"
      ],
      "text/plain": [
       "\u001b[1m Total params: \u001b[0m\u001b[38;5;34m50,500\u001b[0m (197.27 KB)\n"
      ]
     },
     "metadata": {},
     "output_type": "display_data"
    },
    {
     "data": {
      "text/html": [
       "<pre style=\"white-space:pre;overflow-x:auto;line-height:normal;font-family:Menlo,'DejaVu Sans Mono',consolas,'Courier New',monospace\"><span style=\"font-weight: bold\"> Trainable params: </span><span style=\"color: #00af00; text-decoration-color: #00af00\">50,500</span> (197.27 KB)\n",
       "</pre>\n"
      ],
      "text/plain": [
       "\u001b[1m Trainable params: \u001b[0m\u001b[38;5;34m50,500\u001b[0m (197.27 KB)\n"
      ]
     },
     "metadata": {},
     "output_type": "display_data"
    },
    {
     "data": {
      "text/html": [
       "<pre style=\"white-space:pre;overflow-x:auto;line-height:normal;font-family:Menlo,'DejaVu Sans Mono',consolas,'Courier New',monospace\"><span style=\"font-weight: bold\"> Non-trainable params: </span><span style=\"color: #00af00; text-decoration-color: #00af00\">0</span> (0.00 B)\n",
       "</pre>\n"
      ],
      "text/plain": [
       "\u001b[1m Non-trainable params: \u001b[0m\u001b[38;5;34m0\u001b[0m (0.00 B)\n"
      ]
     },
     "metadata": {},
     "output_type": "display_data"
    },
    {
     "name": "stdout",
     "output_type": "stream",
     "text": [
      "outputs_val shape: (2, 5, 100)\n"
     ]
    }
   ],
   "source": [
    "import tensorflow as tf\n",
    "import numpy as np\n",
    "\n",
    "################\n",
    "# Layer Params #\n",
    "################\n",
    "n_inputs = 2\n",
    "n_steps = 5\n",
    "n_neurons = 100\n",
    "n_layers = 3\n",
    "\n",
    "# 모델 정의\n",
    "model = tf.keras.Sequential()\n",
    "model.add(tf.keras.layers.InputLayer(input_shape=(n_steps, n_inputs)))\n",
    "\n",
    "for _ in range(n_layers):\n",
    "    model.add(tf.keras.layers.SimpleRNN(n_neurons, return_sequences=True))\n",
    "\n",
    "# 모델 빌드 (가짜 데이터로 한번 빌드해줍니다)\n",
    "model.build(input_shape=(None, n_steps, n_inputs))\n",
    "\n",
    "# 모델 요약 출력\n",
    "model.summary()\n",
    "\n",
    "# 샘플 데이터 생성\n",
    "batch_x = np.random.rand(2, n_steps, n_inputs)  # shape: (2, 5, 2)\n",
    "\n",
    "# 모델 예측\n",
    "outputs_val = model(batch_x)\n",
    "\n",
    "print('outputs_val shape:', outputs_val.shape)\n"
   ]
  },
  {
   "cell_type": "markdown",
   "id": "7d7c31c1-1ee7-4412-843e-a845ffd9dfa3",
   "metadata": {
    "id": "7d7c31c1-1ee7-4412-843e-a845ffd9dfa3"
   },
   "source": [
    "### Dropout 적용하기\n"
   ]
  },
  {
   "cell_type": "code",
   "execution_count": 14,
   "id": "3900bc65-2614-43b1-8d26-c57749933d31",
   "metadata": {
    "id": "3900bc65-2614-43b1-8d26-c57749933d31",
    "outputId": "d4a660fd-baf5-4446-8cc9-be07a8eecdb5"
   },
   "outputs": [
    {
     "name": "stdout",
     "output_type": "stream",
     "text": [
      "step: 000, MSE: 17.8411\n",
      "step: 300, MSE: 1.1253\n",
      "step: 600, MSE: 1.7158\n",
      "step: 900, MSE: 1.7287\n",
      "step: 1200, MSE: 1.8412\n",
      "\u001b[1m1/1\u001b[0m \u001b[32m━━━━━━━━━━━━━━━━━━━━\u001b[0m\u001b[37m\u001b[0m \u001b[1m0s\u001b[0m 250ms/step\n",
      "y_pred:\n",
      " [[[-2.5953543 ]\n",
      "  [-1.5752137 ]\n",
      "  [-0.7855113 ]\n",
      "  [ 0.36018515]\n",
      "  [ 1.5079751 ]\n",
      "  [ 2.151154  ]\n",
      "  [ 2.2791855 ]\n",
      "  [ 2.0051823 ]\n",
      "  [ 1.6649699 ]\n",
      "  [ 1.3929043 ]\n",
      "  [ 1.0405588 ]\n",
      "  [ 1.0893521 ]\n",
      "  [ 1.537915  ]\n",
      "  [ 1.8842788 ]\n",
      "  [ 2.4331925 ]\n",
      "  [ 3.2920883 ]\n",
      "  [ 4.2383304 ]\n",
      "  [ 4.8470397 ]\n",
      "  [ 4.651232  ]\n",
      "  [ 4.394106  ]]]\n"
     ]
    }
   ],
   "source": [
    "import tensorflow as tf\n",
    "import numpy as np\n",
    "\n",
    "# 시계열 함수 정의\n",
    "def time_series(t):\n",
    "    return t * np.sin(t) / 3 + 2 * np.sin(t * 5)\n",
    "\n",
    "# 다음 배치 생성 함수\n",
    "def next_batch(batch_size, n_steps):\n",
    "    t_min, t_max = 0, 30\n",
    "    resolution = 0.1\n",
    "    t0 = np.random.rand(batch_size, 1) * (t_max - t_min - n_steps * resolution)\n",
    "    Ts = t0 + np.arange(0., n_steps + 1) * resolution\n",
    "    ys = time_series(Ts)\n",
    "    return ys[:, :-1].reshape(-1, n_steps, 1), ys[:, 1:].reshape(-1, n_steps, 1)\n",
    "\n",
    "# 하이퍼파라미터 정의\n",
    "n_inputs = 1\n",
    "n_outputs = 1\n",
    "n_neurons = 100\n",
    "n_layers = 3\n",
    "n_steps = 20\n",
    "learning_rate = 0.01\n",
    "train_keep_prob = 0.3\n",
    "n_iterations = 1500\n",
    "batch_size = 50\n",
    "\n",
    "# 모델 정의\n",
    "inputs = tf.keras.Input(shape=[n_steps, n_inputs])\n",
    "x = inputs\n",
    "for _ in range(n_layers):\n",
    "    x = tf.keras.layers.SimpleRNN(n_neurons, return_sequences=True, dropout=train_keep_prob)(x)\n",
    "outputs = tf.keras.layers.Dense(n_outputs)(x)\n",
    "\n",
    "model = tf.keras.Model(inputs=inputs, outputs=outputs)\n",
    "\n",
    "# 모델 컴파일\n",
    "model.compile(loss='mean_squared_error', optimizer=tf.keras.optimizers.Adam(learning_rate=learning_rate))\n",
    "\n",
    "# 학습 루프\n",
    "for iteration in range(n_iterations):\n",
    "    batch_x, batch_y = next_batch(batch_size, n_steps)\n",
    "    model.train_on_batch(batch_x, batch_y)\n",
    "    if iteration % 300 == 0:\n",
    "        loss = model.evaluate(batch_x, batch_y, verbose=0)\n",
    "        print(f'step: {iteration:03d}, MSE: {loss:.4f}')\n",
    "\n",
    "# 새로운 데이터 예측하기\n",
    "t_instance = np.linspace(12.2, 12.2 + 0.1 * (n_steps + 1), n_steps + 1)\n",
    "X_new = time_series(t_instance[:-1]).reshape(-1, n_steps, n_inputs)\n",
    "y_pred = model.predict(X_new)\n",
    "\n",
    "print('y_pred:\\n', y_pred)\n"
   ]
  },
  {
   "cell_type": "code",
   "execution_count": 15,
   "id": "596be675-0f74-481d-97df-5c7b2cb05e3b",
   "metadata": {
    "id": "596be675-0f74-481d-97df-5c7b2cb05e3b",
    "outputId": "7fb5aa6d-af46-4695-a9a7-fae4bdc2a64e"
   },
   "outputs": [
    {
     "name": "stderr",
     "output_type": "stream",
     "text": [
      "C:\\Users\\k8s\\AppData\\Local\\Temp\\ipykernel_8916\\3867554964.py:3: UserWarning: color is redundantly defined by the 'color' keyword argument and the fmt string \"w*\" (-> color='w'). The keyword argument will take precedence.\n",
      "  plt.plot(t_instance[1:], time_series(t_instance[1:]), \"w*\", markersize=10, label=\"target\", color='yellow')\n"
     ]
    },
    {
     "data": {
      "image/png": "[encoded data removed]",
      "text/plain": [
       "<Figure size 640x480 with 1 Axes>"
      ]
     },
     "metadata": {},
     "output_type": "display_data"
    }
   ],
   "source": [
    "plt.title(\"Testing the Model\", fontsize=14)\n",
    "plt.plot(t_instance[:-1], time_series(t_instance[:-1]), \"bo\", markersize=10, label=\"instance\")\n",
    "plt.plot(t_instance[1:], time_series(t_instance[1:]), \"w*\", markersize=10, label=\"target\", color='yellow')\n",
    "plt.plot(t_instance[1:], y_pred[0,:,0], \"r.\", markersize=10, label=\"prediction\")\n",
    "plt.legend(loc=\"upper left\")\n",
    "plt.xlabel(\"Time\")\n",
    "\n",
    "plt.show()"
   ]
  },
  {
   "cell_type": "markdown",
   "id": "f4647324-3bd4-42c2-9552-660b581af656",
   "metadata": {
    "id": "f4647324-3bd4-42c2-9552-660b581af656"
   },
   "source": [
    "## 텐서플로에서의 LSTM 셀"
   ]
  },
  {
   "cell_type": "code",
   "execution_count": 16,
   "id": "10644432-c2a0-4efa-9378-7fa65f014ae7",
   "metadata": {
    "id": "10644432-c2a0-4efa-9378-7fa65f014ae7",
    "outputId": "0dc61735-4137-450a-ed05-97dc04c95517"
   },
   "outputs": [
    {
     "name": "stdout",
     "output_type": "stream",
     "text": [
      "train_x.shape : (55000, 28, 28)\n",
      "valid_x.shape : (5000, 28, 28)\n",
      "test_x.shape : (10000, 28, 28)\n",
      "epoch: 001, train_loss: 0.1556, train_acc: 0.9520, valid_loss: 0.1380, valid_acc: 0.9590\n",
      "epoch: 002, train_loss: 0.0850, train_acc: 0.9738, valid_loss: 0.0798, valid_acc: 0.9746\n",
      "epoch: 003, train_loss: 0.0645, train_acc: 0.9791, valid_loss: 0.0666, valid_acc: 0.9806\n",
      "epoch: 004, train_loss: 0.0523, train_acc: 0.9843, valid_loss: 0.0558, valid_acc: 0.9850\n",
      "epoch: 005, train_loss: 0.0365, train_acc: 0.9894, valid_loss: 0.0498, valid_acc: 0.9864\n",
      "test_loss: 0.0497, test_acc: 0.9852\n"
     ]
    }
   ],
   "source": [
    "import tensorflow as tf\n",
    "import numpy as np\n",
    "\n",
    "################\n",
    "# Layer Params #\n",
    "################\n",
    "n_steps = 28\n",
    "n_inputs = 28\n",
    "n_neurons = 150\n",
    "n_outputs = 10\n",
    "n_layers = 3\n",
    "\n",
    "# MNIST Data Load\n",
    "(train_x, train_y), (test_x, test_y) = tf.keras.datasets.mnist.load_data()\n",
    "train_x = train_x.astype(np.float32) / 255.0  # normalize to [0,1]\n",
    "test_x = test_x.astype(np.float32) / 255.0\n",
    "train_y = train_y.astype(np.int32)\n",
    "test_y = test_y.astype(np.int32)\n",
    "valid_x, train_x = train_x[:5000], train_x[5000:]\n",
    "valid_y, train_y = train_y[:5000], train_y[5000:]\n",
    "train_x = train_x.reshape([-1, n_steps, n_inputs])\n",
    "test_x = test_x.reshape([-1, n_steps, n_inputs])\n",
    "valid_x = valid_x.reshape([-1, n_steps, n_inputs])\n",
    "\n",
    "print('train_x.shape :', train_x.shape)\n",
    "print('valid_x.shape :', valid_x.shape)\n",
    "print('test_x.shape :', test_x.shape)\n",
    "\n",
    "# Mini-batch\n",
    "def shuffle_batch(features, labels, batch_size):\n",
    "    rnd_idx = np.random.permutation(len(features))\n",
    "    n_batches = len(features) // batch_size\n",
    "    for batch_idx in np.array_split(rnd_idx, n_batches):\n",
    "        batch_x, batch_y = features[batch_idx], labels[batch_idx]\n",
    "        yield batch_x, batch_y\n",
    "\n",
    "# LSTM Model\n",
    "model = tf.keras.Sequential()\n",
    "model.add(tf.keras.layers.InputLayer(input_shape=(n_steps, n_inputs)))\n",
    "for _ in range(n_layers):\n",
    "    model.add(tf.keras.layers.LSTM(n_neurons, return_sequences=True))\n",
    "model.add(tf.keras.layers.LSTM(n_neurons))\n",
    "model.add(tf.keras.layers.Dense(n_outputs))\n",
    "\n",
    "# Compile the model\n",
    "model.compile(optimizer=tf.keras.optimizers.Adam(learning_rate=0.001),\n",
    "              loss=tf.keras.losses.SparseCategoricalCrossentropy(from_logits=True),\n",
    "              metrics=['accuracy'])\n",
    "\n",
    "################\n",
    "# Train Params #\n",
    "################\n",
    "n_epochs = 5\n",
    "batch_size = 150\n",
    "\n",
    "# Train the model\n",
    "for epoch in range(n_epochs):\n",
    "    for batch_x, batch_y in shuffle_batch(train_x, train_y, batch_size):\n",
    "        model.train_on_batch(batch_x, batch_y)\n",
    "    train_loss, train_acc = model.evaluate(train_x, train_y, verbose=0)\n",
    "    valid_loss, valid_acc = model.evaluate(valid_x, valid_y, verbose=0)\n",
    "    print(f'epoch: {epoch+1:03d}, train_loss: {train_loss:.4f}, train_acc: {train_acc:.4f}, valid_loss: {valid_loss:.4f}, valid_acc: {valid_acc:.4f}')\n",
    "\n",
    "# 평가\n",
    "test_loss, test_acc = model.evaluate(test_x, test_y, verbose=0)\n",
    "print(f'test_loss: {test_loss:.4f}, test_acc: {test_acc:.4f}')\n"
   ]
  },
  {
   "cell_type": "markdown",
   "id": "3e606439-0365-44e2-89d3-646120195371",
   "metadata": {
    "id": "3e606439-0365-44e2-89d3-646120195371"
   },
   "source": [
    "## GRU Cell"
   ]
  },
  {
   "cell_type": "code",
   "execution_count": 17,
   "id": "4276f6ee-467f-4ca9-b9a0-229113b61255",
   "metadata": {
    "id": "4276f6ee-467f-4ca9-b9a0-229113b61255"
   },
   "outputs": [
    {
     "name": "stdout",
     "output_type": "stream",
     "text": [
      "train_x.shape : (55000, 28, 28)\n",
      "valid_x.shape : (5000, 28, 28)\n",
      "test_x.shape : (10000, 28, 28)\n",
      "epoch: 001, train_loss: 0.1437, train_acc: 0.9553, valid_loss: 0.1283, valid_acc: 0.9608\n",
      "epoch: 002, train_loss: 0.0826, train_acc: 0.9739, valid_loss: 0.0793, valid_acc: 0.9758\n",
      "epoch: 003, train_loss: 0.0524, train_acc: 0.9825, valid_loss: 0.0649, valid_acc: 0.9802\n",
      "epoch: 004, train_loss: 0.0326, train_acc: 0.9899, valid_loss: 0.0443, valid_acc: 0.9872\n",
      "epoch: 005, train_loss: 0.0265, train_acc: 0.9917, valid_loss: 0.0420, valid_acc: 0.9872\n",
      "test_loss: 0.0379, test_acc: 0.9879\n"
     ]
    }
   ],
   "source": [
    "import tensorflow as tf\n",
    "import numpy as np\n",
    "\n",
    "################\n",
    "# Layer Params #\n",
    "################\n",
    "n_steps = 28\n",
    "n_inputs = 28\n",
    "n_neurons = 150\n",
    "n_outputs = 10\n",
    "n_layers = 3\n",
    "\n",
    "# MNIST Data Load\n",
    "(train_x, train_y), (test_x, test_y) = tf.keras.datasets.mnist.load_data()\n",
    "train_x = train_x.astype(np.float32) / 255.0  # normalize to [0,1]\n",
    "test_x = test_x.astype(np.float32) / 255.0\n",
    "train_y = train_y.astype(np.int32)\n",
    "test_y = test_y.astype(np.int32)\n",
    "valid_x, train_x = train_x[:5000], train_x[5000:]\n",
    "valid_y, train_y = train_y[:5000], train_y[5000:]\n",
    "train_x = train_x.reshape([-1, n_steps, n_inputs])\n",
    "test_x = test_x.reshape([-1, n_steps, n_inputs])\n",
    "valid_x = valid_x.reshape([-1, n_steps, n_inputs])\n",
    "\n",
    "print('train_x.shape :', train_x.shape)\n",
    "print('valid_x.shape :', valid_x.shape)\n",
    "print('test_x.shape :', test_x.shape)\n",
    "\n",
    "# Mini-batch\n",
    "def shuffle_batch(features, labels, batch_size):\n",
    "    rnd_idx = np.random.permutation(len(features))\n",
    "    n_batches = len(features) // batch_size\n",
    "    for batch_idx in np.array_split(rnd_idx, n_batches):\n",
    "        batch_x, batch_y = features[batch_idx], labels[batch_idx]\n",
    "        yield batch_x, batch_y\n",
    "\n",
    "# GRU Model\n",
    "model = tf.keras.Sequential()\n",
    "model.add(tf.keras.layers.InputLayer(input_shape=(n_steps, n_inputs)))\n",
    "for _ in range(n_layers):\n",
    "    model.add(tf.keras.layers.GRU(n_neurons, return_sequences=True))\n",
    "model.add(tf.keras.layers.GRU(n_neurons))\n",
    "model.add(tf.keras.layers.Dense(n_outputs))\n",
    "\n",
    "# Compile the model\n",
    "model.compile(optimizer=tf.keras.optimizers.Adam(learning_rate=0.001),\n",
    "              loss=tf.keras.losses.SparseCategoricalCrossentropy(from_logits=True),\n",
    "              metrics=['accuracy'])\n",
    "\n",
    "################\n",
    "# Train Params #\n",
    "################\n",
    "n_epochs = 5\n",
    "batch_size = 150\n",
    "\n",
    "# Train the model\n",
    "for epoch in range(n_epochs):\n",
    "    for batch_x, batch_y in shuffle_batch(train_x, train_y, batch_size):\n",
    "        model.train_on_batch(batch_x, batch_y)\n",
    "    train_loss, train_acc = model.evaluate(train_x, train_y, verbose=0)\n",
    "    valid_loss, valid_acc = model.evaluate(valid_x, valid_y, verbose=0)\n",
    "    print(f'epoch: {epoch+1:03d}, train_loss: {train_loss:.4f}, train_acc: {train_acc:.4f}, valid_loss: {valid_loss:.4f}, valid_acc: {valid_acc:.4f}')\n",
    "\n",
    "# 평가\n",
    "test_loss, test_acc = model.evaluate(test_x, test_y, verbose=0)\n",
    "print(f'test_loss: {test_loss:.4f}, test_acc: {test_acc:.4f}')\n"
   ]
  }
 ],
 "metadata": {
  "colab": {
   "provenance": []
  },
  "kernelspec": {
   "display_name": "py3_10_tf",
   "language": "python",
   "name": "py3_10_tf"
  },
  "language_info": {
   "codemirror_mode": {
    "name": "ipython",
    "version": 3
   },
   "file_extension": ".py",
   "mimetype": "text/x-python",
   "name": "python",
   "nbconvert_exporter": "python",
   "pygments_lexer": "ipython3",
   "version": "3.10.11"
  }
 },
 "nbformat": 4,
 "nbformat_minor": 5
}
