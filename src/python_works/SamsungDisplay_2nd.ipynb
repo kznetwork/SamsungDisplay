{
 "cells": [
  {
   "cell_type": "markdown",
   "id": "T5tSUn3wZFEz",
   "metadata": {
    "id": "T5tSUn3wZFEz"
   },
   "source": [
    "# Setup"
   ]
  },
  {
   "cell_type": "code",
   "execution_count": null,
   "id": "iSh2hcg1ZCZb",
   "metadata": {
    "colab": {
     "base_uri": "https://localhost:8080/"
    },
    "id": "iSh2hcg1ZCZb",
    "outputId": "fd9a59d2-8818-458c-aa0b-eb687b99df59"
   },
   "outputs": [
    {
     "name": "stdout",
     "output_type": "stream",
     "text": [
      "Cloning into 'SamsungElectronics_Gumi'...\n",
      "remote: Enumerating objects: 52, done.\u001b[K\n",
      "remote: Counting objects: 100% (52/52), done.\u001b[K\n",
      "remote: Compressing objects: 100% (50/50), done.\u001b[K\n",
      "remote: Total 52 (delta 15), reused 0 (delta 0), pack-reused 0 (from 0)\u001b[K\n",
      "Receiving objects: 100% (52/52), 14.75 MiB | 5.39 MiB/s, done.\n",
      "Resolving deltas: 100% (15/15), done.\n"
     ]
    }
   ],
   "source": [
    "!git clone https://github.com/onlookertozip/SamsungElectronics_Gumi.git"
   ]
  },
  {
   "cell_type": "markdown",
   "id": "hReCCGfh6Axe",
   "metadata": {
    "id": "hReCCGfh6Axe"
   },
   "source": [
    "# 『2과목』 빅데이터 분석 도구"
   ]
  },
  {
   "cell_type": "code",
   "execution_count": 17,
   "id": "8N16Eborr1m3",
   "metadata": {
    "colab": {
     "base_uri": "https://localhost:8080/"
    },
    "id": "8N16Eborr1m3",
    "outputId": "f470688c-e04c-4b3c-b3a5-3779a9c44098"
   },
   "outputs": [
    {
     "name": "stdout",
     "output_type": "stream",
     "text": [
      "0 85.71676 [0.4138707] [0.2949987] [-0.4610717]\n",
      "500 0.026779156 [0.30249125] [-0.14151904] [-0.13593355]\n",
      "1000 0.010475041 [0.38645342] [-0.28577638] [0.09228586]\n",
      "1500 0.004097466 [0.4389658] [-0.37599918] [0.23502132]\n",
      "2000 0.0016027845 [0.47180876] [-0.43242753] [0.32429266]\n",
      "2500 0.00062695076 [0.49234995] [-0.4677197] [0.38012567]\n",
      "3000 0.00024523743 [0.5051971] [-0.48979262] [0.41504532]\n",
      "3500 9.5928306e-05 [0.5132323] [-0.5035979] [0.43688527]\n",
      "4000 3.7523267e-05 [0.5182574] [-0.51223177] [0.4505446]\n",
      "4500 1.4676504e-05 [0.52140003] [-0.5176314] [0.45908785]\n",
      "5000 5.7405136e-06 [0.5233661] [-0.5210092] [0.46443093]\n",
      "뺄셈 결과 : [1.5158769]\n"
     ]
    }
   ],
   "source": [
    "#import tensorflow as tf\n",
    "import tensorflow.compat.v1 as tf\n",
    "tf.disable_v2_behavior()\n",
    "#데이터 셋 -X1, X2\n",
    "X1=tf.placeholder(tf.float32, shape=[None])\n",
    "X2=tf.placeholder(tf.float32, shape=[None])\n",
    "y=tf.placeholder(tf.float32, shape=[None])\n",
    "W1=tf.Variable(tf.random_normal([1]), name=\"weight1\")\n",
    "W2=tf.Variable(tf.random_normal([1]), name=\"weight2\")\n",
    "b=tf.Variable(tf.random_normal([1]), name=\"bias\")\n",
    "#(H(x))\n",
    "hypothesis=X1*W1+X2*W2+b\n",
    "#손실함수\n",
    "cost=tf.reduce_mean(tf.square(hypothesis-y))\n",
    "#경사하강\n",
    "optimizer=tf.train.GradientDescentOptimizer(learning_rate=0.01)\n",
    "#개선\n",
    "train=optimizer.minimize(cost)\n",
    "#훈련\n",
    "sess = tf.Session()\n",
    "sess.run(tf.global_variables_initializer())\n",
    "for step in range(5001):\n",
    "    #sess.run(train)\n",
    "    _cost, _W1, _W2, _b, _= \\\n",
    "      sess.run([cost, W1, W2, b, train],\n",
    "               feed_dict={\n",
    "                   X1: [5,7],\n",
    "                   X2: [4,6],\n",
    "                   y: [1,1]\n",
    "               })\n",
    "    if step % 500 == 0:\n",
    "      print(step, _cost, _W1, _W2, _b)\n",
    "print(\"뺄셈 결과 :\", sess.run(hypothesis, feed_dict={X1: [4], X2: [2]}))"
   ]
  },
  {
   "cell_type": "code",
   "execution_count": 18,
   "id": "YfT2tYWPr1qZ",
   "metadata": {
    "colab": {
     "base_uri": "https://localhost:8080/"
    },
    "id": "YfT2tYWPr1qZ",
    "outputId": "24ca589d-e001-4793-83e2-ca7a2b36e256"
   },
   "outputs": [
    {
     "name": "stdout",
     "output_type": "stream",
     "text": [
      "0 986.03644 [2.4116135] [3.108376] [1.7314584]\n",
      "500 8.669229 [3.6764705] [4.373232] [-11.800347]\n",
      "1000 5.917676 [3.9968572] [4.6936193] [-15.217525]\n",
      "1500 5.742189 [4.0777698] [4.774532] [-16.080513]\n",
      "2000 5.73099 [4.0982027] [4.794965] [-16.298452]\n",
      "2500 5.7302856 [4.103363] [4.800125] [-16.353487]\n",
      "3000 5.730231 [4.104666] [4.8014283] [-16.367388]\n",
      "3500 5.7302375 [4.1049953] [4.8017573] [-16.370895]\n",
      "4000 5.7302365 [4.1050744] [4.8018365] [-16.371742]\n",
      "4500 5.7302365 [4.1050744] [4.8018365] [-16.371742]\n",
      "5000 5.7302365 [4.1050744] [4.8018365] [-16.371742]\n",
      "곱셈 결과 : [19.255901]\n"
     ]
    }
   ],
   "source": [
    "#import tensorflow as tf\n",
    "import tensorflow.compat.v1 as tf\n",
    "tf.disable_v2_behavior()\n",
    "#데이터 셋 -X1, X2\n",
    "X1=tf.placeholder(tf.float32, shape=[None])\n",
    "X2=tf.placeholder(tf.float32, shape=[None])\n",
    "y=tf.placeholder(tf.float32, shape=[None])\n",
    "W1=tf.Variable(tf.random_normal([1]), name=\"weight1\")\n",
    "W2=tf.Variable(tf.random_normal([1]), name=\"weight2\")\n",
    "b=tf.Variable(tf.random_normal([1]), name=\"bias\")\n",
    "#(H(x))\n",
    "hypothesis=X1*W1+X2*W2+b\n",
    "#손실함수\n",
    "cost=tf.reduce_mean(tf.square(hypothesis-y))\n",
    "#경사하강\n",
    "optimizer=tf.train.GradientDescentOptimizer(learning_rate=0.01)\n",
    "#개선\n",
    "train=optimizer.minimize(cost)\n",
    "#훈련\n",
    "sess = tf.Session()\n",
    "sess.run(tf.global_variables_initializer())\n",
    "for step in range(5001):\n",
    "    #sess.run(train)\n",
    "    _cost, _W1, _W2, _b, _= \\\n",
    "      sess.run([cost, W1, W2, b, train],\n",
    "               feed_dict={\n",
    "                   X1: [5,7,2,3,6],\n",
    "                   X2: [5,7,2,3,6],\n",
    "                   y: [25,49,4,9,36]\n",
    "               })\n",
    "    if step % 500 == 0:\n",
    "      print(step, _cost, _W1, _W2, _b)\n",
    "print(\"곱셈 결과 :\", sess.run(hypothesis, feed_dict={X1: [4], X2: [4]}))"
   ]
  },
  {
   "cell_type": "code",
   "execution_count": 19,
   "id": "ADn_oj1gxDMw",
   "metadata": {
    "colab": {
     "base_uri": "https://localhost:8080/"
    },
    "id": "ADn_oj1gxDMw",
    "outputId": "fef8310b-0044-469c-a20f-6223cb949475"
   },
   "outputs": [
    {
     "name": "stdout",
     "output_type": "stream",
     "text": [
      "0 45.938946 [-0.33095807] [1.4999142] [-0.6602367]\n",
      "500 0.09960076 [-0.5463995] [1.3921943] [1.0039762]\n",
      "1000 0.0139387 [-0.6213567] [1.3547152] [1.6273943]\n",
      "1500 0.0019506628 [-0.64939827] [1.3406957] [1.8606107]\n",
      "2000 0.00027298243 [-0.65988934] [1.3354527] [1.947856]\n",
      "2500 3.8205166e-05 [-0.6638141] [1.3334919] [1.9804927]\n",
      "3000 5.3468116e-06 [-0.6652826] [1.3327589] [1.9927022]\n",
      "3500 7.482531e-07 [-0.6658317] [1.3324839] [1.99727]\n",
      "4000 1.047647e-07 [-0.6660386] [1.3323842] [1.9989784]\n",
      "4500 1.46799835e-08 [-0.666114] [1.332343] [1.9996176]\n",
      "5000 2.0807533e-09 [-0.66614896] [1.3323412] [1.999856]\n",
      "나눗셈 결과 : [0.6676445]\n"
     ]
    }
   ],
   "source": [
    "#import tensorflow as tf\n",
    "import tensorflow.compat.v1 as tf\n",
    "tf.disable_v2_behavior()\n",
    "#데이터 셋 -X1, X2\n",
    "X1=tf.placeholder(tf.float32, shape=[None])\n",
    "X2=tf.placeholder(tf.float32, shape=[None])\n",
    "y=tf.placeholder(tf.float32, shape=[None])\n",
    "W1=tf.Variable(tf.random_normal([1]), name=\"weight1\")\n",
    "W2=tf.Variable(tf.random_normal([1]), name=\"weight2\")\n",
    "b=tf.Variable(tf.random_normal([1]), name=\"bias\")\n",
    "#(H(x))\n",
    "hypothesis=X1*W1+X2*W2+b\n",
    "#손실함수\n",
    "cost=tf.reduce_mean(tf.square(hypothesis-y))\n",
    "#경사하강\n",
    "optimizer=tf.train.GradientDescentOptimizer(learning_rate=0.01)\n",
    "#개선\n",
    "train=optimizer.minimize(cost)\n",
    "#훈련\n",
    "sess = tf.Session()\n",
    "sess.run(tf.global_variables_initializer())\n",
    "for step in range(5001):\n",
    "    #sess.run(train)\n",
    "    _cost, _W1, _W2, _b, _= \\\n",
    "      sess.run([cost, W1, W2, b, train],\n",
    "               feed_dict={\n",
    "                   X1: [4,8],\n",
    "                   X2: [2,4],\n",
    "                   y: [2,2]\n",
    "               })\n",
    "    if step % 500 == 0:\n",
    "      print(step, _cost, _W1, _W2, _b)\n",
    "print(\"나눗셈 결과 :\", sess.run(hypothesis, feed_dict={X1: [6], X2: [2]}))"
   ]
  },
  {
   "cell_type": "code",
   "execution_count": 20,
   "id": "tbd9O4ESxOTk",
   "metadata": {
    "colab": {
     "base_uri": "https://localhost:8080/"
    },
    "id": "tbd9O4ESxOTk",
    "outputId": "a98a5a4b-9c3f-4062-aa51-aa0abc5d9fe3"
   },
   "outputs": [
    {
     "name": "stdout",
     "output_type": "stream",
     "text": [
      "0 4567259600.0 [10399.743] [2158.0483]\n",
      "500 8689515.0 [25535.2] [1961.6893]\n",
      "1000 8633857.0 [25627.168] [1506.2618]\n",
      "1500 8632678.0 [25640.57] [1439.8954]\n",
      "2000 8632653.0 [25642.523] [1430.2205]\n",
      "2500 8632640.0 [25642.805] [1428.8242]\n",
      "3000 8632657.0 [25642.844] [1428.6343]\n",
      "3500 8632657.0 [25642.848] [1428.6133]\n",
      "4000 8632657.0 [25642.848] [1428.6133]\n",
      "4500 8632657.0 [25642.848] [1428.6133]\n",
      "5000 8632657.0 [25642.848] [1428.6133]\n",
      "[206571.39]\n"
     ]
    }
   ],
   "source": [
    "#import tensorflow as tf\n",
    "import tensorflow.compat.v1 as tf\n",
    "tf.disable_v2_behavior()\n",
    "\n",
    "xData=[1,2,3,4,5,6,7]\n",
    "yData=[25000,55000,75000,110000,128000,155000,180000]\n",
    "\n",
    "W=tf.Variable(tf.random_uniform([1], -100, 100))\n",
    "b=tf.Variable(tf.random_uniform([1], -100, 100))\n",
    "\n",
    "X=tf.placeholder(tf.float32)\n",
    "Y=tf.placeholder(tf.float32)\n",
    "\n",
    "H=W*X+b\n",
    "cost=tf.reduce_mean(tf.square(H-Y))\n",
    "\n",
    "a=tf.Variable(0.01)\n",
    "optimizer=tf.train.GradientDescentOptimizer(a)\n",
    "train=optimizer.minimize(cost)\n",
    "init=tf.global_variables_initializer()\n",
    "\n",
    "sess=tf.Session()\n",
    "sess.run(init)\n",
    "\n",
    "for i in range(5001):\n",
    "   sess.run(train, feed_dict={X: xData, Y: yData})\n",
    "   if i % 500 ==0:\n",
    "       print(i, sess.run(cost, feed_dict={X: xData, Y: yData}), sess.run(W), sess.run(b))\n",
    "print(sess.run(H, feed_dict={X: [8]}))"
   ]
  },
  {
   "cell_type": "markdown",
   "id": "f5c94e9c-e25c-4cb7-b40c-f5e036f04b74",
   "metadata": {},
   "source": [
    "## 『2-2』 빅데이터 분석 도구 –fundamental"
   ]
  },
  {
   "cell_type": "markdown",
   "id": "1dc4871d-8e90-4abf-a481-452dcdf040b3",
   "metadata": {
    "jp-MarkdownHeadingCollapsed": true
   },
   "source": [
    "### 파이썬의 예외처리와 내장함수"
   ]
  },
  {
   "cell_type": "markdown",
   "id": "0cde89fe-0ffc-44f7-aa44-6c44da6ed994",
   "metadata": {},
   "source": [
    "1. 예외처리"
   ]
  },
  {
   "cell_type": "code",
   "execution_count": 2,
   "id": "800428d0-833e-483e-bebd-bfb1e95027fc",
   "metadata": {},
   "outputs": [
    {
     "ename": "FileNotFoundError",
     "evalue": "[Errno 2] No such file or directory: 'not exist file'",
     "output_type": "error",
     "traceback": [
      "\u001b[1;31m---------------------------------------------------------------------------\u001b[0m",
      "\u001b[1;31mFileNotFoundError\u001b[0m                         Traceback (most recent call last)",
      "Cell \u001b[1;32mIn[2], line 1\u001b[0m\n\u001b[1;32m----> 1\u001b[0m f \u001b[38;5;241m=\u001b[39m \u001b[38;5;28;43mopen\u001b[39;49m\u001b[43m(\u001b[49m\u001b[38;5;124;43m\"\u001b[39;49m\u001b[38;5;124;43mnot exist file\u001b[39;49m\u001b[38;5;124;43m\"\u001b[39;49m\u001b[43m,\u001b[49m\u001b[43m \u001b[49m\u001b[38;5;124;43m'\u001b[39;49m\u001b[38;5;124;43mr\u001b[39;49m\u001b[38;5;124;43m'\u001b[39;49m\u001b[43m)\u001b[49m\n",
      "File \u001b[1;32mc:\\DEV\\envs\\py3_10_basic\\lib\\site-packages\\IPython\\core\\interactiveshell.py:324\u001b[0m, in \u001b[0;36m_modified_open\u001b[1;34m(file, *args, **kwargs)\u001b[0m\n\u001b[0;32m    317\u001b[0m \u001b[38;5;28;01mif\u001b[39;00m file \u001b[38;5;129;01min\u001b[39;00m {\u001b[38;5;241m0\u001b[39m, \u001b[38;5;241m1\u001b[39m, \u001b[38;5;241m2\u001b[39m}:\n\u001b[0;32m    318\u001b[0m     \u001b[38;5;28;01mraise\u001b[39;00m \u001b[38;5;167;01mValueError\u001b[39;00m(\n\u001b[0;32m    319\u001b[0m         \u001b[38;5;124mf\u001b[39m\u001b[38;5;124m\"\u001b[39m\u001b[38;5;124mIPython won\u001b[39m\u001b[38;5;124m'\u001b[39m\u001b[38;5;124mt let you open fd=\u001b[39m\u001b[38;5;132;01m{\u001b[39;00mfile\u001b[38;5;132;01m}\u001b[39;00m\u001b[38;5;124m by default \u001b[39m\u001b[38;5;124m\"\u001b[39m\n\u001b[0;32m    320\u001b[0m         \u001b[38;5;124m\"\u001b[39m\u001b[38;5;124mas it is likely to crash IPython. If you know what you are doing, \u001b[39m\u001b[38;5;124m\"\u001b[39m\n\u001b[0;32m    321\u001b[0m         \u001b[38;5;124m\"\u001b[39m\u001b[38;5;124myou can use builtins\u001b[39m\u001b[38;5;124m'\u001b[39m\u001b[38;5;124m open.\u001b[39m\u001b[38;5;124m\"\u001b[39m\n\u001b[0;32m    322\u001b[0m     )\n\u001b[1;32m--> 324\u001b[0m \u001b[38;5;28;01mreturn\u001b[39;00m io_open(file, \u001b[38;5;241m*\u001b[39margs, \u001b[38;5;241m*\u001b[39m\u001b[38;5;241m*\u001b[39mkwargs)\n",
      "\u001b[1;31mFileNotFoundError\u001b[0m: [Errno 2] No such file or directory: 'not exist file'"
     ]
    }
   ],
   "source": [
    "f = open(\"not exist file\", 'r')"
   ]
  },
  {
   "cell_type": "code",
   "execution_count": 3,
   "id": "0ea94e20-fcf8-46f1-9619-5c1e40260164",
   "metadata": {},
   "outputs": [
    {
     "ename": "ZeroDivisionError",
     "evalue": "division by zero",
     "output_type": "error",
     "traceback": [
      "\u001b[1;31m---------------------------------------------------------------------------\u001b[0m",
      "\u001b[1;31mZeroDivisionError\u001b[0m                         Traceback (most recent call last)",
      "Cell \u001b[1;32mIn[3], line 1\u001b[0m\n\u001b[1;32m----> 1\u001b[0m \u001b[38;5;241;43m4\u001b[39;49m\u001b[38;5;241;43m/\u001b[39;49m\u001b[38;5;241;43m0\u001b[39;49m\n",
      "\u001b[1;31mZeroDivisionError\u001b[0m: division by zero"
     ]
    }
   ],
   "source": [
    "4/0"
   ]
  },
  {
   "cell_type": "code",
   "execution_count": 5,
   "id": "b7c30129-82e8-46b4-8f5f-d98fd9203434",
   "metadata": {},
   "outputs": [
    {
     "ename": "IndexError",
     "evalue": "list index out of range",
     "output_type": "error",
     "traceback": [
      "\u001b[1;31m---------------------------------------------------------------------------\u001b[0m",
      "\u001b[1;31mIndexError\u001b[0m                                Traceback (most recent call last)",
      "Cell \u001b[1;32mIn[5], line 2\u001b[0m\n\u001b[0;32m      1\u001b[0m a \u001b[38;5;241m=\u001b[39m [\u001b[38;5;241m1\u001b[39m,\u001b[38;5;241m2\u001b[39m,\u001b[38;5;241m3\u001b[39m]\n\u001b[1;32m----> 2\u001b[0m \u001b[43ma\u001b[49m\u001b[43m[\u001b[49m\u001b[38;5;241;43m4\u001b[39;49m\u001b[43m]\u001b[49m\n",
      "\u001b[1;31mIndexError\u001b[0m: list index out of range"
     ]
    }
   ],
   "source": [
    "a = [1,2,3]\n",
    "a[4]"
   ]
  },
  {
   "cell_type": "code",
   "execution_count": 6,
   "id": "1550be89-4e75-404d-9608-924fc768f0e3",
   "metadata": {},
   "outputs": [
    {
     "name": "stdout",
     "output_type": "stream",
     "text": [
      "Output #2 (Error): nan\n",
      "Output #3 (Error): division by zero\n"
     ]
    }
   ],
   "source": [
    "def getMean(numericValues):\n",
    "  return sum(numericValues)/len(numericValues)\n",
    "  \n",
    "my_list2 = [ ]\n",
    "\n",
    "try:\n",
    "  print(\"Output #1: {}\".format(getMean(my_list2)))\n",
    "except ZeroDivisionError as detail:\n",
    "  print(\"Output #2 (Error): {}\".format(float('nan')))\n",
    "  print(\"Output #3 (Error): {}\".format(detail))"
   ]
  },
  {
   "cell_type": "code",
   "execution_count": 1,
   "id": "bd39febd-090a-486a-89fe-cd8ad4831a2c",
   "metadata": {},
   "outputs": [
    {
     "name": "stdout",
     "output_type": "stream",
     "text": [
      "나누기 전용 계산기입니다.\n"
     ]
    },
    {
     "name": "stdin",
     "output_type": "stream",
     "text": [
      "첫 번째 숫자를 입력하세요 :  6\n",
      "두 번째 숫자를 입력하세요 :  0\n"
     ]
    },
    {
     "ename": "ZeroDivisionError",
     "evalue": "division by zero",
     "output_type": "error",
     "traceback": [
      "\u001b[1;31m---------------------------------------------------------------------------\u001b[0m",
      "\u001b[1;31mZeroDivisionError\u001b[0m                         Traceback (most recent call last)",
      "Cell \u001b[1;32mIn[1], line 4\u001b[0m\n\u001b[0;32m      2\u001b[0m num1 \u001b[38;5;241m=\u001b[39m \u001b[38;5;28mint\u001b[39m(\u001b[38;5;28minput\u001b[39m(\u001b[38;5;124m\"\u001b[39m\u001b[38;5;124m첫 번째 숫자를 입력하세요 : \u001b[39m\u001b[38;5;124m\"\u001b[39m))\n\u001b[0;32m      3\u001b[0m num2 \u001b[38;5;241m=\u001b[39m \u001b[38;5;28mint\u001b[39m(\u001b[38;5;28minput\u001b[39m(\u001b[38;5;124m\"\u001b[39m\u001b[38;5;124m두 번째 숫자를 입력하세요 : \u001b[39m\u001b[38;5;124m\"\u001b[39m))\n\u001b[1;32m----> 4\u001b[0m \u001b[38;5;28mprint\u001b[39m(\u001b[38;5;124m\"\u001b[39m\u001b[38;5;132;01m{0}\u001b[39;00m\u001b[38;5;124m / \u001b[39m\u001b[38;5;132;01m{1}\u001b[39;00m\u001b[38;5;124m = \u001b[39m\u001b[38;5;132;01m{2}\u001b[39;00m\u001b[38;5;124m\"\u001b[39m\u001b[38;5;241m.\u001b[39mformat(num1, num2, \u001b[38;5;28mint\u001b[39m(\u001b[43mnum1\u001b[49m\u001b[38;5;241;43m/\u001b[39;49m\u001b[43mnum2\u001b[49m)))\n",
      "\u001b[1;31mZeroDivisionError\u001b[0m: division by zero"
     ]
    }
   ],
   "source": [
    "print(\"나누기 전용 계산기입니다.\")\n",
    "num1 = int(input(\"첫 번째 숫자를 입력하세요 : \"))\n",
    "num2 = int(input(\"두 번째 숫자를 입력하세요 : \"))\n",
    "print(\"{0} / {1} = {2}\".format(num1, num2, int(num1/num2)))"
   ]
  },
  {
   "cell_type": "code",
   "execution_count": 2,
   "id": "f3201a1b-7549-4c15-9cd1-497531547ffa",
   "metadata": {},
   "outputs": [
    {
     "name": "stdout",
     "output_type": "stream",
     "text": [
      "나누기 전용 계산기입니다.\n"
     ]
    },
    {
     "name": "stdin",
     "output_type": "stream",
     "text": [
      "첫 번째 숫자를 입력하세요 :  6\n",
      "두 번째 숫자를 입력하세요 :  0\n"
     ]
    },
    {
     "name": "stdout",
     "output_type": "stream",
     "text": [
      "division by zero\n"
     ]
    }
   ],
   "source": [
    "try:\n",
    "    print(\"나누기 전용 계산기입니다.\")\n",
    "    num1 = int(input(\"첫 번째 숫자를 입력하세요 : \"))\n",
    "    num2 = int(input(\"두 번째 숫자를 입력하세요 : \"))\n",
    "    print(\"{0} / {1} = {2}\".format(num1, num2, int(num1/num2)))\n",
    "except ValueError:\n",
    "    print(\"에러! 잘못된 값을 입력하였습니다.\")\n",
    "except ZeroDivisionError as err:\n",
    "    print(err)"
   ]
  },
  {
   "cell_type": "code",
   "execution_count": 3,
   "id": "d9b6b6c9-d0c8-4d7c-81ec-23b07282cc9c",
   "metadata": {},
   "outputs": [
    {
     "name": "stdout",
     "output_type": "stream",
     "text": [
      "나누기 전용 계산기입니다.\n"
     ]
    },
    {
     "name": "stdin",
     "output_type": "stream",
     "text": [
      "첫 번째 숫자를 입력하세요 :  6\n",
      "두 번째 숫자를 입력하세요 :  0\n"
     ]
    },
    {
     "name": "stdout",
     "output_type": "stream",
     "text": [
      "알 수 없는 에러가 발생하였습니다.\n",
      "list index out of range\n"
     ]
    }
   ],
   "source": [
    "try:\n",
    "    print(\"나누기 전용 계산기입니다.\")\n",
    "    nums = []\n",
    "    nums.append(int(input(\"첫 번째 숫자를 입력하세요 : \")))\n",
    "    nums.append(int(input(\"두 번째 숫자를 입력하세요 : \")))\n",
    "    # nums.append(int(nums[0] / nums[1])) # 계산 결과를 리스트에 추가\n",
    "    print(\"{0} / {1} = {2}\".format(nums[0], nums[1], nums[2]))\n",
    "except ValueError:\n",
    "    print(\"에러! 잘못된 값을 입력하였습니다.\")\n",
    "except ZeroDivisionError as err:\n",
    "    print(err)\n",
    "except Exception as err:\n",
    "    print(\"알 수 없는 에러가 발생하였습니다.\")\n",
    "    print(err)"
   ]
  },
  {
   "cell_type": "code",
   "execution_count": 4,
   "id": "62b8f081-7766-45fd-aeb8-6d1a6732413e",
   "metadata": {},
   "outputs": [
    {
     "name": "stdout",
     "output_type": "stream",
     "text": [
      "한 자리 숫자 나누기 전용 계산기입니다.\n"
     ]
    },
    {
     "name": "stdin",
     "output_type": "stream",
     "text": [
      "첫 번째 숫자를 입력하세요:  10\n",
      "두 번째 숫자를 입력하세요:  5\n"
     ]
    },
    {
     "name": "stdout",
     "output_type": "stream",
     "text": [
      "에러가 발생하였습니다. 한 자리 숫자만 입력하세요.\n",
      "입력값 : 10, 5\n",
      "계산기를 이용해 주셔서 감사합니다.\n"
     ]
    }
   ],
   "source": [
    "class BigNumberError(Exception):\n",
    "    def __init__(self, msg):\n",
    "        self.msg = msg\n",
    "\n",
    "    def __str__(self):\n",
    "        return self.msg\n",
    "\n",
    "try:\n",
    "    print(\"한 자리 숫자 나누기 전용 계산기입니다.\")\n",
    "    num1 = int(input(\"첫 번째 숫자를 입력하세요: \"))\n",
    "    num2 = int(input(\"두 번째 숫자를 입력하세요: \"))\n",
    "    if num1 >= 10 or num2 >= 10:\n",
    "        raise BigNumberError(\"입력값 : {0}, {1}\".format(num1, num2))\n",
    "    print(\"{0} / {1} = {2}\".format(num1, num2, int(num1 / num2)))\n",
    "except ValueError:\n",
    "    print(\"잘못된 값을 입력하였습니다. 한 자리 숫자만 입력하세요.\")\n",
    "except BigNumberError as err:\n",
    "    print(\"에러가 발생하였습니다. 한 자리 숫자만 입력하세요.\")\n",
    "    print(err)\n",
    "finally: # 에러 발생 여부 상관 없이 항상 실행\n",
    "    print(\"계산기를 이용해 주셔서 감사합니다.\")"
   ]
  },
  {
   "cell_type": "markdown",
   "id": "216fdca7-d4d3-4e94-8ba0-62680ad03634",
   "metadata": {},
   "source": [
    "2. 문자열 처리 함수"
   ]
  },
  {
   "cell_type": "code",
   "execution_count": 5,
   "id": "ba52858b-0bea-43e1-9338-b3311e0f47db",
   "metadata": {},
   "outputs": [
    {
     "name": "stdout",
     "output_type": "stream",
     "text": [
      "2\n",
      "2\n"
     ]
    }
   ],
   "source": [
    "company = '삼성전자,LG전자,현대자동차,CJ,SK텔레콤'\n",
    "print(company.find('전자'))\n",
    "print(company.index('전자'))"
   ]
  },
  {
   "cell_type": "code",
   "execution_count": 6,
   "id": "331d9d3d-f446-4438-815b-f4cab444445c",
   "metadata": {},
   "outputs": [
    {
     "name": "stdout",
     "output_type": "stream",
     "text": [
      "-1\n"
     ]
    },
    {
     "ename": "ValueError",
     "evalue": "substring not found",
     "output_type": "error",
     "traceback": [
      "\u001b[1;31m---------------------------------------------------------------------------\u001b[0m",
      "\u001b[1;31mValueError\u001b[0m                                Traceback (most recent call last)",
      "Cell \u001b[1;32mIn[6], line 3\u001b[0m\n\u001b[0;32m      1\u001b[0m company\u001b[38;5;241m=\u001b[39m \u001b[38;5;124m'\u001b[39m\u001b[38;5;124m삼성전자,LG전자,현대자동차,CJ,SK텔레콤\u001b[39m\u001b[38;5;124m'\u001b[39m\n\u001b[0;32m      2\u001b[0m \u001b[38;5;28mprint\u001b[39m(company\u001b[38;5;241m.\u001b[39mfind(\u001b[38;5;124m'\u001b[39m\u001b[38;5;124m네이버\u001b[39m\u001b[38;5;124m'\u001b[39m))\n\u001b[1;32m----> 3\u001b[0m \u001b[38;5;28mprint\u001b[39m(\u001b[43mcompany\u001b[49m\u001b[38;5;241;43m.\u001b[39;49m\u001b[43mindex\u001b[49m\u001b[43m(\u001b[49m\u001b[38;5;124;43m'\u001b[39;49m\u001b[38;5;124;43m네이버\u001b[39;49m\u001b[38;5;124;43m'\u001b[39;49m\u001b[43m)\u001b[49m)\n",
      "\u001b[1;31mValueError\u001b[0m: substring not found"
     ]
    }
   ],
   "source": [
    "company= '삼성전자,LG전자,현대자동차,CJ,SK텔레콤'\n",
    "print(company.find('네이버'))\n",
    "print(company.index('네이버'))"
   ]
  },
  {
   "cell_type": "code",
   "execution_count": 8,
   "id": "df4b658d-df13-4ab7-978d-12381464b2d7",
   "metadata": {},
   "outputs": [
    {
     "name": "stdout",
     "output_type": "stream",
     "text": [
      "2\n"
     ]
    }
   ],
   "source": [
    "company= '삼성전자,LG전자,현대자동차,CJ,SK텔레콤'\n",
    "try:\n",
    "  print(company.index('전자'))\n",
    "except ValueError:\n",
    "  print(\"-1\")"
   ]
  },
  {
   "cell_type": "code",
   "execution_count": 9,
   "id": "c06499a0-79ad-40e8-be8d-371b98909920",
   "metadata": {},
   "outputs": [
    {
     "name": "stdout",
     "output_type": "stream",
     "text": [
      "-1\n"
     ]
    }
   ],
   "source": [
    "company= '삼성전자,LG전자,현대자동차,CJ,SK텔레콤'\n",
    "try:\n",
    "  print(company.index('네이버'))\n",
    "except ValueError:\n",
    "  print(\"-1\")"
   ]
  },
  {
   "cell_type": "code",
   "execution_count": 10,
   "id": "18b13f96-a4eb-46df-96b6-94a1f230dc97",
   "metadata": {},
   "outputs": [
    {
     "name": "stdout",
     "output_type": "stream",
     "text": [
      "2\n",
      "7\n"
     ]
    }
   ],
   "source": [
    "company= '삼성전자,LG전자,현대자동차,CJ,SK텔레콤'\n",
    "index = 0\n",
    "while index > -1:\n",
    "  index = company.find('전자', index)\n",
    "  if index > -1:\n",
    "    print(index)\n",
    "    index += len('전자')"
   ]
  },
  {
   "cell_type": "code",
   "execution_count": 11,
   "id": "81b82b6b-ff0d-45d2-a7ca-fd1eec96f88f",
   "metadata": {},
   "outputs": [
    {
     "name": "stdout",
     "output_type": "stream",
     "text": [
      "2\n",
      "7\n"
     ]
    }
   ],
   "source": [
    "company= '삼성전자,LG전자,현대자동차,CJ,SK텔레콤'\n",
    "index = 0\n",
    "while index > -1:\n",
    "  try:\n",
    "    index = company.index('전자', index)\n",
    "    print(index)\n",
    "    index += len('전자')\n",
    "  except ValueError:\n",
    "    break"
   ]
  },
  {
   "cell_type": "markdown",
   "id": "a6f80e14-32c8-4a22-9ad6-103d61b40bdf",
   "metadata": {},
   "source": [
    "3. 내장 함수"
   ]
  },
  {
   "cell_type": "code",
   "execution_count": 12,
   "id": "2ede3059-a2a2-44c1-9aa3-5aa34de7518c",
   "metadata": {},
   "outputs": [
    {
     "data": {
      "text/plain": [
       "3"
      ]
     },
     "execution_count": 12,
     "metadata": {},
     "output_type": "execute_result"
    }
   ],
   "source": [
    "abs(3)"
   ]
  },
  {
   "cell_type": "code",
   "execution_count": 13,
   "id": "fea66b58-c311-43ea-9d10-6962f09f139f",
   "metadata": {},
   "outputs": [
    {
     "data": {
      "text/plain": [
       "3"
      ]
     },
     "execution_count": 13,
     "metadata": {},
     "output_type": "execute_result"
    }
   ],
   "source": [
    "abs(-3)"
   ]
  },
  {
   "cell_type": "code",
   "execution_count": 14,
   "id": "f924d172-b757-4b7a-9ae4-53224af7d084",
   "metadata": {},
   "outputs": [
    {
     "data": {
      "text/plain": [
       "1.2"
      ]
     },
     "execution_count": 14,
     "metadata": {},
     "output_type": "execute_result"
    }
   ],
   "source": [
    "abs(-1.2)"
   ]
  },
  {
   "cell_type": "code",
   "execution_count": 15,
   "id": "d48dd8b7-37ce-44fa-a4c1-5e6f2481becb",
   "metadata": {},
   "outputs": [
    {
     "data": {
      "text/plain": [
       "True"
      ]
     },
     "execution_count": 15,
     "metadata": {},
     "output_type": "execute_result"
    }
   ],
   "source": [
    "all([1,2,3])"
   ]
  },
  {
   "cell_type": "code",
   "execution_count": 16,
   "id": "d79f7322-2de8-4afa-9c07-c1c490a94026",
   "metadata": {},
   "outputs": [
    {
     "data": {
      "text/plain": [
       "False"
      ]
     },
     "execution_count": 16,
     "metadata": {},
     "output_type": "execute_result"
    }
   ],
   "source": [
    "all([1,2,3,0])"
   ]
  },
  {
   "cell_type": "code",
   "execution_count": 17,
   "id": "c391fa8a-7dd2-4a6e-9542-0079b0c2d25f",
   "metadata": {},
   "outputs": [
    {
     "data": {
      "text/plain": [
       "True"
      ]
     },
     "execution_count": 17,
     "metadata": {},
     "output_type": "execute_result"
    }
   ],
   "source": [
    "any([1,2,3,0])"
   ]
  },
  {
   "cell_type": "code",
   "execution_count": 18,
   "id": "ad064b69-9fa5-4abd-8938-44fb7f6fe90c",
   "metadata": {},
   "outputs": [
    {
     "data": {
      "text/plain": [
       "False"
      ]
     },
     "execution_count": 18,
     "metadata": {},
     "output_type": "execute_result"
    }
   ],
   "source": [
    "any([0, \"\"])"
   ]
  },
  {
   "cell_type": "code",
   "execution_count": 20,
   "id": "9636a089-4a5b-4aeb-9558-da20e4afbc3b",
   "metadata": {},
   "outputs": [
    {
     "data": {
      "text/plain": [
       "'a'"
      ]
     },
     "execution_count": 20,
     "metadata": {},
     "output_type": "execute_result"
    }
   ],
   "source": [
    "chr(97)"
   ]
  },
  {
   "cell_type": "code",
   "execution_count": 21,
   "id": "68e18e26-eea6-4e7c-bba6-fc029218ad1e",
   "metadata": {},
   "outputs": [
    {
     "data": {
      "text/plain": [
       "'0'"
      ]
     },
     "execution_count": 21,
     "metadata": {},
     "output_type": "execute_result"
    }
   ],
   "source": [
    "chr(48)"
   ]
  },
  {
   "cell_type": "code",
   "execution_count": 22,
   "id": "df020fc5-5b7c-4c2a-b171-cd0eec50467c",
   "metadata": {
    "scrolled": true
   },
   "outputs": [
    {
     "data": {
      "text/plain": [
       "['__add__',\n",
       " '__class__',\n",
       " '__class_getitem__',\n",
       " '__contains__',\n",
       " '__delattr__',\n",
       " '__delitem__',\n",
       " '__dir__',\n",
       " '__doc__',\n",
       " '__eq__',\n",
       " '__format__',\n",
       " '__ge__',\n",
       " '__getattribute__',\n",
       " '__getitem__',\n",
       " '__gt__',\n",
       " '__hash__',\n",
       " '__iadd__',\n",
       " '__imul__',\n",
       " '__init__',\n",
       " '__init_subclass__',\n",
       " '__iter__',\n",
       " '__le__',\n",
       " '__len__',\n",
       " '__lt__',\n",
       " '__mul__',\n",
       " '__ne__',\n",
       " '__new__',\n",
       " '__reduce__',\n",
       " '__reduce_ex__',\n",
       " '__repr__',\n",
       " '__reversed__',\n",
       " '__rmul__',\n",
       " '__setattr__',\n",
       " '__setitem__',\n",
       " '__sizeof__',\n",
       " '__str__',\n",
       " '__subclasshook__',\n",
       " 'append',\n",
       " 'clear',\n",
       " 'copy',\n",
       " 'count',\n",
       " 'extend',\n",
       " 'index',\n",
       " 'insert',\n",
       " 'pop',\n",
       " 'remove',\n",
       " 'reverse',\n",
       " 'sort']"
      ]
     },
     "execution_count": 22,
     "metadata": {},
     "output_type": "execute_result"
    }
   ],
   "source": [
    "dir([1,2,3])"
   ]
  },
  {
   "cell_type": "code",
   "execution_count": 24,
   "id": "15a0b8dc-7526-4469-b223-17c7bd2bd251",
   "metadata": {
    "scrolled": true
   },
   "outputs": [
    {
     "data": {
      "text/plain": [
       "['__class__',\n",
       " '__class_getitem__',\n",
       " '__contains__',\n",
       " '__delattr__',\n",
       " '__delitem__',\n",
       " '__dir__',\n",
       " '__doc__',\n",
       " '__eq__',\n",
       " '__format__',\n",
       " '__ge__',\n",
       " '__getattribute__',\n",
       " '__getitem__',\n",
       " '__gt__',\n",
       " '__hash__',\n",
       " '__init__',\n",
       " '__init_subclass__',\n",
       " '__ior__',\n",
       " '__iter__',\n",
       " '__le__',\n",
       " '__len__',\n",
       " '__lt__',\n",
       " '__ne__',\n",
       " '__new__',\n",
       " '__or__',\n",
       " '__reduce__',\n",
       " '__reduce_ex__',\n",
       " '__repr__',\n",
       " '__reversed__',\n",
       " '__ror__',\n",
       " '__setattr__',\n",
       " '__setitem__',\n",
       " '__sizeof__',\n",
       " '__str__',\n",
       " '__subclasshook__',\n",
       " 'clear',\n",
       " 'copy',\n",
       " 'fromkeys',\n",
       " 'get',\n",
       " 'items',\n",
       " 'keys',\n",
       " 'pop',\n",
       " 'popitem',\n",
       " 'setdefault',\n",
       " 'update',\n",
       " 'values']"
      ]
     },
     "execution_count": 24,
     "metadata": {},
     "output_type": "execute_result"
    }
   ],
   "source": [
    "dir({'1':'a'})"
   ]
  },
  {
   "cell_type": "code",
   "execution_count": 26,
   "id": "5652690a-8bbd-4b1b-a915-924542160bd8",
   "metadata": {},
   "outputs": [
    {
     "data": {
      "text/plain": [
       "(2, 1)"
      ]
     },
     "execution_count": 26,
     "metadata": {},
     "output_type": "execute_result"
    }
   ],
   "source": [
    "divmod(7,3)"
   ]
  },
  {
   "cell_type": "code",
   "execution_count": 27,
   "id": "45c8ce7f-9965-4c09-97ac-b1ded6a68256",
   "metadata": {},
   "outputs": [
    {
     "name": "stdout",
     "output_type": "stream",
     "text": [
      "0 body\n",
      "1 foo\n",
      "2 bar\n"
     ]
    }
   ],
   "source": [
    "for i, name in enumerate(['body', 'foo', 'bar']):\n",
    "    print(i, name)"
   ]
  },
  {
   "cell_type": "code",
   "execution_count": 28,
   "id": "4a2d91ea-03c5-4cdd-adb1-e4f2e8547f5b",
   "metadata": {},
   "outputs": [
    {
     "data": {
      "text/plain": [
       "3"
      ]
     },
     "execution_count": 28,
     "metadata": {},
     "output_type": "execute_result"
    }
   ],
   "source": [
    "eval('1+2')"
   ]
  },
  {
   "cell_type": "code",
   "execution_count": 29,
   "id": "387c3b6c-2aaa-4a14-8ae4-a0ef74fff800",
   "metadata": {},
   "outputs": [
    {
     "data": {
      "text/plain": [
       "'hia'"
      ]
     },
     "execution_count": 29,
     "metadata": {},
     "output_type": "execute_result"
    }
   ],
   "source": [
    "eval(\"'hi'+'a'\")"
   ]
  },
  {
   "cell_type": "code",
   "execution_count": 30,
   "id": "10d156cd-fc76-46a0-bf03-6e1dcf4f2b09",
   "metadata": {},
   "outputs": [
    {
     "data": {
      "text/plain": [
       "(1, 1)"
      ]
     },
     "execution_count": 30,
     "metadata": {},
     "output_type": "execute_result"
    }
   ],
   "source": [
    "eval('divmod(4,3)')"
   ]
  },
  {
   "cell_type": "code",
   "execution_count": 33,
   "id": "e37711a4-1cb2-4631-8b98-63656f832b01",
   "metadata": {},
   "outputs": [
    {
     "name": "stdout",
     "output_type": "stream",
     "text": [
      "[1, 2, 6]\n"
     ]
    }
   ],
   "source": [
    "def positive(x):\n",
    "    return x > 0\n",
    "\n",
    "print(list(filter(positive, [1,-3, 2, 0, -5, 6])))"
   ]
  },
  {
   "cell_type": "code",
   "execution_count": 34,
   "id": "622937cc-b367-447f-ab13-5e29159637ba",
   "metadata": {},
   "outputs": [
    {
     "data": {
      "text/plain": [
       "[1, 2, 6]"
      ]
     },
     "execution_count": 34,
     "metadata": {},
     "output_type": "execute_result"
    }
   ],
   "source": [
    "list(filter(lambda x: x>0, [1,-3,2,0,-5,6]))"
   ]
  },
  {
   "cell_type": "code",
   "execution_count": 36,
   "id": "3bf167df-4b2a-40ab-a90c-cdf52dc8a3cb",
   "metadata": {},
   "outputs": [
    {
     "data": {
      "text/plain": [
       "'0xea'"
      ]
     },
     "execution_count": 36,
     "metadata": {},
     "output_type": "execute_result"
    }
   ],
   "source": [
    "hex(234)"
   ]
  },
  {
   "cell_type": "code",
   "execution_count": 37,
   "id": "2f81568c-3430-4f5c-9d12-b2fe0f889da5",
   "metadata": {},
   "outputs": [
    {
     "data": {
      "text/plain": [
       "'0x3'"
      ]
     },
     "execution_count": 37,
     "metadata": {},
     "output_type": "execute_result"
    }
   ],
   "source": [
    "hex(3)"
   ]
  },
  {
   "cell_type": "code",
   "execution_count": 39,
   "id": "c50097ab-37b1-423a-9fd1-db1f5660e902",
   "metadata": {},
   "outputs": [
    {
     "name": "stdout",
     "output_type": "stream",
     "text": [
      "2589769400624\n",
      "2589769400624\n",
      "-----\n",
      "2589769400624\n"
     ]
    }
   ],
   "source": [
    "a = 3\n",
    "print(id(3))\n",
    "print(id(a))\n",
    "print(\"-----\")\n",
    "b = a\n",
    "print(id(b))"
   ]
  },
  {
   "cell_type": "code",
   "execution_count": 40,
   "id": "568cb746-88c8-4b37-9b03-9ff528cdcb6a",
   "metadata": {},
   "outputs": [
    {
     "name": "stdin",
     "output_type": "stream",
     "text": [
      " hi\n"
     ]
    },
    {
     "name": "stdout",
     "output_type": "stream",
     "text": [
      "hi\n"
     ]
    }
   ],
   "source": [
    "a = input()\n",
    "print(a)"
   ]
  },
  {
   "cell_type": "code",
   "execution_count": 41,
   "id": "2a554e5e-d9fe-4b64-9320-ddb3a386da9b",
   "metadata": {},
   "outputs": [
    {
     "name": "stdin",
     "output_type": "stream",
     "text": [
      "Enter:  hi\n"
     ]
    },
    {
     "name": "stdout",
     "output_type": "stream",
     "text": [
      "hi\n"
     ]
    }
   ],
   "source": [
    "b = input(\"Enter: \")\n",
    "print(b)"
   ]
  },
  {
   "cell_type": "code",
   "execution_count": 42,
   "id": "38398254-82fb-4e16-8d75-ba715db60b7b",
   "metadata": {},
   "outputs": [
    {
     "data": {
      "text/plain": [
       "3"
      ]
     },
     "execution_count": 42,
     "metadata": {},
     "output_type": "execute_result"
    }
   ],
   "source": [
    "int('3')"
   ]
  },
  {
   "cell_type": "code",
   "execution_count": 43,
   "id": "66624573-11d8-4922-a1ce-af7eb07f4cfd",
   "metadata": {},
   "outputs": [
    {
     "data": {
      "text/plain": [
       "3"
      ]
     },
     "execution_count": 43,
     "metadata": {},
     "output_type": "execute_result"
    }
   ],
   "source": [
    "int(3.4)"
   ]
  },
  {
   "cell_type": "code",
   "execution_count": 44,
   "id": "262a7e35-193f-4fba-844a-5ff9e640cc53",
   "metadata": {},
   "outputs": [
    {
     "data": {
      "text/plain": [
       "26"
      ]
     },
     "execution_count": 44,
     "metadata": {},
     "output_type": "execute_result"
    }
   ],
   "source": [
    "int('1A', 16)"
   ]
  },
  {
   "cell_type": "code",
   "execution_count": 46,
   "id": "78bedcff-a1dc-4b17-aaad-693796dee451",
   "metadata": {},
   "outputs": [
    {
     "name": "stdout",
     "output_type": "stream",
     "text": [
      "True\n",
      "False\n"
     ]
    }
   ],
   "source": [
    "class Person: pass\n",
    "\n",
    "a = Person()\n",
    "print(isinstance(a, Person))\n",
    "\n",
    "b =  3\n",
    "print(isinstance(b, Person))"
   ]
  },
  {
   "cell_type": "code",
   "execution_count": 47,
   "id": "d1045878-734a-45a9-b452-5c6478e8e533",
   "metadata": {},
   "outputs": [
    {
     "data": {
      "text/plain": [
       "6"
      ]
     },
     "execution_count": 47,
     "metadata": {},
     "output_type": "execute_result"
    }
   ],
   "source": [
    "len(\"python\")"
   ]
  },
  {
   "cell_type": "code",
   "execution_count": 48,
   "id": "1933f283-15ce-4747-8229-d4be4097b161",
   "metadata": {},
   "outputs": [
    {
     "data": {
      "text/plain": [
       "3"
      ]
     },
     "execution_count": 48,
     "metadata": {},
     "output_type": "execute_result"
    }
   ],
   "source": [
    "len([1,2,3])"
   ]
  },
  {
   "cell_type": "code",
   "execution_count": 49,
   "id": "da70cd61-06a7-43bf-b622-11b11ac99ccb",
   "metadata": {},
   "outputs": [
    {
     "data": {
      "text/plain": [
       "['p', 'y', 't', 'h', 'o', 'n']"
      ]
     },
     "execution_count": 49,
     "metadata": {},
     "output_type": "execute_result"
    }
   ],
   "source": [
    "list(\"python\")"
   ]
  },
  {
   "cell_type": "code",
   "execution_count": 52,
   "id": "f19d253e-9502-4e0d-b713-fd6e0e809c5a",
   "metadata": {},
   "outputs": [
    {
     "data": {
      "text/plain": [
       "[1, 2, 3]"
      ]
     },
     "execution_count": 52,
     "metadata": {},
     "output_type": "execute_result"
    }
   ],
   "source": [
    "list((1,2,3))"
   ]
  },
  {
   "cell_type": "code",
   "execution_count": 54,
   "id": "6a484583-8dc0-40df-acc8-2683a4d777e8",
   "metadata": {},
   "outputs": [
    {
     "data": {
      "text/plain": [
       "[2, 4, 6, 8]"
      ]
     },
     "execution_count": 54,
     "metadata": {},
     "output_type": "execute_result"
    }
   ],
   "source": [
    "def two_times(x): \n",
    "    return x*2\n",
    "\n",
    "list(map(two_times, [1,2,3,4]))"
   ]
  },
  {
   "cell_type": "code",
   "execution_count": 55,
   "id": "012cc802-4e6f-4fa0-9066-25a877797213",
   "metadata": {},
   "outputs": [
    {
     "data": {
      "text/plain": [
       "[2, 4, 6, 8]"
      ]
     },
     "execution_count": 55,
     "metadata": {},
     "output_type": "execute_result"
    }
   ],
   "source": [
    "list(map(lambda a: a*2, [1,2,3,4]))"
   ]
  },
  {
   "cell_type": "code",
   "execution_count": 57,
   "id": "c4e1caa9-6a8b-4c08-9006-99832f5bcc20",
   "metadata": {},
   "outputs": [
    {
     "data": {
      "text/plain": [
       "3"
      ]
     },
     "execution_count": 57,
     "metadata": {},
     "output_type": "execute_result"
    }
   ],
   "source": [
    "max([1,2,3])"
   ]
  },
  {
   "cell_type": "code",
   "execution_count": 58,
   "id": "28353882-93c8-4ca5-bb0c-a2e4b2c75cc3",
   "metadata": {},
   "outputs": [
    {
     "data": {
      "text/plain": [
       "'y'"
      ]
     },
     "execution_count": 58,
     "metadata": {},
     "output_type": "execute_result"
    }
   ],
   "source": [
    "max(\"python\")"
   ]
  },
  {
   "cell_type": "code",
   "execution_count": 59,
   "id": "e0866b30-7e01-4a66-ade3-0b1098542664",
   "metadata": {},
   "outputs": [
    {
     "data": {
      "text/plain": [
       "1"
      ]
     },
     "execution_count": 59,
     "metadata": {},
     "output_type": "execute_result"
    }
   ],
   "source": [
    "min([1,2,3])"
   ]
  },
  {
   "cell_type": "code",
   "execution_count": 60,
   "id": "8b780c38-77fd-4627-86aa-2831252f8399",
   "metadata": {},
   "outputs": [
    {
     "data": {
      "text/plain": [
       "'h'"
      ]
     },
     "execution_count": 60,
     "metadata": {},
     "output_type": "execute_result"
    }
   ],
   "source": [
    "min(\"python\")"
   ]
  },
  {
   "cell_type": "code",
   "execution_count": 61,
   "id": "50560ab7-0c64-4417-8c79-5e7bba1ba2e8",
   "metadata": {},
   "outputs": [
    {
     "data": {
      "text/plain": [
       "'0o42'"
      ]
     },
     "execution_count": 61,
     "metadata": {},
     "output_type": "execute_result"
    }
   ],
   "source": [
    "oct(34)"
   ]
  },
  {
   "cell_type": "code",
   "execution_count": 62,
   "id": "5cd443e3-d580-46b0-9dae-5872b35ecb0f",
   "metadata": {},
   "outputs": [
    {
     "data": {
      "text/plain": [
       "'0o30071'"
      ]
     },
     "execution_count": 62,
     "metadata": {},
     "output_type": "execute_result"
    }
   ],
   "source": [
    "oct(12345)"
   ]
  },
  {
   "cell_type": "code",
   "execution_count": 64,
   "id": "a3c0a540-ee24-4b4c-be84-4295ffad72e0",
   "metadata": {},
   "outputs": [],
   "source": [
    "f = open(\"./datasets/Test.txt\", \"rb\")"
   ]
  },
  {
   "cell_type": "code",
   "execution_count": 66,
   "id": "e28458d5-205a-4bec-ae01-3aacca1f94b2",
   "metadata": {},
   "outputs": [
    {
     "data": {
      "text/plain": [
       "97"
      ]
     },
     "execution_count": 66,
     "metadata": {},
     "output_type": "execute_result"
    }
   ],
   "source": [
    "ord('a')"
   ]
  },
  {
   "cell_type": "code",
   "execution_count": 67,
   "id": "facfab63-d599-4644-add4-3d83b798b6eb",
   "metadata": {},
   "outputs": [
    {
     "data": {
      "text/plain": [
       "48"
      ]
     },
     "execution_count": 67,
     "metadata": {},
     "output_type": "execute_result"
    }
   ],
   "source": [
    "ord('0')"
   ]
  },
  {
   "cell_type": "code",
   "execution_count": 68,
   "id": "0c469ce7-ebe4-4fc4-8d00-defbc21b4ca5",
   "metadata": {},
   "outputs": [
    {
     "data": {
      "text/plain": [
       "16"
      ]
     },
     "execution_count": 68,
     "metadata": {},
     "output_type": "execute_result"
    }
   ],
   "source": [
    "pow(2,4)"
   ]
  },
  {
   "cell_type": "code",
   "execution_count": 69,
   "id": "4bcd726d-eb2a-4296-b9d4-aa4e0c4f721a",
   "metadata": {},
   "outputs": [
    {
     "data": {
      "text/plain": [
       "27"
      ]
     },
     "execution_count": 69,
     "metadata": {},
     "output_type": "execute_result"
    }
   ],
   "source": [
    "pow(3,3)"
   ]
  },
  {
   "cell_type": "code",
   "execution_count": 70,
   "id": "b0472a6f-b770-4e9e-9ca2-736644582f8f",
   "metadata": {},
   "outputs": [
    {
     "data": {
      "text/plain": [
       "[0, 1, 2, 3, 4]"
      ]
     },
     "execution_count": 70,
     "metadata": {},
     "output_type": "execute_result"
    }
   ],
   "source": [
    "list(range(5))"
   ]
  },
  {
   "cell_type": "code",
   "execution_count": 71,
   "id": "bbc95053-7518-4615-8e4a-a9b7ee121702",
   "metadata": {},
   "outputs": [
    {
     "data": {
      "text/plain": [
       "[5, 6, 7, 8, 9]"
      ]
     },
     "execution_count": 71,
     "metadata": {},
     "output_type": "execute_result"
    }
   ],
   "source": [
    "list(range(5,10))"
   ]
  },
  {
   "cell_type": "code",
   "execution_count": 73,
   "id": "c8c9ed5d-6d8d-41b1-b614-8c6877e6f9e0",
   "metadata": {},
   "outputs": [
    {
     "data": {
      "text/plain": [
       "[1, 3, 5, 7, 9]"
      ]
     },
     "execution_count": 73,
     "metadata": {},
     "output_type": "execute_result"
    }
   ],
   "source": [
    "list(range(1,10,2))"
   ]
  },
  {
   "cell_type": "code",
   "execution_count": 74,
   "id": "05dab683-87b6-4344-b04b-fc3a4fa8be30",
   "metadata": {},
   "outputs": [
    {
     "data": {
      "text/plain": [
       "[0, -1, -2, -3, -4, -5, -6, -7, -8, -9]"
      ]
     },
     "execution_count": 74,
     "metadata": {},
     "output_type": "execute_result"
    }
   ],
   "source": [
    "list(range(0,-10,-1))"
   ]
  },
  {
   "cell_type": "code",
   "execution_count": 75,
   "id": "169f231e-86cd-4e4b-a33b-208a7e207dce",
   "metadata": {},
   "outputs": [
    {
     "data": {
      "text/plain": [
       "5"
      ]
     },
     "execution_count": 75,
     "metadata": {},
     "output_type": "execute_result"
    }
   ],
   "source": [
    "round(4.6)"
   ]
  },
  {
   "cell_type": "code",
   "execution_count": 76,
   "id": "d452738e-f636-4489-b7b1-d3a365ee44c4",
   "metadata": {},
   "outputs": [
    {
     "data": {
      "text/plain": [
       "4"
      ]
     },
     "execution_count": 76,
     "metadata": {},
     "output_type": "execute_result"
    }
   ],
   "source": [
    "round(4.2)"
   ]
  },
  {
   "cell_type": "code",
   "execution_count": 77,
   "id": "c2e81a16-8bbf-492e-aa18-dc5641edddd8",
   "metadata": {},
   "outputs": [
    {
     "data": {
      "text/plain": [
       "5.68"
      ]
     },
     "execution_count": 77,
     "metadata": {},
     "output_type": "execute_result"
    }
   ],
   "source": [
    "round(5.678, 2)"
   ]
  },
  {
   "cell_type": "code",
   "execution_count": 79,
   "id": "0fff4c16-dd1a-4055-a02c-3dc1f5723575",
   "metadata": {},
   "outputs": [
    {
     "data": {
      "text/plain": [
       "[1, 2, 3]"
      ]
     },
     "execution_count": 79,
     "metadata": {},
     "output_type": "execute_result"
    }
   ],
   "source": [
    "sorted([3,1,2])"
   ]
  },
  {
   "cell_type": "code",
   "execution_count": 80,
   "id": "316677f9-5a48-4e37-8384-4921b0acd3fe",
   "metadata": {},
   "outputs": [
    {
     "data": {
      "text/plain": [
       "['a', 'b', 'c']"
      ]
     },
     "execution_count": 80,
     "metadata": {},
     "output_type": "execute_result"
    }
   ],
   "source": [
    "sorted(['a','c','b'])"
   ]
  },
  {
   "cell_type": "code",
   "execution_count": 81,
   "id": "add4c3a9-d0cc-4a1b-91af-253358cdfa20",
   "metadata": {},
   "outputs": [
    {
     "data": {
      "text/plain": [
       "['e', 'o', 'r', 'z']"
      ]
     },
     "execution_count": 81,
     "metadata": {},
     "output_type": "execute_result"
    }
   ],
   "source": [
    "sorted(\"zero\")"
   ]
  },
  {
   "cell_type": "code",
   "execution_count": 82,
   "id": "e3b939ae-a47b-4d89-a88a-7e4415763d72",
   "metadata": {},
   "outputs": [
    {
     "data": {
      "text/plain": [
       "[1, 2, 3]"
      ]
     },
     "execution_count": 82,
     "metadata": {},
     "output_type": "execute_result"
    }
   ],
   "source": [
    "sorted((3,2,1))"
   ]
  },
  {
   "cell_type": "code",
   "execution_count": 83,
   "id": "ef12e47a-fd5c-4be3-98a0-e292df80421d",
   "metadata": {},
   "outputs": [
    {
     "data": {
      "text/plain": [
       "'3'"
      ]
     },
     "execution_count": 83,
     "metadata": {},
     "output_type": "execute_result"
    }
   ],
   "source": [
    "str(3)"
   ]
  },
  {
   "cell_type": "code",
   "execution_count": 84,
   "id": "9a1658ca-13e8-43f3-b78c-e5af156a036c",
   "metadata": {},
   "outputs": [
    {
     "data": {
      "text/plain": [
       "'HI'"
      ]
     },
     "execution_count": 84,
     "metadata": {},
     "output_type": "execute_result"
    }
   ],
   "source": [
    "str('hi'.upper())"
   ]
  },
  {
   "cell_type": "code",
   "execution_count": 85,
   "id": "e0e83e33-6698-4d4a-881f-8748f2043f97",
   "metadata": {},
   "outputs": [
    {
     "data": {
      "text/plain": [
       "6"
      ]
     },
     "execution_count": 85,
     "metadata": {},
     "output_type": "execute_result"
    }
   ],
   "source": [
    "sum([1,2,3])"
   ]
  },
  {
   "cell_type": "code",
   "execution_count": 86,
   "id": "ccff32e8-5909-4cf5-a454-e03ac47e0f22",
   "metadata": {},
   "outputs": [
    {
     "data": {
      "text/plain": [
       "15"
      ]
     },
     "execution_count": 86,
     "metadata": {},
     "output_type": "execute_result"
    }
   ],
   "source": [
    "sum((4,5,6))"
   ]
  },
  {
   "cell_type": "code",
   "execution_count": 87,
   "id": "47fede7f-37ab-4d8b-bcdc-e36a55472741",
   "metadata": {},
   "outputs": [
    {
     "data": {
      "text/plain": [
       "('a', 'b', 'c')"
      ]
     },
     "execution_count": 87,
     "metadata": {},
     "output_type": "execute_result"
    }
   ],
   "source": [
    "tuple(\"abc\")"
   ]
  },
  {
   "cell_type": "code",
   "execution_count": 88,
   "id": "399f633b-c8b5-40f1-a954-612918fdc1ce",
   "metadata": {},
   "outputs": [
    {
     "data": {
      "text/plain": [
       "(1, 2, 3)"
      ]
     },
     "execution_count": 88,
     "metadata": {},
     "output_type": "execute_result"
    }
   ],
   "source": [
    "tuple([1,2,3])"
   ]
  },
  {
   "cell_type": "code",
   "execution_count": 89,
   "id": "4a37df5e-bdbe-4133-8236-0d09cb1d6838",
   "metadata": {},
   "outputs": [
    {
     "data": {
      "text/plain": [
       "(1, 2, 3)"
      ]
     },
     "execution_count": 89,
     "metadata": {},
     "output_type": "execute_result"
    }
   ],
   "source": [
    "tuple((1,2,3))"
   ]
  },
  {
   "cell_type": "code",
   "execution_count": 90,
   "id": "73b50f1f-0a17-4f7d-b236-e1b46a59e8ac",
   "metadata": {},
   "outputs": [
    {
     "data": {
      "text/plain": [
       "str"
      ]
     },
     "execution_count": 90,
     "metadata": {},
     "output_type": "execute_result"
    }
   ],
   "source": [
    "type(\"abc\")"
   ]
  },
  {
   "cell_type": "code",
   "execution_count": 91,
   "id": "1b1f450c-f5fc-468d-909e-2f1f86012baf",
   "metadata": {},
   "outputs": [
    {
     "data": {
      "text/plain": [
       "list"
      ]
     },
     "execution_count": 91,
     "metadata": {},
     "output_type": "execute_result"
    }
   ],
   "source": [
    "type([])"
   ]
  },
  {
   "cell_type": "code",
   "execution_count": 92,
   "id": "ebe96031-1f5d-4bff-9f93-15baf5127c3e",
   "metadata": {},
   "outputs": [
    {
     "data": {
      "text/plain": [
       "_io.TextIOWrapper"
      ]
     },
     "execution_count": 92,
     "metadata": {},
     "output_type": "execute_result"
    }
   ],
   "source": [
    "type(open(\"test\",'w'))"
   ]
  },
  {
   "cell_type": "code",
   "execution_count": 94,
   "id": "2af1b529-ad00-41bb-8618-293160ee18dc",
   "metadata": {},
   "outputs": [
    {
     "data": {
      "text/plain": [
       "[(1, 4), (2, 5), (3, 6)]"
      ]
     },
     "execution_count": 94,
     "metadata": {},
     "output_type": "execute_result"
    }
   ],
   "source": [
    "list(zip([1,2,3],[4,5,6]))"
   ]
  },
  {
   "cell_type": "code",
   "execution_count": 95,
   "id": "48149e2d-a0d6-4094-8428-e688a01396d2",
   "metadata": {},
   "outputs": [
    {
     "data": {
      "text/plain": [
       "[(1, 4, 7), (2, 5, 8), (3, 6, 9)]"
      ]
     },
     "execution_count": 95,
     "metadata": {},
     "output_type": "execute_result"
    }
   ],
   "source": [
    "list(zip([1,2,3],[4,5,6],[7,8,9]))"
   ]
  },
  {
   "cell_type": "code",
   "execution_count": 96,
   "id": "17590776-5a1e-4be2-8526-0443de3e6390",
   "metadata": {},
   "outputs": [
    {
     "data": {
      "text/plain": [
       "[('a', 'd'), ('b', 'e'), ('c', 'f')]"
      ]
     },
     "execution_count": 96,
     "metadata": {},
     "output_type": "execute_result"
    }
   ],
   "source": [
    "list(zip(\"abc\",\"def\"))"
   ]
  },
  {
   "cell_type": "markdown",
   "id": "cfab09b9-f315-4f90-b19d-4380e8b70457",
   "metadata": {
    "jp-MarkdownHeadingCollapsed": true
   },
   "source": [
    "### 파이썬 외장함수"
   ]
  },
  {
   "cell_type": "markdown",
   "id": "51fe9ecd-2bfd-481e-91a1-842aa9525866",
   "metadata": {},
   "source": [
    "1. 프로그램 작성 방법"
   ]
  },
  {
   "cell_type": "code",
   "execution_count": 97,
   "id": "1f14f29c-cbf0-4513-914f-45bdb3ddcc61",
   "metadata": {},
   "outputs": [
    {
     "name": "stdout",
     "output_type": "stream",
     "text": [
      "This interpreter code works!\n"
     ]
    }
   ],
   "source": [
    "print(\"This interpreter code works!\")"
   ]
  },
  {
   "cell_type": "code",
   "execution_count": 100,
   "id": "af3577ab-ebd5-4f01-a509-137d48af7339",
   "metadata": {},
   "outputs": [
    {
     "name": "stdout",
     "output_type": "stream",
     "text": [
      "C:\\Windows\\system32;C:\\Windows;C:\\Windows\\System32\\Wbem;C:\\Windows\\System32\\WindowsPowerShell\\v1.0\\;C:\\Windows\\System32\\OpenSSH\\;C:\\Program Files\\Bandizip\\;C:\\Program Files\\Git\\cmd;C:\\Program Files\\Microsoft VS Code\\bin;C:\\Users\\k8s\\AppData\\Local\\Programs\\Python\\Python310\\Scripts\\;C:\\Users\\k8s\\AppData\\Local\\Programs\\Python\\Python310\\;C:\\Users\\k8s\\AppData\\Local\\Microsoft\\WindowsApps;C:\\Program Files\\JetBrains\\IntelliJ IDEA Community Edition 2024.3\\bin;;C:\\Program Files\\R\\R-4.4.3\\bin;C:\\Program Files\\R\\R-4.4.3\\bin\\x64;;C:\\Program Files\\JetBrains\\PyCharm 2025.1\\bin;\n"
     ]
    }
   ],
   "source": [
    "import os\n",
    "print(os.environ['PATH'])"
   ]
  },
  {
   "cell_type": "code",
   "execution_count": 101,
   "id": "17714548-de3b-4278-af09-df5e4aa3d853",
   "metadata": {},
   "outputs": [
    {
     "name": "stdout",
     "output_type": "stream",
     "text": [
      "c:\\DEV\\PycharmProjects\\python_works\n"
     ]
    }
   ],
   "source": [
    "import os\n",
    "print(os.getcwd())"
   ]
  },
  {
   "cell_type": "markdown",
   "id": "8385892f-3338-457c-b87b-4ee8c8cdd075",
   "metadata": {},
   "source": [
    "2. 모듈과 import"
   ]
  },
  {
   "cell_type": "code",
   "execution_count": 102,
   "id": "e4bf64b4-1918-44f5-9387-3c9f80d57eda",
   "metadata": {},
   "outputs": [
    {
     "name": "stdout",
     "output_type": "stream",
     "text": [
      "1746681329.6207662\n"
     ]
    }
   ],
   "source": [
    "import time\n",
    "print(time.time())"
   ]
  },
  {
   "cell_type": "code",
   "execution_count": 103,
   "id": "70f749db-df2e-4e5e-9afd-fdd5ed292e17",
   "metadata": {},
   "outputs": [
    {
     "name": "stdout",
     "output_type": "stream",
     "text": [
      "Thu May  8 14:16:04 2025\n",
      "0\n",
      "1\n",
      "2\n",
      "3\n",
      "4\n",
      "5\n",
      "6\n",
      "7\n",
      "8\n",
      "9\n"
     ]
    }
   ],
   "source": [
    "print(time.ctime()) #알아보기 쉬운 날짜와 시간 형태의 값을 반환하여 주는 함수\n",
    "\n",
    "# time.sleep 함수는 보통 루프 안에서 많이 쓰이는데 일정한 시간 간격을 주기 위해서 주로 사용됨\n",
    "for i in range(10):\n",
    "    print(i)\n",
    "    time.sleep(1)"
   ]
  },
  {
   "cell_type": "code",
   "execution_count": 104,
   "id": "780c6c06-dcf7-4295-89dd-d313f2a54731",
   "metadata": {},
   "outputs": [
    {
     "name": "stdout",
     "output_type": "stream",
     "text": [
      "Output #1: today: 2025-05-08\n",
      "Output #2: 2025\n",
      "Output #3: 5\n",
      "Output #4: 8\n",
      "Output #5: 2025-05-08 14:17:17.710263\n"
     ]
    }
   ],
   "source": [
    "from math import exp, log, sqrt\n",
    "import re\n",
    "from datetime import date, time, datetime, timedelta\n",
    "\n",
    "\n",
    "today = date.today()\n",
    "print(\"Output #1: today: {0!s}\".format(today))\n",
    "print(\"Output #2: {0!s}\".format(today.year))\n",
    "print(\"Output #3: {0!s}\".format(today.month))\n",
    "print(\"Output #4: {0!s}\".format(today.day))\n",
    "current_datetime = datetime.today()\n",
    "print(\"Output #5: {0!s}\".format(current_datetime))"
   ]
  },
  {
   "cell_type": "code",
   "execution_count": 105,
   "id": "3451f7b2-6456-40c8-b565-30e4cd587dec",
   "metadata": {},
   "outputs": [
    {
     "name": "stdout",
     "output_type": "stream",
     "text": [
      "Output #1: yesterday: 2025-05-07\n",
      "Output #2: -1 57600\n"
     ]
    }
   ],
   "source": [
    "from math import exp, log, sqrt\n",
    "import re\n",
    "from datetime import date, time, datetime, timedelta\n",
    "\n",
    "today = date.today()\n",
    "one_day = timedelta(days=-1)\n",
    "yesterday = today + one_day\n",
    "print(\"Output #1: yesterday: {0!s}\".format(yesterday))\n",
    "eight_hours = timedelta(hours=-8)\n",
    "print(\"Output #2: {0!s} {1!s}\".format(eight_hours.days, eight_hours.seconds))"
   ]
  },
  {
   "cell_type": "code",
   "execution_count": 106,
   "id": "3299f218-f14c-48d6-87d3-23fccef0d7b2",
   "metadata": {},
   "outputs": [
    {
     "name": "stdout",
     "output_type": "stream",
     "text": [
      "Output #1: 05/08/2025\n",
      "Output #2: May 08, 2025\n",
      "Output #3: 2025-05-08\n",
      "Output #4: May 08, 2025\n"
     ]
    }
   ],
   "source": [
    "from math import exp, log, sqrt\n",
    "import re\n",
    "from datetime import date, time, datetime, timedelta\n",
    "\n",
    "today = date.today()\n",
    "print(\"Output #1: {:s}\".format(today.strftime('%m/%d/%Y')))\n",
    "print(\"Output #2: {:s}\".format(today.strftime('%b %d, %Y')))\n",
    "print(\"Output #3: {:s}\".format(today.strftime('%Y-%m-%d')))\n",
    "print(\"Output #4: {:s}\".format(today.strftime('%B %d, %Y')))"
   ]
  },
  {
   "cell_type": "code",
   "execution_count": 107,
   "id": "80461aa1-7a0f-483c-9653-0840c8bbb61d",
   "metadata": {},
   "outputs": [
    {
     "name": "stdout",
     "output_type": "stream",
     "text": [
      "Output #1: 2025-05-08 00:00:00\n",
      "Output #2: 2025-05-08 00:00:00\n",
      "Output #3: 2025-05-08\n",
      "Output #4: 2025-05-08\n"
     ]
    }
   ],
   "source": [
    "from math import exp, log, sqrt\n",
    "import re\n",
    "from datetime import date, time, datetime, timedelta\n",
    "\n",
    "today = date.today()\n",
    "# 날짜를 나타내는 문자열에서 # 특정 형식의 datetime 객체 생성\n",
    "date1 = today.strftime('%m/%d/%Y')\n",
    "date2 = today.strftime('%b %d, %Y')\n",
    "date3 = today.strftime('%Y-%m-%d')\n",
    "date4 = today.strftime('%B %d, %Y')\n",
    "# 두 개의 datetime 객체와 두 개의 날짜 객체\n",
    "# 날짜 형식이 다른 4개의 문자열 기반\n",
    "print(\"Output #1: {!s}\".format(datetime.strptime(date1, '%m/%d/%Y')))\n",
    "print(\"Output #2: {!s}\".format(datetime.strptime(date2, '%b %d, %Y')))\n",
    "# 날짜 부분만 표시\n",
    "print(\"Output #3: {!s}\".format(datetime.date(datetime.strptime(date3, '%Y-%m-%d'))))\n",
    "print(\"Output #4: {!s}\".format(datetime.date(datetime.strptime(date4, '%B %d, %Y'))))"
   ]
  },
  {
   "cell_type": "markdown",
   "id": "546f2681-929f-448d-833e-a0b69ef82d81",
   "metadata": {},
   "source": [
    "Quiz-\n",
    "```\n",
    "문제 : 덧셈을 1억번 수행하는데 몇 초가 걸리는지 한번 체크\n",
    "0부터 시작해서 1, 2, 3,...., 99,999,999까지 모두 더하는 코드입니다. 위 코드를 실행했더니, 사람이 직접 1억번의 덧셈을 하려면 한번의 덧셈에 1초씩 걸린다고 쳐도\n",
    " \n",
    "1억초 = 약 1666667분 = 약 27778시간 = 약 1157일 = 약 3년\n",
    " \n",
    "이 걸립니다. \n",
    "\n",
    "컴퓨터로 하면 얼마나 걸릴까요?\n"
   ]
  },
  {
   "cell_type": "code",
   "execution_count": 108,
   "id": "5e6bab9f-5935-4843-bc2d-496cc3e688b5",
   "metadata": {},
   "outputs": [
    {
     "name": "stdout",
     "output_type": "stream",
     "text": [
      "4.690471초 걸렸습니다.\n"
     ]
    }
   ],
   "source": [
    "import timeit\n",
    "start_time = timeit.default_timer() \n",
    "\n",
    "sum = 0\n",
    "\n",
    "for i in range(100000000):\n",
    "    sum += i\n",
    "\n",
    "terminate_time = timeit.default_timer()\n",
    "\n",
    "print(\"%f초 걸렸습니다.\" % (terminate_time - start_time))"
   ]
  },
  {
   "cell_type": "code",
   "execution_count": 109,
   "id": "218e2859-819a-4811-acab-ae3410a2f81a",
   "metadata": {},
   "outputs": [
    {
     "name": "stdout",
     "output_type": "stream",
     "text": [
      "0.7334947729109645\n",
      "3.427641308774751\n",
      "[5, 4, 17, 17, 8, 14, 12, 6, 16, 14]\n",
      "[0, 1, 2, 3, 4, 5, 6, 7, 8, 9]\n",
      "9\n"
     ]
    }
   ],
   "source": [
    "import random\n",
    "print(random.random())\n",
    "\n",
    "print(random.uniform(3,4))\n",
    "\n",
    "print(\n",
    "    [\n",
    "     random.randrange(20) for i in range(10)\n",
    "    ]\n",
    ")\n",
    "\n",
    "L1=list(range(10))\n",
    "print(L1)\n",
    "\n",
    "print( random.randint(1,10))"
   ]
  },
  {
   "cell_type": "markdown",
   "id": "fa395b07-3055-40ea-ad73-6557f5dd1808",
   "metadata": {},
   "source": [
    "lotto 번호 추출"
   ]
  },
  {
   "cell_type": "code",
   "execution_count": 110,
   "id": "6ae88629-ea71-4bc9-ac7a-94a8abf2bdc9",
   "metadata": {},
   "outputs": [
    {
     "name": "stdout",
     "output_type": "stream",
     "text": [
      "15\n",
      "5\n",
      "11\n"
     ]
    }
   ],
   "source": [
    "from random import *\n",
    "print(int(random() * 45) + 1)\n",
    "print( randrange(1, 46))\n",
    "print(randint(1, 45))"
   ]
  },
  {
   "cell_type": "code",
   "execution_count": 111,
   "id": "d9889f72-7da8-4b82-9ed7-e93464873e62",
   "metadata": {},
   "outputs": [
    {
     "name": "stdout",
     "output_type": "stream",
     "text": [
      "로또번호: [3, 21, 27, 35, 37, 44]\n"
     ]
    }
   ],
   "source": [
    "import random\n",
    "\n",
    "lotto = []\n",
    "rnd_num = random.randint(1, 45)\n",
    "\n",
    "for i in range(6):\n",
    "    while rnd_num in lotto:\n",
    "        rnd_num = random.randint(1, 45)\n",
    "    lotto.append(rnd_num)\n",
    "\n",
    "lotto.sort()\n",
    "print(\"로또번호: {}\".format(lotto))"
   ]
  },
  {
   "cell_type": "code",
   "execution_count": 112,
   "id": "f83dcbed-f15b-44ba-9a52-acfb9423ab28",
   "metadata": {},
   "outputs": [
    {
     "name": "stdout",
     "output_type": "stream",
     "text": [
      "로또번호: [12, 7, 4, 35, 21, 36]\n"
     ]
    }
   ],
   "source": [
    "import random\n",
    "\n",
    "lotto = random.sample(range(1, 45), 6)\n",
    "print(\"로또번호: {}\".format(lotto))"
   ]
  },
  {
   "cell_type": "code",
   "execution_count": 113,
   "id": "d15969ff-d089-427f-a7cc-a46fe83e819a",
   "metadata": {},
   "outputs": [
    {
     "name": "stdout",
     "output_type": "stream",
     "text": [
      "로또번호: [37  9 18  4 21 38]\n"
     ]
    }
   ],
   "source": [
    "import numpy\n",
    "\n",
    "lotto = numpy.random.choice(range(1, 46), 6, replace=False)\n",
    "print(\"로또번호: {}\".format(lotto))"
   ]
  },
  {
   "cell_type": "code",
   "execution_count": 114,
   "id": "3439563f-81cb-4eee-885c-e2660bbaefeb",
   "metadata": {},
   "outputs": [
    {
     "name": "stdout",
     "output_type": "stream",
     "text": [
      "로또번호:[4, 5, 6, 10, 17, 34]\n"
     ]
    }
   ],
   "source": [
    "import random\n",
    "\n",
    "def fill_random_number(numbers: list):\n",
    "    rand_num = random.randint(1, 45)\n",
    "    for i in range(len(numbers), 6):\n",
    "        while rand_num in numbers:\n",
    "            rand_num = random.randint(1, 45)\n",
    "        numbers.append(rand_num)\n",
    "    numbers.sort()\n",
    "\n",
    "def make_lotto(**kwargs):\n",
    "    lotto = []\n",
    "\n",
    "    if kwargs.get(\"include\"):\n",
    "        include = kwargs.get(\"include\")\n",
    "        lotto.extend(include)\n",
    "        fill_random_number(lotto)\n",
    "    return lotto\n",
    "\n",
    "print(\"로또번호:{}\".format(make_lotto(include=[4,5,6])))"
   ]
  },
  {
   "cell_type": "code",
   "execution_count": 115,
   "id": "9ff04bdb-a5d6-41c4-b6b0-7f4d0264d97d",
   "metadata": {},
   "outputs": [
    {
     "name": "stdout",
     "output_type": "stream",
     "text": [
      "로또번호:[3, 38, 8, 14, 21, 30]\n"
     ]
    }
   ],
   "source": [
    "import random\n",
    "\n",
    "def fill_random_number(numbers: list):\n",
    "    rand_num = random.randint(1, 45)\n",
    "    for i in range(len(numbers), 6):\n",
    "        while rand_num in numbers:\n",
    "            rand_num = random.randint(1, 45)\n",
    "        numbers.append(rand_num)\n",
    "    numbers.sort()\n",
    "\n",
    "def make_lotto(**kwargs):\n",
    "    lotto = []\n",
    "\n",
    "    if kwargs.get(\"exclude\"):\n",
    "      exclude = kwargs.get(\"exclude\")\n",
    "      while(len(lotto) != 6):\n",
    "          fill_random_number(lotto)\n",
    "          lotto = list(set(lotto) - set(exclude))\n",
    "    return lotto\n",
    "\n",
    "print(\"로또번호:{}\".format(make_lotto(exclude =[4,5,6])))"
   ]
  },
  {
   "cell_type": "markdown",
   "id": "8e6c5ee2-5093-4810-bb88-468647546a63",
   "metadata": {},
   "source": [
    "Quiz\n",
    "```\n",
    "가위 바위 보 게임\n",
    "사용자가 가위, 바위, 보 중에서 하나를 선택하고 컴퓨터도 난수로 가위, 바위, 보 중에서 하나를 선택한다. 사용자의 선택과 컴퓨터의 선택을 비교하여서 승패를 화면에 출력한다.\n"
   ]
  },
  {
   "cell_type": "code",
   "execution_count": 116,
   "id": "e106cf1d-4bab-4283-bb0b-9929d64fc9fc",
   "metadata": {},
   "outputs": [
    {
     "name": "stdin",
     "output_type": "stream",
     "text": [
      "(가위, 바위, 보) 중에서 하나를 선택하세요:  가위\n"
     ]
    },
    {
     "name": "stdout",
     "output_type": "stream",
     "text": [
      "사용자:  가위 컴퓨터:  바위\n",
      "컴퓨터가 이겼음!\n"
     ]
    }
   ],
   "source": [
    "import random;\n",
    "\n",
    "player = input(\"(가위, 바위, 보) 중에서 하나를 선택하세요: \");\n",
    "\n",
    "number = random.randint(0,2);\n",
    "if (number == 0):\n",
    "    computer = \"가위\";\n",
    "elif (number == 1):\n",
    "    computer = \"바위\";\n",
    "else:\n",
    "    computer = \"보\";\n",
    "print(\"사용자: \", player, \"컴퓨터: \", computer)\n",
    "\n",
    "if (player == computer):\n",
    "    print(\"비겼음!\");\n",
    "elif (player == \"바위\"):\n",
    "    if (computer == \"보\"):\n",
    "        print(\"컴퓨터가 이겼음!\");\n",
    "    else:\n",
    "        print(\"사용자가 이겼음!\");\n",
    "elif (player == \"보\"):\n",
    "    if (computer == \"비위\"):\n",
    "        print(\"사용자가 이겼음!\");\n",
    "    else:\n",
    "        print(\"컴퓨터가 이겼음!\");\n",
    "elif (player == \"가위\"):\n",
    "    if (computer == \"바위\"):\n",
    "        print(\"컴퓨터가 이겼음!\");\n",
    "    else:\n",
    "        print(\"사용자가 이겼음!\");"
   ]
  },
  {
   "cell_type": "markdown",
   "id": "93518df9-a89d-41f9-ad60-684c8f0e560c",
   "metadata": {},
   "source": [
    "Quiz-\n",
    "```\n",
    "파이썬 코딩 대회를 주최합니다.\n",
    "참석률을 높이기 위해 댓글 이벤트를 진행하기로 하였습니다.\n",
    "댓글 작성자들 중에 추첨을 통해 1명은 치킨, 3명은 커피 쿠폰을 받게 됩니다.\n",
    "추첨 프로그램을 작성하시오.\n",
    "\n",
    "조건1 : 편의상 댓글은 20명이 작성하였고 아이디는 1~20이라고 가정\n",
    "조건2 : 댓글 내용과 상관 없이 무작위로 추첨하되 중복은 불가\n",
    "조건3 : random 모듈의 shuffle 과 sample 을 활용\n",
    "\n",
    "(출력 예제)\n",
    " -- 당첨자 발표 --\n",
    "치킨 당첨자 : 1\n",
    "커피 당첨자 : [2, 3, 4]\n",
    " -- 축하합니다 --\n"
   ]
  },
  {
   "cell_type": "code",
   "execution_count": 117,
   "id": "82f0780e-4361-4cc8-b6ea-d6a12ce8cbfb",
   "metadata": {},
   "outputs": [
    {
     "name": "stdout",
     "output_type": "stream",
     "text": [
      " -- 당첨자 발표 -- \n",
      "치킨 당첨자 : 20\n",
      "커피 당첨자 : [3, 13, 5]\n",
      " -- 축하합니다 --\n"
     ]
    }
   ],
   "source": [
    "from random import *\n",
    "\n",
    "users = range(1, 21)\n",
    "users = list(users)\n",
    "shuffle(users)\n",
    "\n",
    "winners = sample(users, 4)\n",
    "\n",
    "print(\" -- 당첨자 발표 -- \")\n",
    "print(\"치킨 당첨자 : {0}\".format(winners[0]))\n",
    "print(\"커피 당첨자 : {0}\".format(winners[1:]))\n",
    "print(\" -- 축하합니다 --\")"
   ]
  },
  {
   "cell_type": "code",
   "execution_count": 118,
   "id": "10e41aa1-3159-4888-8e10-1e12f742bb86",
   "metadata": {},
   "outputs": [
    {
     "name": "stdout",
     "output_type": "stream",
     "text": [
      "['__doc__', '__loader__', '__name__', '__package__', '__spec__', 'acos', 'acosh', 'asin', 'asinh', 'atan', 'atan2', 'atanh', 'ceil', 'comb', 'copysign', 'cos', 'cosh', 'degrees', 'dist', 'e', 'erf', 'erfc', 'exp', 'expm1', 'fabs', 'factorial', 'floor', 'fmod', 'frexp', 'fsum', 'gamma', 'gcd', 'hypot', 'inf', 'isclose', 'isfinite', 'isinf', 'isnan', 'isqrt', 'lcm', 'ldexp', 'lgamma', 'log', 'log10', 'log1p', 'log2', 'modf', 'nan', 'nextafter', 'perm', 'pi', 'pow', 'prod', 'radians', 'remainder', 'sin', 'sinh', 'sqrt', 'tan', 'tanh', 'tau', 'trunc', 'ulp']\n",
      "1024.0\n",
      "3.141592653589793\n"
     ]
    }
   ],
   "source": [
    "import math\n",
    "\n",
    "print(dir(math))\n",
    "print(math.pow(2, 10))               \n",
    "print(math.pi)"
   ]
  },
  {
   "cell_type": "code",
   "execution_count": 119,
   "id": "46cd3aa2-c0e6-47c5-ae4d-3bf4fd0bbbcb",
   "metadata": {},
   "outputs": [
    {
     "name": "stdout",
     "output_type": "stream",
     "text": [
      "3\n",
      "3.5\n",
      "6\n",
      "2\n",
      "8\n",
      "4\n",
      "3.146\n"
     ]
    }
   ],
   "source": [
    "print(abs(-3))             # → 3\n",
    "print(abs(-3.5))           # → 3.5\n",
    "\n",
    "print(max(2, 3, 4, 6))     # → 6\n",
    "print(min(2, 3, 4))        # → 2\n",
    "\n",
    "print(pow(2, 3))           # → 8 (2^3)\n",
    "\n",
    "print(round(3.51))         # → 4 (정수 반올림)\n",
    "print(round(3.1456, 3))    # → 3.146 (소수점 셋째 자리 반올림)"
   ]
  },
  {
   "cell_type": "code",
   "execution_count": 120,
   "id": "3d7c59e1-5ba9-4187-807d-d614070b1204",
   "metadata": {},
   "outputs": [
    {
     "name": "stdout",
     "output_type": "stream",
     "text": [
      "exp(1.0)        =  2.718281828459045\n",
      "log(e)          =  1.0\n",
      "log10(10,10)    =  1.0\n",
      "sqrt(4.0)       =  2.0\n",
      "sin(π/2)        =  1.0\n",
      "cos(π/2)        =  6.123233995736766e-17\n",
      "tan(π/2)        =  1.633123935319537e+16\n",
      "degrees(1.57)   =  89.95437383553924\n",
      "radians(90)     =  1.5707963267948966\n"
     ]
    }
   ],
   "source": [
    "import math\n",
    "\n",
    "# 지수, 로그, 제곱근\n",
    "print(\"exp(1.0)        = \", math.exp(1))                    # e^1\n",
    "print(\"log(e)          = \", math.log(math.e))               # ln(e)\n",
    "print(\"log10(10,10)    = \", math.log(10, 10))               # log_10(10)\n",
    "print(\"sqrt(4.0)       = \", math.sqrt(4.0))                 # √4\n",
    "\n",
    "# 삼각함수\n",
    "print(\"sin(π/2)        = \", math.sin(math.pi / 2))          # sin(90°)\n",
    "print(\"cos(π/2)        = \", math.cos(math.pi / 2))          # cos(90°)\n",
    "print(\"tan(π/2)        = \", math.tan(math.pi / 2))          # tan(90°) → 매우 큰 값\n",
    "\n",
    "# 각도 변환\n",
    "print(\"degrees(1.57)   = \", math.degrees(1.57))             # rad → deg\n",
    "print(\"radians(90)     = \", math.radians(90))               # deg → rad"
   ]
  },
  {
   "cell_type": "markdown",
   "id": "eaaf19ee-dcc4-4aad-9f55-17a1278580fa",
   "metadata": {
    "jp-MarkdownHeadingCollapsed": true
   },
   "source": [
    "### 라이브러리"
   ]
  },
  {
   "cell_type": "markdown",
   "id": "f014d0cd-bf42-4b89-b0ab-111f8e55fd6c",
   "metadata": {},
   "source": [
    "2. 외부 라이브러리 살펴보기"
   ]
  },
  {
   "cell_type": "code",
   "execution_count": 121,
   "id": "135c9740-5150-4799-a52c-06dcfc13ef4a",
   "metadata": {},
   "outputs": [
    {
     "name": "stdout",
     "output_type": "stream",
     "text": [
      "python 버전 : 3.10.11 (tags/v3.10.11:7d4cc5a, Apr  5 2023, 00:38:17) [MSC v.1929 64 bit (AMD64)]\n",
      "pandas 버전 : 2.2.3\n",
      "matplotlib 버전 : 3.10.1\n",
      "numpy 버전 : 2.2.5\n"
     ]
    }
   ],
   "source": [
    "import sys\n",
    "print(\"python 버전 : {}\".format(sys.version))\n",
    "\n",
    "import pandas as pd\n",
    "print(\"pandas 버전 : {}\".format(pd.__version__))\n",
    "\n",
    "import matplotlib\n",
    "print(\"matplotlib 버전 : {}\".format(matplotlib.__version__))\n",
    "\n",
    "import numpy as np\n",
    "print(\"numpy 버전 : {}\".format(np.__version__))"
   ]
  },
  {
   "cell_type": "markdown",
   "id": "e9cc7b33-8871-489c-bfb9-54774093d239",
   "metadata": {},
   "source": [
    "Numpy"
   ]
  },
  {
   "cell_type": "code",
   "execution_count": 122,
   "id": "f137f0c5-5fb7-44e6-b663-b4ee82dbe5fc",
   "metadata": {},
   "outputs": [
    {
     "name": "stdout",
     "output_type": "stream",
     "text": [
      "[1 2 3]\n",
      "[0 1 2 3 4 5 6 7 8 9]\n",
      "[0.         0.66666667 1.33333333 2.        ]\n",
      "[[0. 0. 0. 0.]\n",
      " [0. 0. 0. 0.]]\n"
     ]
    }
   ],
   "source": [
    "import numpy as np\n",
    "print(np.array([1, 2, 3]))\n",
    "print(np.arange(10))\n",
    "print(np.linspace(0,2,4))\n",
    "print(np.zeros((2,4)))"
   ]
  },
  {
   "cell_type": "code",
   "execution_count": 123,
   "id": "3c8df88a-3dc8-4986-ace9-e67d01d89977",
   "metadata": {},
   "outputs": [
    {
     "name": "stdout",
     "output_type": "stream",
     "text": [
      "[1.         1.33333333 1.66666667 4.        ]\n",
      "[ 1  4  9 36]\n"
     ]
    }
   ],
   "source": [
    "import numpy as np\n",
    "a = np.array([1,2,3,6])\n",
    "b = np.linspace(0,2,4)\n",
    "c = a - b\n",
    "print(c)\n",
    "print(a**2)"
   ]
  },
  {
   "cell_type": "code",
   "execution_count": 124,
   "id": "7c9c6197-6682-41b2-aad4-bf4ddff95bb0",
   "metadata": {},
   "outputs": [
    {
     "name": "stdout",
     "output_type": "stream",
     "text": [
      "[-3.14159265  0.          3.14159265]\n",
      "[-1.  1. -1.]\n"
     ]
    },
    {
     "ename": "TypeError",
     "evalue": "only length-1 arrays can be converted to Python scalars",
     "output_type": "error",
     "traceback": [
      "\u001b[1;31m---------------------------------------------------------------------------\u001b[0m",
      "\u001b[1;31mTypeError\u001b[0m                                 Traceback (most recent call last)",
      "Cell \u001b[1;32mIn[124], line 7\u001b[0m\n\u001b[0;32m      5\u001b[0m \u001b[38;5;28mprint\u001b[39m(a)\n\u001b[0;32m      6\u001b[0m \u001b[38;5;28mprint\u001b[39m(np\u001b[38;5;241m.\u001b[39mcos(a))\n\u001b[1;32m----> 7\u001b[0m \u001b[38;5;28mprint\u001b[39m(\u001b[43mmath\u001b[49m\u001b[38;5;241;43m.\u001b[39;49m\u001b[43mcos\u001b[49m\u001b[43m(\u001b[49m\u001b[43ma\u001b[49m\u001b[43m)\u001b[49m)\n",
      "\u001b[1;31mTypeError\u001b[0m: only length-1 arrays can be converted to Python scalars"
     ]
    }
   ],
   "source": [
    "import numpy as np\n",
    "import math\n",
    "\n",
    "a = np.linspace(-np.pi, np.pi, 3)\n",
    "print(a)\n",
    "print(np.cos(a))\n",
    "print(math.cos(a))"
   ]
  },
  {
   "cell_type": "markdown",
   "id": "1a3daa47-2719-4aa7-b4eb-529fe732302a",
   "metadata": {},
   "source": [
    "matplotlib"
   ]
  },
  {
   "cell_type": "code",
   "execution_count": 125,
   "id": "e5fcd0ef-e27a-442b-968f-d669d961681a",
   "metadata": {},
   "outputs": [
    {
     "data": {
      "image/png": "[encoded data removed]",
      "text/plain": [
       "<Figure size 640x480 with 1 Axes>"
      ]
     },
     "metadata": {},
     "output_type": "display_data"
    }
   ],
   "source": [
    "import matplotlib.pyplot as plt\n",
    "import numpy as np #행렬 연산시 필요한 모듈\n",
    "\n",
    "#(1) 직선 그리기\n",
    "#plot([x좌표 리스트], [y좌표 리스트])\n",
    "plt.plot([1,2,3], [2,4,6])\n",
    "#axis([x축 시작, x축 끝, y축시작, y축끝])\n",
    "plt.axis([0,4,0,7])\n",
    "plt.show()"
   ]
  },
  {
   "cell_type": "code",
   "execution_count": 126,
   "id": "1a7a67d4-120b-4969-9749-8671c4347fdc",
   "metadata": {},
   "outputs": [
    {
     "data": {
      "image/png": "[encoded data removed]",
      "text/plain": [
       "<Figure size 640x480 with 1 Axes>"
      ]
     },
     "metadata": {},
     "output_type": "display_data"
    }
   ],
   "source": [
    "import matplotlib.pyplot as plt\n",
    "import numpy as np #행렬 연산시 필요한 모듈\n",
    "\n",
    "x = np.arange(0.0,5.0,0.01) \n",
    "plt.plot(x, x**2, 'r--')\n",
    "plt.plot(x, 3**x, 'b')\n",
    "plt.axis([0,6,0,40])\n",
    "plt.show()"
   ]
  },
  {
   "cell_type": "code",
   "execution_count": 127,
   "id": "68d5c292-1e36-4b49-b5a7-3677b02b7e5f",
   "metadata": {},
   "outputs": [
    {
     "name": "stdout",
     "output_type": "stream",
     "text": [
      "<class 'numpy.ndarray'> [0.   0.01 0.02 0.03 0.04 0.05 0.06 0.07 0.08 0.09 0.1  0.11 0.12 0.13\n",
      " 0.14 0.15 0.16 0.17 0.18 0.19 0.2  0.21 0.22 0.23 0.24 0.25 0.26 0.27\n",
      " 0.28 0.29 0.3  0.31 0.32 0.33 0.34 0.35 0.36 0.37 0.38 0.39 0.4  0.41\n",
      " 0.42 0.43 0.44 0.45 0.46 0.47 0.48 0.49 0.5  0.51 0.52 0.53 0.54 0.55\n",
      " 0.56 0.57 0.58 0.59 0.6  0.61 0.62 0.63 0.64 0.65 0.66 0.67 0.68 0.69\n",
      " 0.7  0.71 0.72 0.73 0.74 0.75 0.76 0.77 0.78 0.79 0.8  0.81 0.82 0.83\n",
      " 0.84 0.85 0.86 0.87 0.88 0.89 0.9  0.91 0.92 0.93 0.94 0.95 0.96 0.97\n",
      " 0.98 0.99 1.   1.01 1.02 1.03 1.04 1.05 1.06 1.07 1.08 1.09 1.1  1.11\n",
      " 1.12 1.13 1.14 1.15 1.16 1.17 1.18 1.19 1.2  1.21 1.22 1.23 1.24 1.25\n",
      " 1.26 1.27 1.28 1.29 1.3  1.31 1.32 1.33 1.34 1.35 1.36 1.37 1.38 1.39\n",
      " 1.4  1.41 1.42 1.43 1.44 1.45 1.46 1.47 1.48 1.49 1.5  1.51 1.52 1.53\n",
      " 1.54 1.55 1.56 1.57 1.58 1.59 1.6  1.61 1.62 1.63 1.64 1.65 1.66 1.67\n",
      " 1.68 1.69 1.7  1.71 1.72 1.73 1.74 1.75 1.76 1.77 1.78 1.79 1.8  1.81\n",
      " 1.82 1.83 1.84 1.85 1.86 1.87 1.88 1.89 1.9  1.91 1.92 1.93 1.94 1.95\n",
      " 1.96 1.97 1.98 1.99 2.   2.01 2.02 2.03 2.04 2.05 2.06 2.07 2.08 2.09\n",
      " 2.1  2.11 2.12 2.13 2.14 2.15 2.16 2.17 2.18 2.19 2.2  2.21 2.22 2.23\n",
      " 2.24 2.25 2.26 2.27 2.28 2.29 2.3  2.31 2.32 2.33 2.34 2.35 2.36 2.37\n",
      " 2.38 2.39 2.4  2.41 2.42 2.43 2.44 2.45 2.46 2.47 2.48 2.49 2.5  2.51\n",
      " 2.52 2.53 2.54 2.55 2.56 2.57 2.58 2.59 2.6  2.61 2.62 2.63 2.64 2.65\n",
      " 2.66 2.67 2.68 2.69 2.7  2.71 2.72 2.73 2.74 2.75 2.76 2.77 2.78 2.79\n",
      " 2.8  2.81 2.82 2.83 2.84 2.85 2.86 2.87 2.88 2.89 2.9  2.91 2.92 2.93\n",
      " 2.94 2.95 2.96 2.97 2.98 2.99 3.   3.01 3.02 3.03 3.04 3.05 3.06 3.07\n",
      " 3.08 3.09 3.1  3.11 3.12 3.13 3.14 3.15 3.16 3.17 3.18 3.19 3.2  3.21\n",
      " 3.22 3.23 3.24 3.25 3.26 3.27 3.28 3.29 3.3  3.31 3.32 3.33 3.34 3.35\n",
      " 3.36 3.37 3.38 3.39 3.4  3.41 3.42 3.43 3.44 3.45 3.46 3.47 3.48 3.49\n",
      " 3.5  3.51 3.52 3.53 3.54 3.55 3.56 3.57 3.58 3.59 3.6  3.61 3.62 3.63\n",
      " 3.64 3.65 3.66 3.67 3.68 3.69 3.7  3.71 3.72 3.73 3.74 3.75 3.76 3.77\n",
      " 3.78 3.79 3.8  3.81 3.82 3.83 3.84 3.85 3.86 3.87 3.88 3.89 3.9  3.91\n",
      " 3.92 3.93 3.94 3.95 3.96 3.97 3.98 3.99 4.   4.01 4.02 4.03 4.04 4.05\n",
      " 4.06 4.07 4.08 4.09 4.1  4.11 4.12 4.13 4.14 4.15 4.16 4.17 4.18 4.19\n",
      " 4.2  4.21 4.22 4.23 4.24 4.25 4.26 4.27 4.28 4.29 4.3  4.31 4.32 4.33\n",
      " 4.34 4.35 4.36 4.37 4.38 4.39 4.4  4.41 4.42 4.43 4.44 4.45 4.46 4.47\n",
      " 4.48 4.49 4.5  4.51 4.52 4.53 4.54 4.55 4.56 4.57 4.58 4.59 4.6  4.61\n",
      " 4.62 4.63 4.64 4.65 4.66 4.67 4.68 4.69 4.7  4.71 4.72 4.73 4.74 4.75\n",
      " 4.76 4.77 4.78 4.79 4.8  4.81 4.82 4.83 4.84 4.85 4.86 4.87 4.88 4.89\n",
      " 4.9  4.91 4.92 4.93 4.94 4.95 4.96 4.97 4.98 4.99]\n"
     ]
    },
    {
     "data": {
      "image/png": "[encoded data removed]",
      "text/plain": [
       "<Figure size 640x480 with 4 Axes>"
      ]
     },
     "metadata": {},
     "output_type": "display_data"
    }
   ],
   "source": [
    "x = np.arange(0.0,5.0,0.01) \n",
    "print(type(x), x)\n",
    "# y=x^2의  그래프\n",
    "plt.subplot(221)\n",
    "plt.plot(x, x**2, 'r--')\n",
    "# y=3^x 그래프\n",
    "plt.subplot(222)\n",
    "plt.plot(x, 3**x, 'b')\n",
    "# y=x 그래프\n",
    "plt.subplot(223)\n",
    "plt.plot(x, x, 'g-')\n",
    "#y=1/(x+1) 그래프\n",
    "plt.subplot(224)\n",
    "plt.plot(x, 1/(x+1), 'y')\n",
    "plt.show()"
   ]
  },
  {
   "cell_type": "code",
   "execution_count": 128,
   "id": "9f771b03-d5e3-4bcb-b88c-6fc264457279",
   "metadata": {},
   "outputs": [
    {
     "data": {
      "image/png": "[encoded data removed]",
      "text/plain": [
       "<Figure size 640x480 with 1 Axes>"
      ]
     },
     "metadata": {},
     "output_type": "display_data"
    }
   ],
   "source": [
    "import matplotlib.pyplot as plt\n",
    "x = [1, 2, 3]\n",
    "y = [2, 4, 8]\n",
    "plt.plot(x, y)\n",
    "plt.show()"
   ]
  },
  {
   "cell_type": "code",
   "execution_count": 129,
   "id": "46b23c7b-96a3-4714-8b8e-bc12fe3a9084",
   "metadata": {},
   "outputs": [
    {
     "data": {
      "image/png": "[encoded data removed]",
      "text/plain": [
       "<Figure size 640x480 with 1 Axes>"
      ]
     },
     "metadata": {},
     "output_type": "display_data"
    }
   ],
   "source": [
    "import matplotlib.pyplot as plt\n",
    "\n",
    "plt.plot([-1, 0, 1], [-5, -1, 2])\n",
    "plt.show()"
   ]
  },
  {
   "cell_type": "code",
   "execution_count": 130,
   "id": "9092a6d1-10d8-411f-bffa-4f4d9e6c9613",
   "metadata": {
    "scrolled": true
   },
   "outputs": [
    {
     "name": "stdout",
     "output_type": "stream",
     "text": [
      "['cmb10', 'STIXSizeThreeSym', 'DejaVu Serif', 'STIXNonUnicode', 'cmex10', 'DejaVu Sans', 'cmss10', 'STIXGeneral', 'STIXSizeFourSym', 'STIXGeneral', 'DejaVu Sans Mono', 'cmmi10', 'cmsy10', 'DejaVu Sans Mono', 'STIXNonUnicode', 'STIXNonUnicode', 'STIXGeneral', 'DejaVu Serif', 'DejaVu Sans Mono', 'DejaVu Serif', 'DejaVu Serif Display', 'DejaVu Sans', 'cmr10', 'DejaVu Sans Mono', 'DejaVu Sans', 'DejaVu Sans', 'STIXSizeTwoSym', 'STIXSizeOneSym', 'STIXSizeFiveSym', 'cmtt10', 'STIXSizeThreeSym', 'DejaVu Sans Display', 'DejaVu Serif', 'STIXSizeOneSym', 'STIXSizeFourSym', 'STIXSizeTwoSym', 'STIXNonUnicode', 'STIXGeneral', 'Wingdings', 'Segoe UI Symbol', 'Tempus Sans ITC', 'Lucida Bright', 'Lucida Sans', 'Microsoft Himalaya', 'Berlin Sans FB', 'Lucida Sans', 'Constantia', 'HYGraphic-Medium', 'Segoe UI', 'Microsoft JhengHei', 'Jokerman', 'Constantia', 'Harlow Solid Italic', 'HYPost-Light', 'Franklin Gothic Book', 'Times New Roman', 'Verdana', 'Rockwell', 'Vivaldi', 'Malgun Gothic', 'Goudy Old Style', 'Leelawadee UI', 'Bookman Old Style', 'HYPost-Medium', 'Maiandra GD', 'Gadugi', 'Bodoni MT', 'Arial', 'Book Antiqua', 'Palatino Linotype', 'Corbel', 'Ebrima', 'Baskerville Old Face', 'Consolas', 'SimSun-ExtB', 'Franklin Gothic Medium Cond', 'Perpetua', 'Segoe UI Historic', 'Segoe UI', 'Bauhaus 93', 'Tw Cen MT', 'Sitka Small', 'Old English Text MT', 'Californian FB', 'Lucida Calligraphy', 'Century Schoolbook', 'Informal Roman', 'Segoe UI', 'Rockwell Condensed', 'Comic Sans MS', 'Rockwell', 'Segoe UI', 'High Tower Text', 'Malgun Gothic', 'Palatino Linotype', 'MS Reference Specialty', 'Freestyle Script', 'Forte', 'Elephant', 'Segoe UI', 'Mistral', 'Agency FB', 'Arial', 'Microsoft YaHei', 'Elephant', 'Poor Richard', 'Trebuchet MS', 'Century Gothic', 'Candara', 'HYGothic-Medium', 'Gill Sans MT', 'Segoe MDL2 Assets', 'OCR A Extended', 'Gulim', 'Rage Italic', 'Lucida Sans Unicode', 'Times New Roman', 'Brush Script MT', 'Microsoft PhagsPa', 'Segoe UI', 'Perpetua', 'Javanese Text', 'Centaur', 'Century Gothic', 'Consolas', 'Myanmar Text', 'Headline R', 'Palatino Linotype', 'Haettenschweiler', 'Gill Sans MT Condensed', 'Ink Free', 'Kunstler Script', 'Californian FB', 'Gigi', 'Garamond', 'Curlz MT', 'Corbel', 'Bookman Old Style', 'Myanmar Text', 'HYMyeongJo-Extra', 'HYSinMyeongJo-Medium', 'Rockwell Condensed', 'Segoe UI', 'Segoe UI Emoji', 'Yu Gothic', 'Segoe Script', 'Bookshelf Symbol 7', 'Corbel', 'HoloLens MDL2 Assets', 'Bradley Hand ITC', 'Goudy Stout', 'Segoe Script', 'Corbel', 'Segoe UI', 'Nirmala UI', 'Bell MT', 'Constantia', 'Agency FB', 'Lucida Handwriting', 'Nirmala UI', 'Lucida Bright', 'Microsoft Tai Le', 'Microsoft Sans Serif', 'Tw Cen MT', 'Century Schoolbook', 'Lucida Fax', 'Nirmala UI', 'Franklin Gothic Medium', 'Verdana', 'Juice ITC', 'Rockwell', 'Gloucester MT Extra Condensed', 'Calibri', 'Microsoft YaHei', 'Snap ITC', 'Bodoni MT', 'Gill Sans MT', 'Monotype Corsiva', 'Tw Cen MT Condensed', 'Calisto MT', 'Copperplate Gothic Light', 'Microsoft New Tai Lue', 'Wide Latin', 'MV Boli', 'Arial', 'MS Outlook', 'HYHeadLine-Medium', 'Georgia', 'Playbill', 'Webdings', 'Kristen ITC', 'New Gulim', 'Britannic Bold', 'Tw Cen MT Condensed Extra Bold', 'Papyrus', 'Calibri', 'Stencil', 'Georgia', 'Pristina', 'Leelawadee', 'Bookman Old Style', 'Bodoni MT', 'Harrington', 'Ravie', 'Lucida Sans Typewriter', 'Berlin Sans FB Demi', 'Tw Cen MT', 'Palatino Linotype', 'Gill Sans Ultra Bold', 'Candara', 'Bahnschrift', 'Malgun Gothic', 'Microsoft YaHei', 'Bodoni MT', 'Georgia', 'MingLiU-ExtB', 'Cambria', 'Arial', 'Verdana', 'Mongolian Baiti', 'Pyunji R', 'Century Gothic', 'Garamond', 'Arial', 'Trebuchet MS', 'Segoe UI', 'Leelawadee UI', 'Trebuchet MS', 'Comic Sans MS', 'Courier New', 'Franklin Gothic Demi Cond', 'Yet R', 'Cambria', 'MS Reference Sans Serif', 'Lucida Sans', 'Constantia', 'Bodoni MT', 'Showcard Gothic', 'Franklin Gothic Demi', 'Gill Sans MT', 'MS Gothic', 'Segoe UI', 'Rockwell Extra Bold', 'Niagara Solid', 'Corbel', 'Georgia', 'Bodoni MT', 'Calisto MT', 'Sitka Small', 'Dubai', 'Felix Titling', 'Lucida Fax', 'HYGungSo-Bold', 'Arial', 'SimSun', 'Symbol', 'Microsoft Tai Le', 'Magic R', 'Berlin Sans FB', 'Viner Hand ITC', 'Arial', 'Cambria', 'Times New Roman', 'Segoe Print', 'MoeumT R', 'Franklin Gothic Book', 'Vladimir Script', 'Candara', 'Gadugi', 'Century Gothic', 'Segoe Print', 'Courier New', 'Eras Demi ITC', 'Copperplate Gothic Bold', 'Courier New', 'Bodoni MT', 'Arial', 'Eras Bold ITC', 'Eras Light ITC', 'Microsoft JhengHei', 'Bell MT', 'Microsoft Uighur', 'Ami R', 'Book Antiqua', 'Arial Rounded MT Bold', 'Leelawadee UI', 'Garamond', 'Consolas', 'Microsoft PhagsPa', 'Segoe UI', 'Modern No. 20', 'Sitka Small', 'French Script MT', 'Lucida Fax', 'Chiller', 'Leelawadee', 'Gill Sans MT Ext Condensed Bold', 'Times New Roman', 'Century', 'Tahoma', 'Calibri', 'Broadway', 'Century Schoolbook', 'Lucida Bright', 'Lucida Sans Typewriter', 'Goudy Old Style', 'Yu Gothic', 'Sitka Small', 'Bodoni MT', 'Footlight MT Light', 'Gill Sans Ultra Bold Condensed', 'Yu Gothic', 'Onyx', 'Tw Cen MT Condensed', 'Calibri', 'HYGothic-Extra', 'Dubai', 'Script MT Bold', 'Colonna MT', 'Gabriola', 'Trebuchet MS', 'HYPMokGak-Bold', 'Calibri', 'Engravers MT', 'High Tower Text', 'Cooper Black', 'Courier New', 'Bernard MT Condensed', 'Californian FB', 'Bodoni MT', 'Microsoft New Tai Lue', 'Calibri', 'Cambria', 'Bookman Old Style', 'Lucida Sans Typewriter', 'Consolas', 'Perpetua', 'Magneto', 'Perpetua Titling MT', 'Algerian', 'Bodoni MT', 'Tw Cen MT', 'Batang', 'Blackadder ITC', 'Castellar', 'Corbel', 'Bodoni MT', 'Eras Medium ITC', 'Franklin Gothic Heavy', 'Candara', 'Wingdings 2', 'Palace Script MT', 'Lucida Sans Typewriter', 'Microsoft Yi Baiti', 'Lucida Fax', 'Lucida Bright', 'Calisto MT', 'Arial', 'Parchment', 'Franklin Gothic Medium', 'Gill Sans MT', 'Impact', 'Perpetua', 'Comic Sans MS', 'Franklin Gothic Heavy', 'Tahoma', 'Verdana', 'Bell MT', 'Century Schoolbook', 'Imprint MT Shadow', 'Edwardian Script ITC', 'Wingdings 3', 'Matura MT Script Capitals', 'Calisto MT', 'Perpetua Titling MT', 'Goudy Old Style', 'Rockwell', 'Segoe UI', 'HYShortSamul-Medium', 'Candara', 'Yu Gothic', 'Sylfaen', 'Microsoft Uighur', 'Lucida Sans', 'Dubai', 'Book Antiqua', 'Microsoft JhengHei', 'Niagara Engraved', 'Franklin Gothic Demi', 'Ebrima', 'Dubai', 'Comic Sans MS', 'Book Antiqua', 'Candara', 'Lucida Console']\n"
     ]
    }
   ],
   "source": [
    "import matplotlib\n",
    "import matplotlib.pyplot as plt\n",
    "matplotlib.rcParams['font.family'] = 'Malgun Gothic' # Windows\n",
    "# matplotlib.rcParams['font.family'] = 'AppleGothic' # Mac\n",
    "matplotlib.rcParams['font.size'] = 15 # 글자 크기\n",
    "matplotlib.rcParams['axes.unicode_minus'] = False # 한글 폰트 사용 시, 마이너스 글자가 깨지는 현상을 해결\n",
    "import matplotlib.font_manager as fm\n",
    "fm.fontManager.ttflist # 사용 가능한 폰트 확인\n",
    "print([f.name for f in fm.fontManager.ttflist])"
   ]
  },
  {
   "cell_type": "code",
   "execution_count": 131,
   "id": "03529d57-505d-47a5-8a59-d8bca9752978",
   "metadata": {},
   "outputs": [
    {
     "data": {
      "image/png": "[encoded data removed]",
      "text/plain": [
       "<Figure size 640x480 with 1 Axes>"
      ]
     },
     "metadata": {},
     "output_type": "display_data"
    }
   ],
   "source": [
    "import matplotlib\n",
    "import matplotlib.pyplot as plt\n",
    "matplotlib.rcParams['font.family'] = 'Malgun Gothic' # Windows\n",
    "# matplotlib.rcParams['font.family'] = 'AppleGothic' # Mac\n",
    "matplotlib.rcParams['font.size'] = 15 # 글자 크기\n",
    "matplotlib.rcParams['axes.unicode_minus'] = False # 한글 폰트 사용 시, 마이너스 글자가 깨지는 현상을 해결\n",
    "\n",
    "# import matplotlib.font_manager as fm\n",
    "# fm.fontManager.ttflist # 사용 가능한 폰트 확인\n",
    "# print([f.name for f in fm.fontManager.ttflist])\n",
    "\n",
    "x = [1, 2, 3]\n",
    "y = [2, 4, 8]\n",
    "\n",
    "plt.plot(x, y)\n",
    "plt.title('꺾은선 그래프')\n",
    "plt.show()"
   ]
  },
  {
   "cell_type": "code",
   "execution_count": 132,
   "id": "765b4351-8274-452f-b00b-fc981cc1348d",
   "metadata": {},
   "outputs": [
    {
     "data": {
      "image/png": "[encoded data removed]",
      "text/plain": [
       "<Figure size 640x480 with 1 Axes>"
      ]
     },
     "metadata": {},
     "output_type": "display_data"
    }
   ],
   "source": [
    "import matplotlib.pyplot as plt\n",
    "import matplotlib\n",
    "matplotlib.rcParams['font.family'] = 'Malgun Gothic' # Windows\n",
    "# matplotlib.rcParams['font.family'] = 'AppleGothic' # Mac\n",
    "matplotlib.rcParams['font.size'] = 15 # 글자 크기\n",
    "matplotlib.rcParams['axes.unicode_minus'] = False # 한글 폰트 사용 시, 마이너스 글자가 깨지는 현상을 해결\n",
    "\n",
    "x = [1, 2, 3]\n",
    "y = [2, 4, 8]\n",
    "\n",
    "plt.plot(x, y)\n",
    "plt.xlabel('X축')\n",
    "plt.ylabel('Y축')\n",
    "plt.show()"
   ]
  },
  {
   "cell_type": "code",
   "execution_count": 133,
   "id": "3e7b63aa-a773-416c-8afe-64626552865a",
   "metadata": {},
   "outputs": [
    {
     "data": {
      "image/png": "[encoded data removed]",
      "text/plain": [
       "<Figure size 640x480 with 1 Axes>"
      ]
     },
     "metadata": {},
     "output_type": "display_data"
    }
   ],
   "source": [
    "import matplotlib.pyplot as plt\n",
    "import matplotlib\n",
    "matplotlib.rcParams['font.family'] = 'Malgun Gothic' # Windows\n",
    "# matplotlib.rcParams['font.family'] = 'AppleGothic' # Mac\n",
    "matplotlib.rcParams['font.size'] = 15 # 글자 크기\n",
    "matplotlib.rcParams['axes.unicode_minus'] = False # 한글 폰트 사용 시, 마이너스 글자가 깨지는 현상을 해결\n",
    "\n",
    "x = [1, 2, 3]\n",
    "y = [2, 4, 8]\n",
    "\n",
    "plt.plot(x, y, label='범례')\n",
    "plt.legend(loc=(0.7, 0.8)) # x축, y축 (0~1 사이)\n",
    "plt.show()"
   ]
  },
  {
   "cell_type": "code",
   "execution_count": 134,
   "id": "dc1800ed-7235-4ee0-84d5-0e3f44f54dad",
   "metadata": {},
   "outputs": [
    {
     "data": {
      "image/png": "[encoded data removed]",
      "text/plain": [
       "<Figure size 1500x750 with 1 Axes>"
      ]
     },
     "metadata": {},
     "output_type": "display_data"
    }
   ],
   "source": [
    "import matplotlib.pyplot as plt\n",
    "import matplotlib\n",
    "matplotlib.rcParams['font.family'] = 'Malgun Gothic' # Windows\n",
    "# matplotlib.rcParams['font.family'] = 'AppleGothic' # Mac\n",
    "matplotlib.rcParams['font.size'] = 15 # 글자 크기\n",
    "matplotlib.rcParams['axes.unicode_minus'] = False # 한글 폰트 사용 시, 마이너스 글자가 깨지는 현상을 해결\n",
    "\n",
    "x = [1, 2, 3]\n",
    "y = [2, 4, 8]\n",
    "\n",
    "plt.figure(figsize=(10, 5), dpi=150, facecolor='yellow') # dots per inch, 확대\n",
    "plt.plot(x, y, \n",
    "         linewidth=5,\n",
    "         marker='o', markersize=20, markeredgecolor='red', markerfacecolor='yellow',\n",
    "         linestyle='-.',\n",
    "         color='g'         \n",
    "         )\n",
    "plt.show()"
   ]
  },
  {
   "cell_type": "code",
   "execution_count": 135,
   "id": "85b66bb6-64a2-4bfc-ad22-89503ab20c18",
   "metadata": {},
   "outputs": [
    {
     "data": {
      "image/png": "[encoded data removed]",
      "text/plain": [
       "<Figure size 1280x960 with 1 Axes>"
      ]
     },
     "metadata": {},
     "output_type": "display_data"
    },
    {
     "data": {
      "text/plain": [
       "<Figure size 640x480 with 0 Axes>"
      ]
     },
     "metadata": {},
     "output_type": "display_data"
    }
   ],
   "source": [
    "import matplotlib.pyplot as plt\n",
    "import matplotlib\n",
    "matplotlib.rcParams['font.family'] = 'Malgun Gothic' # Windows\n",
    "# matplotlib.rcParams['font.family'] = 'AppleGothic' # Mac\n",
    "matplotlib.rcParams['font.size'] = 15 # 글자 크기\n",
    "matplotlib.rcParams['axes.unicode_minus'] = False # 한글 폰트 사용 시, 마이너스 글자가 깨지는 현상을 해결\n",
    "\n",
    "x = [1, 2, 3]\n",
    "y = [2, 4, 8]\n",
    "\n",
    "plt.figure(dpi=200)\n",
    "plt.plot(x, y)\n",
    "plt.show()\n",
    "plt.savefig('graph_200.png', dpi=100)"
   ]
  },
  {
   "cell_type": "code",
   "execution_count": 136,
   "id": "aa8039a3-31e6-4424-b218-6e0975440785",
   "metadata": {},
   "outputs": [
    {
     "data": {
      "image/png": "[encoded data removed]",
      "text/plain": [
       "<Figure size 640x480 with 1 Axes>"
      ]
     },
     "metadata": {},
     "output_type": "display_data"
    }
   ],
   "source": [
    "import matplotlib.pyplot as plt\n",
    "import matplotlib\n",
    "matplotlib.rcParams['font.family'] = 'Malgun Gothic' # Windows\n",
    "# matplotlib.rcParams['font.family'] = 'AppleGothic' # Mac\n",
    "matplotlib.rcParams['font.size'] = 15 # 글자 크기\n",
    "matplotlib.rcParams['axes.unicode_minus'] = False # 한글 폰트 사용 시, 마이너스 글자가 깨지는 현상을 해결\n",
    "\n",
    "x = [1, 2, 3]\n",
    "y = [2, 4, 8]\n",
    "\n",
    "plt.plot(x, y, marker='o')\n",
    "\n",
    "for idx, txt in enumerate(y):\n",
    "    plt.text(x[idx], y[idx] + 0.3, txt, ha='center', color='blue')\n",
    "\n",
    "plt.show()"
   ]
  },
  {
   "cell_type": "code",
   "execution_count": 137,
   "id": "662db788-3a59-4067-a842-3ac2ece58704",
   "metadata": {},
   "outputs": [
    {
     "data": {
      "image/png": "[encoded data removed]",
      "text/plain": [
       "<Figure size 640x480 with 1 Axes>"
      ]
     },
     "metadata": {},
     "output_type": "display_data"
    }
   ],
   "source": [
    "import matplotlib.pyplot as plt\n",
    "import matplotlib\n",
    "matplotlib.rcParams['font.family'] = 'Malgun Gothic' # Windows\n",
    "# matplotlib.rcParams['font.family'] = 'AppleGothic' # Mac\n",
    "matplotlib.rcParams['font.size'] = 15 # 글자 크기\n",
    "matplotlib.rcParams['axes.unicode_minus'] = False # 한글 폰트 사용 시, 마이너스 글자가 깨지는 현상을 해결\n",
    "\n",
    "days = [1, 2, 3] # 1일, 2일, 3일\n",
    "az = [2, 4, 8] # (단위 : 만명) 1일부터 3일까지 아스트라제네카 접종인구\n",
    "pfizer = [5, 1, 3] # 화이타\n",
    "moderna = [1, 2, 5] # 모더나\n",
    "\n",
    "plt.plot(days, az, label='az')\n",
    "plt.plot(days, pfizer, label='pfizer', marker='o', linestyle='--')\n",
    "plt.plot(days, moderna, label='moderna', marker='s', ls='-.')\n",
    "\n",
    "plt.legend()\n",
    "\n",
    "plt.show()"
   ]
  },
  {
   "cell_type": "code",
   "execution_count": 138,
   "id": "12bb2164-f5d8-44aa-91c0-3466409c9ebb",
   "metadata": {},
   "outputs": [
    {
     "data": {
      "image/png": "[encoded data removed]",
      "text/plain": [
       "<Figure size 640x480 with 1 Axes>"
      ]
     },
     "metadata": {},
     "output_type": "display_data"
    }
   ],
   "source": [
    "import matplotlib.pyplot as plt\n",
    "import matplotlib\n",
    "matplotlib.rcParams['font.family'] = 'Malgun Gothic' # Windows\n",
    "# matplotlib.rcParams['font.family'] = 'AppleGothic' # Mac\n",
    "matplotlib.rcParams['font.size'] = 15 # 글자 크기\n",
    "matplotlib.rcParams['axes.unicode_minus'] = False # 한글 폰트 사용 시, 마이너스 글자가 깨지는 현상을 해결\n",
    "\n",
    "days = [1, 2, 3] # 1일, 2일, 3일\n",
    "az = [2, 4, 8] # (단위 : 만명) 1일부터 3일까지 아스트라제네카 접종인구\n",
    "pfizer = [5, 1, 3] # 화이타\n",
    "moderna = [1, 2, 5] # 모더나\n",
    "\n",
    "plt.plot(days, az, label='az')\n",
    "plt.plot(days, pfizer, label='pfizer', marker='o', linestyle='--')\n",
    "plt.plot(days, moderna, label='moderna', marker='s', ls='-.')\n",
    "\n",
    "plt.legend(ncol=3)\n",
    "\n",
    "plt.show()"
   ]
  },
  {
   "cell_type": "code",
   "execution_count": 139,
   "id": "3c2c4782-6853-49c1-bf71-9aa973951cf0",
   "metadata": {},
   "outputs": [
    {
     "data": {
      "image/png": "[encoded data removed]",
      "text/plain": [
       "<Figure size 640x480 with 1 Axes>"
      ]
     },
     "metadata": {},
     "output_type": "display_data"
    }
   ],
   "source": [
    "import matplotlib.pyplot as plt\n",
    "import matplotlib\n",
    "matplotlib.rcParams['font.family'] = 'Malgun Gothic' # Windows\n",
    "# matplotlib.rcParams['font.family'] = 'AppleGothic' # Mac\n",
    "matplotlib.rcParams['font.size'] = 15 # 글자 크기\n",
    "matplotlib.rcParams['axes.unicode_minus'] = False # 한글 폰트 사용 시, 마이너스 글자가 깨지는 현상을 해결\n",
    "\n",
    "labels = ['홍길동', '박문수', '임꺽정'] # 이름\n",
    "values = [190, 187, 184] # 키\n",
    "\n",
    "plt.barh(labels, values)\n",
    "plt.xlim(175, 195)\n",
    "\n",
    "plt.show()"
   ]
  },
  {
   "cell_type": "code",
   "execution_count": 140,
   "id": "77223f30-9046-4781-927b-df7450abfd02",
   "metadata": {},
   "outputs": [
    {
     "data": {
      "image/png": "[encoded data removed]",
      "text/plain": [
       "<Figure size 640x480 with 1 Axes>"
      ]
     },
     "metadata": {},
     "output_type": "display_data"
    }
   ],
   "source": [
    "import matplotlib.pyplot as plt\n",
    "import matplotlib\n",
    "matplotlib.rcParams['font.family'] = 'Malgun Gothic' # Windows\n",
    "# matplotlib.rcParams['font.family'] = 'AppleGothic' # Mac\n",
    "matplotlib.rcParams['font.size'] = 15 # 글자 크기\n",
    "matplotlib.rcParams['axes.unicode_minus'] = False # 한글 폰트 사용 시, 마이너스 글자가 깨지는 현상을 해결\n",
    "\n",
    "labels = ['홍길동', '박문수', '임꺽정'] # 이름\n",
    "values = [190, 187, 184] # 키\n",
    "\n",
    "# plt.barh(labels, values)\n",
    "# plt.xlim(175, 195)\n",
    "\n",
    "bar = plt.bar(labels, values)\n",
    "plt.ylim(175, 195)\n",
    "\n",
    "for idx, rect in enumerate(bar):\n",
    "    plt.text(idx, rect.get_height() + 0.5, values[idx], ha='center', color='blue')\n",
    "\n",
    "plt.show()"
   ]
  },
  {
   "cell_type": "code",
   "execution_count": 141,
   "id": "c6ca36c5-ec1a-44c4-9d5b-c7dbf348040c",
   "metadata": {},
   "outputs": [
    {
     "data": {
      "image/png": "[encoded data removed]",
      "text/plain": [
       "<Figure size 640x480 with 1 Axes>"
      ]
     },
     "metadata": {},
     "output_type": "display_data"
    }
   ],
   "source": [
    "import matplotlib.pyplot as plt\n",
    "import matplotlib\n",
    "matplotlib.rcParams['font.family'] = 'Malgun Gothic' # Windows\n",
    "# matplotlib.rcParams['font.family'] = 'AppleGothic' # Mac\n",
    "matplotlib.rcParams['font.size'] = 15 # 글자 크기\n",
    "matplotlib.rcParams['axes.unicode_minus'] = False # 한글 폰트 사용 시, 마이너스 글자가 깨지는 현상을 해결\n",
    "\n",
    "values = [30, 25, 20, 13, 10, 2]\n",
    "labels = ['Python', 'Java', 'Javascript', 'C#', 'C/C++', 'ETC']\n",
    "# colors = ['b', 'g', 'r', 'c', 'm', 'y']\n",
    "colors = ['#ffadad', '#ffd6a5', '#fdffb6', '#caffbf', '#9bf6ff', '#a0c4ff']\n",
    "explode = [0.05] * 6\n",
    "\n",
    "plt.pie(values, labels=labels, autopct='%.1f%%', startangle=90, counterclock=False, colors=colors, explode=explode)\n",
    "plt.show()"
   ]
  },
  {
   "cell_type": "markdown",
   "id": "450d8152-bc7a-4d17-9729-19cf0a43df40",
   "metadata": {},
   "source": [
    "Quiz\n",
    "```\n",
    "다음은 대한민국 영화 중에서 관객 수가 가장 많은 상위 8개의 데이터입니다.\n",
    "주어진 코드를 이용하여 퀴즈를 풀어보시오."
   ]
  },
  {
   "cell_type": "code",
   "execution_count": 142,
   "id": "9ae2acd6-dc7d-40bc-8736-c3a624924559",
   "metadata": {},
   "outputs": [
    {
     "name": "stdout",
     "output_type": "stream",
     "text": [
      "          영화  개봉 연도  관객 수    평점\n",
      "0         명량   2014  1761  8.88\n",
      "1       극한직업   2019  1626  9.20\n",
      "2  신과함께-죄와 벌   2017  1441  8.73\n",
      "3       국제시장   2014  1426  9.16\n",
      "4         괴물   2006  1301  8.62\n",
      "5        도둑들   2012  1298  7.64\n",
      "6    7번방의 선물   2013  1281  8.83\n",
      "7         암살   2015  1270  9.10\n"
     ]
    }
   ],
   "source": [
    "import pandas as pd\n",
    "import matplotlib.pyplot as plt\n",
    "import matplotlib\n",
    "matplotlib.rcParams['font.family'] = 'Malgun Gothic' # Windows\n",
    "# matplotlib.rcParams['font.family'] = 'AppleGothic' # Mac\n",
    "matplotlib.rcParams['font.size'] = 15\n",
    "matplotlib.rcParams['axes.unicode_minus'] = False\n",
    "\n",
    "data = {\n",
    "    '영화' : ['명량', '극한직업', '신과함께-죄와 벌', '국제시장', '괴물', '도둑들', '7번방의 선물', '암살'],\n",
    "    '개봉 연도' : [2014, 2019, 2017, 2014, 2006, 2012, 2013, 2015],\n",
    "    '관객 수' : [1761, 1626, 1441, 1426, 1301, 1298, 1281, 1270], # (단위 : 만 명)\n",
    "    '평점' : [8.88, 9.20, 8.73, 9.16, 8.62, 7.64, 8.83, 9.10]\n",
    "}\n",
    "df = pd.DataFrame(data)\n",
    "print(df)"
   ]
  },
  {
   "cell_type": "code",
   "execution_count": 144,
   "id": "bd2a4406-fc3c-43cb-931e-6aa603b91fe8",
   "metadata": {},
   "outputs": [
    {
     "data": {
      "image/png": "[encoded data removed]",
      "text/plain": [
       "<Figure size 1000x500 with 1 Axes>"
      ]
     },
     "metadata": {},
     "output_type": "display_data"
    }
   ],
   "source": [
    "import matplotlib.pyplot as plt\n",
    "\n",
    "plt.figure(figsize=(10, 5))  # 가로 10인치, 세로 5인치로 설정\n",
    "plt.bar(df['영화'], df['평점'])\n",
    "plt.show()"
   ]
  },
  {
   "cell_type": "code",
   "execution_count": 145,
   "id": "f23653f0-dfe0-4dc3-8785-2cdfe90bc203",
   "metadata": {},
   "outputs": [
    {
     "data": {
      "image/png": "[encoded data removed]",
      "text/plain": [
       "<Figure size 640x480 with 1 Axes>"
      ]
     },
     "metadata": {},
     "output_type": "display_data"
    }
   ],
   "source": [
    "plt.bar(df['영화'], df['평점'])\n",
    "plt.title('국내 Top 8 영화 평점 정보')\n",
    "plt.xlabel('영화')\n",
    "plt.xticks(rotation=90)\n",
    "plt.ylabel('평점')\n",
    "plt.show()"
   ]
  },
  {
   "cell_type": "code",
   "execution_count": 147,
   "id": "706f75d8-ab64-425b-a270-389063f1a4e9",
   "metadata": {},
   "outputs": [
    {
     "name": "stdout",
     "output_type": "stream",
     "text": [
      "         관객 수    평점\n",
      "개봉 연도              \n",
      "2006   1301.0  8.62\n",
      "2012   1298.0  7.64\n",
      "2013   1281.0  8.83\n",
      "2014   1593.5  9.02\n",
      "2015   1270.0  9.10\n",
      "2017   1441.0  8.73\n",
      "2019   1626.0  9.20\n"
     ]
    }
   ],
   "source": [
    "df_group = df.groupby('개봉 연도').mean(numeric_only=True)\n",
    "print(df_group)"
   ]
  },
  {
   "cell_type": "code",
   "execution_count": 148,
   "id": "2dcf42aa-4eca-4a0a-8be8-b028587ac9fe",
   "metadata": {},
   "outputs": [
    {
     "data": {
      "image/png": "[encoded data removed]",
      "text/plain": [
       "<Figure size 640x480 with 1 Axes>"
      ]
     },
     "metadata": {},
     "output_type": "display_data"
    }
   ],
   "source": [
    "plt.plot(df_group.index, df_group['평점'])\n",
    "plt.show()"
   ]
  },
  {
   "cell_type": "code",
   "execution_count": 150,
   "id": "420ca774-4a82-4f95-a54a-b62979b96536",
   "metadata": {},
   "outputs": [
    {
     "data": {
      "image/png": "[encoded data removed]",
      "text/plain": [
       "<Figure size 640x480 with 1 Axes>"
      ]
     },
     "metadata": {},
     "output_type": "display_data"
    }
   ],
   "source": [
    "import matplotlib.pyplot as plt\n",
    "\n",
    "# 숫자형 컬럼만 선택해서 그룹 평균 계산\n",
    "df_group = df.groupby('개봉 연도').mean(numeric_only=True)\n",
    "\n",
    "# 라인 그래프 그리기\n",
    "plt.plot(df_group.index, df_group['평점'], marker='o')\n",
    "\n",
    "# X축 간격 지정\n",
    "plt.xticks([2005, 2010, 2015, 2020])\n",
    "\n",
    "# Y축 범위 설정\n",
    "plt.ylim(7, 10)\n",
    "\n",
    "# 그래프 보여주기\n",
    "plt.show()"
   ]
  },
  {
   "cell_type": "code",
   "execution_count": 151,
   "id": "f423e167-61ad-4630-98e2-d7161fb96033",
   "metadata": {},
   "outputs": [
    {
     "data": {
      "image/png": "[encoded data removed]",
      "text/plain": [
       "<Figure size 640x480 with 1 Axes>"
      ]
     },
     "metadata": {},
     "output_type": "display_data"
    }
   ],
   "source": [
    "filt = df['평점'] >= 9.0\n",
    "values = [len(df[filt]), len(df[~filt])]\n",
    "labels = ['9점 이상', '9점 미만']\n",
    "\n",
    "plt.pie(values, labels=labels, autopct='%.1f%%')\n",
    "plt.legend(loc=(1, 0.3))\n",
    "plt.show()"
   ]
  },
  {
   "cell_type": "markdown",
   "id": "fa56b349-767b-4043-bef1-4398ba7e680c",
   "metadata": {},
   "source": [
    "## 『2-3』 빅데이터 분석 도구 –advanced"
   ]
  },
  {
   "cell_type": "markdown",
   "id": "e7c13d00-47ae-404a-b714-148eb2cf5d6c",
   "metadata": {},
   "source": [
    "### 파이썬 표준 입/출력"
   ]
  },
  {
   "cell_type": "markdown",
   "id": "be942a95-4613-41f6-8902-a2945928cec0",
   "metadata": {},
   "source": [
    "1. 표준 입출력"
   ]
  },
  {
   "cell_type": "code",
   "execution_count": 153,
   "id": "9d62cbde-469c-4c01-9d6c-9923cba046b6",
   "metadata": {},
   "outputs": [
    {
     "name": "stdout",
     "output_type": "stream",
     "text": [
      "Coffee Tea\n",
      "CoffeeTea\n"
     ]
    }
   ],
   "source": [
    "print(\"Coffee\", \"Tea\")\n",
    "print(\"Coffee\" + \"Tea\")"
   ]
  },
  {
   "cell_type": "code",
   "execution_count": 154,
   "id": "faf1ea82-c88f-4236-8260-264d093b4572",
   "metadata": {},
   "outputs": [
    {
     "name": "stdout",
     "output_type": "stream",
     "text": [
      "Coffee,Tea\n",
      "Coffee vs Tea vs Smoothie\n",
      "Coffee,Tea?무엇이 더 맛있을까요?\n"
     ]
    }
   ],
   "source": [
    "print(\"Coffee\", \"Tea\", sep=\",\") # 값들을 콤마(,) 로 구분\n",
    "print(\"Coffee\", \"Tea\", \"Smoothie\", sep=\" vs \") # 값들을 \" vs \" 로 구분\n",
    "print(\"Coffee\", \"Tea\", sep=\",\", end=\"?\")\n",
    "print(\"무엇이 더 맛있을까요?\")"
   ]
  },
  {
   "cell_type": "code",
   "execution_count": 5,
   "id": "e41cf876-2fd6-4694-a7d6-4c98a04a477e",
   "metadata": {},
   "outputs": [
    {
     "name": "stdout",
     "output_type": "stream",
     "text": [
      "국어 100\n",
      "수학 50\n",
      "영어 80\n",
      "국어      : 100\n",
      "수학      :  50\n",
      "영어      :  80\n"
     ]
    }
   ],
   "source": [
    "scores = {\"국어\":100, \"수학\":50, \"영어\":80}\n",
    "\n",
    "for subject, score in scores.items(): # key, value\n",
    "    print(subject, score)\n",
    "\n",
    "scores = {\"국어\":100, \"수학\":50, \"영어\":80}\n",
    "\n",
    "for subject, score in scores.items():\n",
    "    print(subject.ljust(8), str(score).rjust(4), sep=\":\")"
   ]
  },
  {
   "cell_type": "code",
   "execution_count": 6,
   "id": "6efb5f6e-6f2a-433b-92fd-3371a381a636",
   "metadata": {},
   "outputs": [
    {
     "name": "stdout",
     "output_type": "stream",
     "text": [
      "대기번호 : 1\n",
      "대기번호 : 2\n",
      "대기번호 : 3\n",
      "대기번호 : 4\n",
      "대기번호 : 5\n",
      "대기번호 : 6\n",
      "대기번호 : 7\n",
      "대기번호 : 8\n",
      "대기번호 : 9\n",
      "대기번호 : 10\n",
      "대기번호 : 11\n",
      "대기번호 : 12\n",
      "대기번호 : 13\n",
      "대기번호 : 14\n",
      "대기번호 : 15\n",
      "대기번호 : 16\n",
      "대기번호 : 17\n",
      "대기번호 : 18\n",
      "대기번호 : 19\n",
      "대기번호 : 20\n",
      "대기번호 : 001\n",
      "대기번호 : 002\n",
      "대기번호 : 003\n",
      "대기번호 : 004\n",
      "대기번호 : 005\n",
      "대기번호 : 006\n",
      "대기번호 : 007\n",
      "대기번호 : 008\n",
      "대기번호 : 009\n",
      "대기번호 : 010\n",
      "대기번호 : 011\n",
      "대기번호 : 012\n",
      "대기번호 : 013\n",
      "대기번호 : 014\n",
      "대기번호 : 015\n",
      "대기번호 : 016\n",
      "대기번호 : 017\n",
      "대기번호 : 018\n",
      "대기번호 : 019\n",
      "대기번호 : 020\n"
     ]
    }
   ],
   "source": [
    "for num in range(1, 21): # 1~20 까지의 숫자\n",
    "    print(\"대기번호 : \" + str(num))\n",
    "\n",
    "for num in range(1, 21): # 1~20 까지의 숫자\n",
    "    print(\"대기번호 : \" + str(num).zfill(3))"
   ]
  },
  {
   "cell_type": "markdown",
   "id": "ab669652-6731-4b7b-84ac-e69ff99137a0",
   "metadata": {},
   "source": [
    "2. 파이썬과 문자"
   ]
  },
  {
   "cell_type": "code",
   "execution_count": 156,
   "id": "f498dbd6-dc23-4c0a-8495-c5f465863277",
   "metadata": {},
   "outputs": [
    {
     "name": "stdout",
     "output_type": "stream",
     "text": [
      "Hello!\n",
      "한글도 쓸 수 있어요.\n"
     ]
    }
   ],
   "source": [
    "print(\"Hello!\")\n",
    "print('한글도 쓸 수 있어요.')"
   ]
  },
  {
   "cell_type": "code",
   "execution_count": 157,
   "id": "ab9740f9-66c3-4655-9a82-800d8187d57b",
   "metadata": {},
   "outputs": [
    {
     "name": "stdout",
     "output_type": "stream",
     "text": [
      "내 이름은 홍길동입니다.\n"
     ]
    }
   ],
   "source": [
    "print(\"내 이름은 \" + \"홍길동\" + \"입니다.\")"
   ]
  },
  {
   "cell_type": "code",
   "execution_count": 158,
   "id": "5daf6866-5eab-4408-90d5-73463a46fcc2",
   "metadata": {},
   "outputs": [
    {
     "name": "stdout",
     "output_type": "stream",
     "text": [
      "**********\n",
      "별표를 10번 출력합니다.\n",
      "**********\n"
     ]
    }
   ],
   "source": [
    "print(\"*\" * 10)\n",
    "n = 10\n",
    "print(\"별표를 \" + str(n) + \"번 출력합니다.\")\n",
    "print(\"*\" * n)"
   ]
  },
  {
   "cell_type": "code",
   "execution_count": 159,
   "id": "dbcb41d4-fb30-4a8c-97da-0b537de2e102",
   "metadata": {},
   "outputs": [
    {
     "name": "stdout",
     "output_type": "stream",
     "text": [
      "한 줄 쓰고\n",
      "그 다음 줄을 쓴다.\n"
     ]
    }
   ],
   "source": [
    "print(\"한 줄 쓰고\\n그 다음 줄을 쓴다.\")"
   ]
  },
  {
   "cell_type": "code",
   "execution_count": 160,
   "id": "4a6873b6-2142-483c-a0bf-9e8fc8c01c7c",
   "metadata": {},
   "outputs": [
    {
     "name": "stdout",
     "output_type": "stream",
     "text": [
      "한 줄 쓰고 이어서 쓴다.\n"
     ]
    }
   ],
   "source": [
    "print(\"한 줄 쓰고 \", end=\"\")\n",
    "print(\"이어서 쓴다.\")"
   ]
  },
  {
   "cell_type": "code",
   "execution_count": 161,
   "id": "77f9d6b6-8a89-45bc-b996-1e929da21962",
   "metadata": {},
   "outputs": [
    {
     "name": "stdout",
     "output_type": "stream",
     "text": [
      "내 이름은 홍길동입니다.\n",
      "$ 기호를 20번 출력합니다.\n",
      "$$$$$$$$$$$$$$$$$$$$\n"
     ]
    }
   ],
   "source": [
    "name = \"홍길동\"\n",
    "print(\"내 이름은 \" + name + \"입니다.\")\n",
    "mark = \"$\"\n",
    "n = 20\n",
    "print(mark + \" 기호를 \" + str(n) + \"번 출력합니다.\")\n",
    "print(mark * n)"
   ]
  },
  {
   "cell_type": "code",
   "execution_count": 163,
   "id": "b3591516-1428-441a-80ac-722774270e5b",
   "metadata": {},
   "outputs": [
    {
     "name": "stdout",
     "output_type": "stream",
     "text": [
      "둘리가 \"호이!\"하고 말했어요.\n",
      "둘리가 '이제 어디로 가지?'하고 생각했어요.\n",
      "둘리가 \"호이!\"하고 말했어요\n"
     ]
    }
   ],
   "source": [
    "print('둘리가 \"호이!\"하고 말했어요.')\n",
    "print(\"둘리가 '이제 어디로 가지?'하고 생각했어요.\")\n",
    "# print(\"둘리가 \"호이!\"하고 말했어요\")\n",
    "print(\"둘리가 \\\"호이!\\\"하고 말했어요\")"
   ]
  },
  {
   "cell_type": "code",
   "execution_count": 167,
   "id": "f4630841-d02a-4230-aaf2-afede73666b7",
   "metadata": {},
   "outputs": [
    {
     "name": "stdout",
     "output_type": "stream",
     "text": [
      "Life is short, You need Python.\n",
      "Life is short,\n",
      " You need Python.\n",
      "Pine \"Apple\"입니다.\n",
      "C:\\DEV\\PycharmProjects\\python_works\n",
      "PineApple\n",
      "RedApple\n",
      "Red\tApple\n"
     ]
    }
   ],
   "source": [
    "print(\"Life is short, You need Python.\")\n",
    "print(\"Life is short,\\n You need Python.\")\n",
    "print(\"Pine \\\"Apple\\\"입니다.\") # Pine\"Apple\"입니다.\n",
    "print(\"C:\\\\DEV\\\\PycharmProjects\\\\python_works\")\n",
    "print(\"Red Apple\\rPine\") # PineApple\n",
    "print(\"Redd\\bApple\") # RedApple\n",
    "print(\"Red\\tApple\") # Red     Apple"
   ]
  },
  {
   "cell_type": "code",
   "execution_count": 169,
   "id": "6395eafd-78e7-42de-8604-6933671de1b0",
   "metadata": {},
   "outputs": [
    {
     "name": "stdout",
     "output_type": "stream",
     "text": [
      "\n",
      "파이썬(영어: Python)은 1991년 프로그래머인 \n",
      "귀도 반 로섬(Guido van Rossum)이 발표한 고급 프로그래밍 언어로,\n",
      "플랫폼 독립적이며 인터프리터식, 객체지향적, 동적 타이핑(dynamically typed) \n",
      "대화형 언어이다. 파이썬이라는 이름은 귀도가 좋아하는 코미디 〈Monty Python's Flying \n",
      "Circus〉에서 따온 것이다.\n"
     ]
    }
   ],
   "source": [
    "multi_line_string = \"\"\"\n",
    "파이썬(영어: Python)은 1991년 프로그래머인 \n",
    "귀도 반 로섬(Guido van Rossum)이 발표한 고급 프로그래밍 언어로,\n",
    "플랫폼 독립적이며 인터프리터식, 객체지향적, 동적 타이핑(dynamically typed) \n",
    "대화형 언어이다. 파이썬이라는 이름은 귀도가 좋아하는 코미디 〈Monty Python's Flying \n",
    "Circus〉에서 따온 것이다.\"\"\"\n",
    "\n",
    "print(multi_line_string)"
   ]
  },
  {
   "cell_type": "code",
   "execution_count": 170,
   "id": "520bac7a-28ab-41e3-a258-a025be56024e",
   "metadata": {},
   "outputs": [
    {
     "name": "stdout",
     "output_type": "stream",
     "text": [
      "2023-03-01\n"
     ]
    }
   ],
   "source": [
    "print(\"2023.03.01\".replace(\".\",\"-\"))"
   ]
  },
  {
   "cell_type": "code",
   "execution_count": 171,
   "id": "be5746e9-b85c-4654-8502-7c69f0f55e94",
   "metadata": {},
   "outputs": [
    {
     "name": "stdout",
     "output_type": "stream",
     "text": [
      "wordwithspace\n"
     ]
    }
   ],
   "source": [
    "print(\"word with space\".replace(\" \",\"\"))"
   ]
  },
  {
   "cell_type": "code",
   "execution_count": 1,
   "id": "fdaa27af-0392-4867-8c58-b9b2220295d1",
   "metadata": {},
   "outputs": [
    {
     "name": "stdout",
     "output_type": "stream",
     "text": [
      "life is short, you need python.\n",
      "LIFE IS SHORT, YOU NEED PYTHON.\n",
      "True\n",
      "31\n",
      "Life is short, You need Java.\n",
      "19\n",
      "29\n",
      "19\n",
      "29\n",
      "-1\n",
      "2\n"
     ]
    }
   ],
   "source": [
    "python = \"Life is short, You need Python.\"\n",
    "\n",
    "print(python.lower()) \n",
    "print(python.upper()) \n",
    "print(python[0].isupper()) # True : 0 번째 인덱스의 값이 대문자인지 확인\n",
    "print(len(python)) # 17 : 띄어쓰기를 포함한 문자열의 전체 길이 (length)\n",
    "print(python.replace(\"Python\", \"Java\")) \n",
    "index = python.index(\"n\") # 처음으로 발견된 n 의 인덱스\n",
    "print(index) # 5 : Python 의 n\n",
    "index = python.index(\"n\", index + 1) # 6 번째 인덱스 이후에 처음으로 발견된 n 의 인덱스 \n",
    "print(index) \n",
    "find = python.find(\"n\") # 처음으로 발견된 n 의 인덱스\n",
    "print(find) # 5 : Python 의 n\n",
    "find = python.find(\"n\", find + 1) # 6 번째 인덱스 이후에 처음으로 발견된 n 의 인덱스 \n",
    "print(find) \n",
    "#print(python.index(\"Java\")) # Java 가 없기 때문에 에러가 발생하며 프로그램 종료\n",
    "print(python.find(\"Java\")) # Java 가 없으면 -1 을 반환(출력)하며 프로그램 계속 수행\n",
    "print(python.count(\"n\")) # 2 : 문자열 내에서 n 이 나온 횟수"
   ]
  },
  {
   "cell_type": "markdown",
   "id": "16e6a945-4098-4f32-9286-03b8277d7986",
   "metadata": {},
   "source": [
    "3. 문자열 형식화"
   ]
  },
  {
   "cell_type": "code",
   "execution_count": 3,
   "id": "9afc375b-7ca6-480d-8768-aade5f6a63f2",
   "metadata": {},
   "outputs": [
    {
     "name": "stdout",
     "output_type": "stream",
     "text": [
      "나는 20살입니다.\n",
      "나는 파이썬을 좋아합니다.\n",
      "Apple 은 A로 시작해요.\n",
      "나는 20살입니다.\n",
      "나는 파란색과 빨간색을 좋아해요.\n"
     ]
    }
   ],
   "source": [
    "# 방법 1\n",
    "\n",
    "print(\"나는 %d살입니다.\" % 20) # 나는 20살입니다\n",
    "print(\"나는 %s을 좋아합니다.\" % \"파이썬\") # 나는 파이썬을 좋아합니다.\n",
    "print(\"Apple 은 %c로 시작해요.\" % \"A\") # Apple 은 A로 시작해요.\n",
    "\n",
    "print(\"나는 %s살입니다.\" % 20) # 나는 20살입니다 (%s 로도 정수값 표현 가능)\n",
    "\n",
    "print(\"나는 %s색과 %s색을 좋아해요.\" % (\"파란\", \"빨간\")) # 나는 파란색과 빨간색을 좋아해요."
   ]
  },
  {
   "cell_type": "code",
   "execution_count": 7,
   "id": "f9cd0a81-9cd3-47a4-9bd5-30bc8bfff25f",
   "metadata": {},
   "outputs": [
    {
     "name": "stdout",
     "output_type": "stream",
     "text": [
      "나는 20살입니다.\n",
      "나는 파란색과 빨간색을 좋아해요.\n",
      "나는 파란색과 빨간색을 좋아해요.\n",
      "나는 빨간색과 파란색을 좋아해요.\n"
     ]
    }
   ],
   "source": [
    "# 방법 2\n",
    "\n",
    "print(\"나는 {}살입니다.\".format(20)) # 나는 20살입니다.\n",
    "print(\"나는 {}색과 {}색을 좋아해요.\".format(\"파란\", \"빨간\")) # 나는 파란색과 빨간색을 좋아해요\n",
    "print(\"나는 {0}색과 {1}색을 좋아해요.\".format(\"파란\", \"빨간\")) # 나는 파란색과 빨간색을 좋아해요\n",
    "print(\"나는 {1}색과 {0}색을 좋아해요.\".format(\"파란\", \"빨간\")) # 나는 빨간색과 파란색을 좋아해요"
   ]
  },
  {
   "cell_type": "code",
   "execution_count": 8,
   "id": "332f6508-8e8e-47f4-9627-106542d0a751",
   "metadata": {},
   "outputs": [
    {
     "name": "stdout",
     "output_type": "stream",
     "text": [
      "나는 20살이며, 빨간색을 좋아해요.\n",
      "나는 20살이며, 빨간색을 좋아해요.\n"
     ]
    }
   ],
   "source": [
    "# 방법 3\n",
    "\n",
    "print(\"나는 {age}살이며, {color}색을 좋아해요.\".format(age=20, color=\"빨간\"))\n",
    "# 나는 20살이며, 빨간색을 좋아해요\n",
    "\n",
    "print(\"나는 {age}살이며, {color}색을 좋아해요.\".format(color=\"빨간\", age=20))\n",
    "# 나는 20살이며, 빨간색을 좋아해요 (.format 뒤에 순서를 변경해도 괜찮아요)"
   ]
  },
  {
   "cell_type": "code",
   "execution_count": 9,
   "id": "2afb6468-841d-4c77-9cdb-05143b696b7a",
   "metadata": {},
   "outputs": [
    {
     "name": "stdout",
     "output_type": "stream",
     "text": [
      "[*                   ]\n",
      "[                   *]\n",
      "[         *          ]\n",
      "[             0.33333]\n",
      "[       1,234,567,890]\n"
     ]
    }
   ],
   "source": [
    "print(\"[{:<20}]\".format(\"*\"))\n",
    "print(\"[{:>20}]\".format(\"*\"))\n",
    "print(\"[{:^20}]\".format(\"*\"))\n",
    "print(\"[{:20.5f}]\".format(1 / 3))\n",
    "print(\"[{:20,}]\".format(1234567890))"
   ]
  },
  {
   "cell_type": "code",
   "execution_count": 10,
   "id": "cc83ada9-36e3-452e-ab07-43d6c17b491b",
   "metadata": {},
   "outputs": [
    {
     "name": "stdout",
     "output_type": "stream",
     "text": [
      "[*-------------------]\n",
      "[-------------------*]\n",
      "[---------*----------]\n"
     ]
    }
   ],
   "source": [
    "print(\"[{:-<20}]\".format(\"*\"))\n",
    "print(\"[{:->20}]\".format(\"*\"))\n",
    "print(\"[{:-^20}]\".format(\"*\"))"
   ]
  },
  {
   "cell_type": "code",
   "execution_count": 11,
   "id": "de52b336-7a4c-4ddc-bfd0-df7b4f4724f0",
   "metadata": {},
   "outputs": [
    {
     "name": "stdout",
     "output_type": "stream",
     "text": [
      "나는 20살이며, 빨간색을 좋아해요.\n"
     ]
    }
   ],
   "source": [
    "# 방법 4 (파이썬 버전 3.6 부터 가능)\n",
    "\n",
    "age = 20\n",
    "color = \"빨간\"\n",
    "print(f\"나는 {age}살이며, {color}색을 좋아해요.\") # 나는 20살이며, 빨간색을 좋아해요."
   ]
  },
  {
   "cell_type": "code",
   "execution_count": 12,
   "id": "62ff9ea4-5090-4f2c-97ac-f50e38197035",
   "metadata": {},
   "outputs": [
    {
     "name": "stdout",
     "output_type": "stream",
     "text": [
      "[1234567             ]\n",
      "[             1234567]\n",
      "[      1234567       ]\n",
      "[1234567-------------]\n",
      "[-------------1234567]\n",
      "[------1234567-------]\n",
      "[-----1,234,567------]\n",
      "[               3.142]\n"
     ]
    }
   ],
   "source": [
    "number = 1234567\n",
    "print(f\"[{number:<20}]\")\n",
    "print(f\"[{number:>20}]\")\n",
    "print(f\"[{number:^20}]\")\n",
    "print(f\"[{number:-<20}]\")\n",
    "print(f\"[{number:->20}]\")\n",
    "print(f\"[{number:-^20}]\")\n",
    "print(f\"[{number:-^20,}]\")\n",
    "\n",
    "f_number = 3.141592\n",
    "print(f\"[{f_number:20.3f}]\")"
   ]
  },
  {
   "cell_type": "markdown",
   "id": "26d83a0c-5ec3-49b6-8af0-086269919528",
   "metadata": {},
   "source": [
    "4. 파일 입/출력"
   ]
  },
  {
   "cell_type": "code",
   "execution_count": 13,
   "id": "09bcdc58-95a3-44aa-ae9b-cd4f8b4ef61c",
   "metadata": {},
   "outputs": [],
   "source": [
    "#!/usr/bin/env python3\n",
    "from math import exp, log, sqrt\n",
    "import re\n",
    "from datetime import date, time, datetime, timedelta\n",
    "from operator import itemgetter\n",
    "import sys"
   ]
  },
  {
   "cell_type": "code",
   "execution_count": 16,
   "id": "c6e9351d-c0fd-4d3d-aa5b-6e9730cdd497",
   "metadata": {},
   "outputs": [
    {
     "name": "stdout",
     "output_type": "stream",
     "text": [
      "Output ###: \n",
      "I'm\n",
      "already\n",
      "much\n",
      "better\n",
      "at\n",
      "Python.11번째 줄입니다.\n",
      "12번째 줄입니다.\n",
      "13번째 줄입니다.\n",
      "14번째 줄입니다.\n",
      "15번째 줄입니다.\n",
      "16번째 줄입니다.\n",
      "17번째 줄입니다.\n",
      "18번째 줄입니다.\n",
      "19번째 줄입니다.\n"
     ]
    }
   ],
   "source": [
    "print(\"Output ###: \")\n",
    "with open(\"datasets/first_text.txt\", 'r', encoding='utf-8') as filereader:\n",
    "    for row in filereader:\n",
    "        print(row.strip())\n",
    "filereader.close()"
   ]
  },
  {
   "cell_type": "code",
   "execution_count": 21,
   "id": "242c4204-dec8-4835-9c6a-9fc96773fc9c",
   "metadata": {},
   "outputs": [
    {
     "name": "stdout",
     "output_type": "stream",
     "text": [
      "I'm\n",
      "\n"
     ]
    }
   ],
   "source": [
    "F1 = open(\"datasets/first_text.txt\", 'r', encoding='utf-8')\n",
    "line=F1.readline()\n",
    "print(line)\n",
    "F1.close()"
   ]
  },
  {
   "cell_type": "code",
   "execution_count": 22,
   "id": "6f9b51b2-ca15-410f-a5b5-a913b1cc25cf",
   "metadata": {},
   "outputs": [
    {
     "name": "stdout",
     "output_type": "stream",
     "text": [
      "I'm\n",
      "\n",
      "already \n",
      "\n",
      "much \n",
      "\n",
      "better \n",
      "\n",
      "at \n",
      "\n",
      "Python.11번째 줄입니다. \n",
      "\n",
      "12번째 줄입니다. \n",
      "\n",
      "13번째 줄입니다. \n",
      "\n",
      "14번째 줄입니다. \n",
      "\n",
      "15번째 줄입니다. \n",
      "\n",
      "16번째 줄입니다. \n",
      "\n",
      "17번째 줄입니다. \n",
      "\n",
      "18번째 줄입니다. \n",
      "\n",
      "19번째 줄입니다. \n",
      "\n"
     ]
    }
   ],
   "source": [
    "F1=open(\"datasets/first_text.txt\", 'r', encoding='utf-8')\n",
    "while True:\n",
    "  line=F1.readline()\n",
    "  if not line:\n",
    "    break\n",
    "  print(line)\n",
    "F1.close()"
   ]
  },
  {
   "cell_type": "code",
   "execution_count": 23,
   "id": "57bed008-a4ad-46bb-a29c-be9285d49867",
   "metadata": {},
   "outputs": [
    {
     "name": "stdout",
     "output_type": "stream",
     "text": [
      "I'm\n",
      "already \n",
      "much \n",
      "better \n",
      "at \n",
      "Python.11번째 줄입니다. \n",
      "12번째 줄입니다. \n",
      "13번째 줄입니다. \n",
      "14번째 줄입니다. \n",
      "15번째 줄입니다. \n",
      "16번째 줄입니다. \n",
      "17번째 줄입니다. \n",
      "18번째 줄입니다. \n",
      "19번째 줄입니다. \n",
      "\n"
     ]
    }
   ],
   "source": [
    "F2=open(\"datasets/first_text.txt\", 'r', encoding='utf-8')\n",
    "line=F2.read()\n",
    "print(line)\n",
    "F2.close()"
   ]
  },
  {
   "cell_type": "code",
   "execution_count": 24,
   "id": "bfed9f6a-1751-45bb-93bc-10d77a7fa1ca",
   "metadata": {},
   "outputs": [],
   "source": [
    "F3=open(\"datasets/first_text.txt\",'a', encoding='utf-8')\n",
    "for i in range(11,20):\n",
    "  line = \"%d번째 줄입니다. \\n\" % i\n",
    "  F3.write(line)\n",
    "F3.close()"
   ]
  },
  {
   "cell_type": "code",
   "execution_count": 25,
   "id": "37aac2cf-2683-49b2-8195-e03db3e0d0f8",
   "metadata": {},
   "outputs": [
    {
     "name": "stdout",
     "output_type": "stream",
     "text": [
      "I'm\n",
      "already \n",
      "much \n",
      "better \n",
      "at \n",
      "Python.11번째 줄입니다. \n",
      "12번째 줄입니다. \n",
      "13번째 줄입니다. \n",
      "14번째 줄입니다. \n",
      "15번째 줄입니다. \n",
      "16번째 줄입니다. \n",
      "17번째 줄입니다. \n",
      "18번째 줄입니다. \n",
      "19번째 줄입니다. \n",
      "11번째 줄입니다. \n",
      "12번째 줄입니다. \n",
      "13번째 줄입니다. \n",
      "14번째 줄입니다. \n",
      "15번째 줄입니다. \n",
      "16번째 줄입니다. \n",
      "17번째 줄입니다. \n",
      "18번째 줄입니다. \n",
      "19번째 줄입니다. \n",
      "\n"
     ]
    }
   ],
   "source": [
    "F4=open(\"datasets/first_text.txt\", 'r', encoding='utf-8')\n",
    "line=F4.read()\n",
    "print(line)\n",
    "F4.close()"
   ]
  },
  {
   "cell_type": "code",
   "execution_count": 26,
   "id": "ce7c7f94-dd5a-4548-a95b-f7a310c46d18",
   "metadata": {},
   "outputs": [],
   "source": [
    "F5=open(\"datasets/noWith.txt\",'w', encoding='utf-8')\n",
    "F5.write(\"Life is too short, you need python!!!\")\n",
    "F5.close()"
   ]
  },
  {
   "cell_type": "code",
   "execution_count": 27,
   "id": "56478632-4c5d-4c91-ac56-3831feabd267",
   "metadata": {},
   "outputs": [],
   "source": [
    "with open(\"datasets/With.txt\",'w', encoding='utf-8') as F6:\n",
    "  F6.write(\"Life is too short, you need python!!!\")"
   ]
  },
  {
   "cell_type": "code",
   "execution_count": 28,
   "id": "e2cb4b6c-0e86-4dff-9d4f-84b867ac13b5",
   "metadata": {},
   "outputs": [
    {
     "name": "stdout",
     "output_type": "stream",
     "text": [
      "Output ###: Output written to file\n"
     ]
    }
   ],
   "source": [
    "my_letters = ['a', 'b', 'c', 'd', 'e', 'f', 'g', 'h', 'i', 'j']\n",
    "max_index = len(my_letters)\n",
    "filewriter = open(\"datasets/second_text.txt\", 'w', encoding='utf-8')\n",
    "for index_value in range(len(my_letters)):\n",
    "  if index_value < (max_index-1):\n",
    "    filewriter.write(my_letters[index_value]+'\\t')\n",
    "  else:\n",
    "      filewriter.write(my_letters[index_value]+'\\n')\n",
    "filewriter.close()\n",
    "print(\"Output ###: Output written to file\")"
   ]
  },
  {
   "cell_type": "code",
   "execution_count": 29,
   "id": "e966f9c1-15ec-4787-837c-3e0e68a03d32",
   "metadata": {},
   "outputs": [
    {
     "name": "stdout",
     "output_type": "stream",
     "text": [
      "{'Coffee Shop': 'My Coffee Shop', 'Menu': ['Coffee', 'Tea', 'Smoothie']}\n"
     ]
    }
   ],
   "source": [
    "import pickle # pickle 모듈 가져다 쓰기\n",
    "\n",
    "profile_file = open(\"MyModules/Coffee_pickle.pickle\", \"rb\") # 읽을 때에도 바이너리(binary) 명시\n",
    "profile = pickle.load(profile_file) # file 에 있는 정보를 불러와서 profile 에 저장\n",
    "\n",
    "print(profile)\n",
    "profile_file.close()"
   ]
  },
  {
   "cell_type": "markdown",
   "id": "15003832-e5af-4c77-8558-7986fd534289",
   "metadata": {},
   "source": [
    "Quiz\n",
    "```\n",
    "당신의 회사에서는 매주 1회 작성해야 하는 보고서가 있습니다.\n",
    "보고서는 항상 아래와 같은 형태로 출력되어야 합니다.\n",
    "\n",
    "- X 주차 주간보고 -\n",
    "부서 : \n",
    "이름 : \n",
    "업무 요약 :  \n",
    "\n",
    "1주차부터 50주차까지의 보고서 파일을 만드는 프로그램을 작성하시오.\n",
    "\n",
    "조건 : 파일명은 '1주차.txt', '2주차.txt', ... 와 같이 만듭니다.\n"
   ]
  },
  {
   "cell_type": "code",
   "execution_count": 32,
   "id": "dcb1a6c5-f898-41b6-9cbc-f9b9cf7f3157",
   "metadata": {},
   "outputs": [],
   "source": [
    "for i in range(1, 51):\n",
    "    with open(str(i) + \"주차.txt\", \"w\", encoding=\"utf8\") as report_file:\n",
    "        report_file.write(\"- {0} 주차 주간보고 -\".format(i))\n",
    "        report_file.write(\"\\n부서 : \")\n",
    "        report_file.write(\"\\n이름 : \")\n",
    "        report_file.write(\"\\n업무 요약 : \")"
   ]
  },
  {
   "cell_type": "markdown",
   "id": "8961d561-f82f-45f9-b313-dece724f4e03",
   "metadata": {},
   "source": [
    "### 웹-Flask 개발 환경 만들기"
   ]
  },
  {
   "cell_type": "code",
   "execution_count": null,
   "id": "d222015e-828a-4b1a-8b7c-277d572a55ce",
   "metadata": {},
   "outputs": [],
   "source": []
  }
 ],
 "metadata": {
  "colab": {
   "collapsed_sections": [
    "T5tSUn3wZFEz"
   ],
   "provenance": []
  },
  "kernelspec": {
   "display_name": "py3_10_basic",
   "language": "python",
   "name": "py3_10_basic"
  },
  "language_info": {
   "codemirror_mode": {
    "name": "ipython",
    "version": 3
   },
   "file_extension": ".py",
   "mimetype": "text/x-python",
   "name": "python",
   "nbconvert_exporter": "python",
   "pygments_lexer": "ipython3",
   "version": "3.10.11"
  }
 },
 "nbformat": 4,
 "nbformat_minor": 5
}
